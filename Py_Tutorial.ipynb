{
 "cells": [
  {
   "cell_type": "code",
   "execution_count": null,
   "id": "18341e95",
   "metadata": {},
   "outputs": [],
   "source": [
    "import sys\n",
    "from platform import python_version"
   ]
  },
  {
   "cell_type": "code",
   "execution_count": 1,
   "id": "a899a8dc",
   "metadata": {},
   "outputs": [],
   "source": [
    "import fibo"
   ]
  },
  {
   "cell_type": "code",
   "execution_count": 5,
   "id": "07d3eafd",
   "metadata": {},
   "outputs": [],
   "source": [
    "from fibo import fib, fib2"
   ]
  },
  {
   "cell_type": "code",
   "execution_count": 8,
   "id": "f2590996",
   "metadata": {},
   "outputs": [],
   "source": [
    "import fibo as fib"
   ]
  },
  {
   "cell_type": "code",
   "execution_count": 9,
   "id": "51d8bf34",
   "metadata": {},
   "outputs": [],
   "source": [
    "from fibo import fib as fibonacci"
   ]
  },
  {
   "cell_type": "code",
   "execution_count": 12,
   "id": "465fac0d",
   "metadata": {},
   "outputs": [],
   "source": [
    "import importlib"
   ]
  },
  {
   "cell_type": "code",
   "execution_count": 13,
   "id": "d8563522",
   "metadata": {},
   "outputs": [
    {
     "data": {
      "text/plain": [
       "<module 'fibo' from 'C:\\\\Users\\\\barker.FRENCH\\\\Jupyter Lab\\\\python_tutorial\\\\fibo.py'>"
      ]
     },
     "execution_count": 13,
     "metadata": {},
     "output_type": "execute_result"
    }
   ],
   "source": [
    "importlib.reload(fibo)"
   ]
  },
  {
   "cell_type": "code",
   "execution_count": null,
   "id": "fc7786a8",
   "metadata": {},
   "outputs": [],
   "source": [
    "sys.version"
   ]
  },
  {
   "cell_type": "code",
   "execution_count": null,
   "id": "4b8b82b8",
   "metadata": {},
   "outputs": [],
   "source": [
    "!python --version"
   ]
  },
  {
   "cell_type": "code",
   "execution_count": null,
   "id": "b842a925",
   "metadata": {},
   "outputs": [],
   "source": [
    "print(python_version())"
   ]
  },
  {
   "cell_type": "markdown",
   "id": "3abb7b7f",
   "metadata": {},
   "source": [
    "## 4.1 if Statements"
   ]
  },
  {
   "cell_type": "code",
   "execution_count": null,
   "id": "b0f5e6e8",
   "metadata": {},
   "outputs": [],
   "source": [
    "x = int(input('Please enter an integer: '))"
   ]
  },
  {
   "cell_type": "code",
   "execution_count": null,
   "id": "0647d8de",
   "metadata": {},
   "outputs": [],
   "source": [
    "if x < 0:\n",
    "    x = 0\n",
    "    print('Negative change to zero')\n",
    "elif x == 0:\n",
    "    print('Zero')\n",
    "elif x ==1:\n",
    "    print('Single')\n",
    "else:\n",
    "    print('More')"
   ]
  },
  {
   "cell_type": "markdown",
   "id": "f6359d1a",
   "metadata": {},
   "source": [
    "## 4.2 for Statements"
   ]
  },
  {
   "cell_type": "code",
   "execution_count": null,
   "id": "5ab06dab",
   "metadata": {},
   "outputs": [],
   "source": [
    "words = ['cat','window','defenestrate']\n",
    "\n",
    "for w in words:\n",
    "    print(w,len(w))"
   ]
  },
  {
   "cell_type": "code",
   "execution_count": null,
   "id": "4441e04f",
   "metadata": {},
   "outputs": [],
   "source": [
    "users = {'John': 'inactive','Sal':'active','Pete':'inactive', 'Joe':'inactive'}\n",
    "\n",
    "print('users', users)\n",
    "\n",
    "for user, status in users.copy().items():\n",
    "    if status == 'inactive':\n",
    "        del users[user]"
   ]
  },
  {
   "cell_type": "code",
   "execution_count": null,
   "id": "9a7553cc",
   "metadata": {},
   "outputs": [],
   "source": [
    "users"
   ]
  },
  {
   "cell_type": "code",
   "execution_count": null,
   "id": "1b543f23",
   "metadata": {},
   "outputs": [],
   "source": [
    "users = {'John': 'inactive','Sal':'active','Pete':'inactive', 'Joe':'inactive'}\n",
    "\n",
    "active_users = {}\n",
    "for user, status in users.items():\n",
    "    if status == 'active':\n",
    "        active_users[user] = status"
   ]
  },
  {
   "cell_type": "code",
   "execution_count": null,
   "id": "04bfc08e",
   "metadata": {},
   "outputs": [],
   "source": [
    "active_users"
   ]
  },
  {
   "cell_type": "markdown",
   "id": "fc9584b7",
   "metadata": {},
   "source": [
    "## 4.3 The range() Function"
   ]
  },
  {
   "cell_type": "code",
   "execution_count": null,
   "id": "3ee0a3dc",
   "metadata": {},
   "outputs": [],
   "source": [
    "for i in range(5):\n",
    "    print(i)"
   ]
  },
  {
   "cell_type": "code",
   "execution_count": null,
   "id": "08875b95",
   "metadata": {},
   "outputs": [],
   "source": [
    "for i in range(5, 10):\n",
    "    print(i)"
   ]
  },
  {
   "cell_type": "code",
   "execution_count": null,
   "id": "feb41b72",
   "metadata": {},
   "outputs": [],
   "source": [
    "for i in range(0,10,3):\n",
    "    print(i)"
   ]
  },
  {
   "cell_type": "code",
   "execution_count": null,
   "id": "466c05d6",
   "metadata": {},
   "outputs": [],
   "source": [
    "for i in range(-10,-100, -30):\n",
    "    print(i)"
   ]
  },
  {
   "cell_type": "code",
   "execution_count": null,
   "id": "ec4627b6",
   "metadata": {},
   "outputs": [],
   "source": [
    "a = ['Mary', 'had','a','little','lamb']\n",
    "\n",
    "for i in range(len(a)):\n",
    "    print(i, a[i])"
   ]
  },
  {
   "cell_type": "code",
   "execution_count": null,
   "id": "2b9eb92b",
   "metadata": {},
   "outputs": [],
   "source": [
    "sum(range(4))"
   ]
  },
  {
   "cell_type": "code",
   "execution_count": null,
   "id": "009924bb",
   "metadata": {},
   "outputs": [],
   "source": [
    "list(range(4))"
   ]
  },
  {
   "cell_type": "code",
   "execution_count": null,
   "id": "90d598da",
   "metadata": {},
   "outputs": [],
   "source": [
    "for i in range(2,10):\n",
    "    print(i)"
   ]
  },
  {
   "cell_type": "markdown",
   "id": "88bc4b97",
   "metadata": {},
   "source": [
    "## 4.4 break and continue Statements, and else Clauses on Loops"
   ]
  },
  {
   "cell_type": "code",
   "execution_count": null,
   "id": "f46966f9",
   "metadata": {},
   "outputs": [],
   "source": [
    "for n in range (2,10):\n",
    "    for x in range(2, n):\n",
    "        if n % x == 0:\n",
    "            print(n, 'equals', x, '*', n//x)\n",
    "            break\n",
    "    else:\n",
    "        # loop fell through without finding a factor\n",
    "        print(n, 'is a prime number')"
   ]
  },
  {
   "cell_type": "code",
   "execution_count": null,
   "id": "d4035f85",
   "metadata": {},
   "outputs": [],
   "source": [
    "for num in range(2,10):\n",
    "    if num % 2 == 0:\n",
    "        print('Found an even number', num)\n",
    "        continue\n",
    "    print('Found a number', num)"
   ]
  },
  {
   "cell_type": "markdown",
   "id": "84ad2412",
   "metadata": {},
   "source": [
    "## 4.5 pass Statements"
   ]
  },
  {
   "cell_type": "code",
   "execution_count": null,
   "id": "69610a5b",
   "metadata": {},
   "outputs": [],
   "source": [
    "while True:\n",
    "    pass"
   ]
  },
  {
   "cell_type": "code",
   "execution_count": null,
   "id": "43456ff8",
   "metadata": {},
   "outputs": [],
   "source": [
    "class MyEmptyClass:\n",
    "    pass"
   ]
  },
  {
   "cell_type": "markdown",
   "id": "acac27b0",
   "metadata": {},
   "source": [
    "## 4.6 Defining Functions"
   ]
  },
  {
   "cell_type": "code",
   "execution_count": 3,
   "id": "1d90d1f3",
   "metadata": {},
   "outputs": [],
   "source": [
    "def fib(n):\n",
    "    '''Print a Fibonacci series up to n.'''\n",
    "    a, b = 0, 1\n",
    "    while a < n:\n",
    "        print(a, end= ' ')\n",
    "        a, b = b, a + b\n",
    "    print()"
   ]
  },
  {
   "cell_type": "code",
   "execution_count": 4,
   "id": "b22e8fac",
   "metadata": {},
   "outputs": [
    {
     "name": "stdout",
     "output_type": "stream",
     "text": [
      "0 1 1 2 3 5 8 13 21 34 55 89 144 233 377 610 987 1597 \n"
     ]
    }
   ],
   "source": [
    "fib(2000)"
   ]
  },
  {
   "cell_type": "code",
   "execution_count": 5,
   "id": "7dce6b57",
   "metadata": {},
   "outputs": [
    {
     "data": {
      "text/plain": [
       "<function __main__.fib(n)>"
      ]
     },
     "execution_count": 5,
     "metadata": {},
     "output_type": "execute_result"
    }
   ],
   "source": [
    "fib"
   ]
  },
  {
   "cell_type": "code",
   "execution_count": 6,
   "id": "fa53a629",
   "metadata": {},
   "outputs": [],
   "source": [
    "f = fib"
   ]
  },
  {
   "cell_type": "code",
   "execution_count": 7,
   "id": "392b2f9a",
   "metadata": {},
   "outputs": [
    {
     "name": "stdout",
     "output_type": "stream",
     "text": [
      "0 1 1 2 3 5 8 13 21 34 55 89 \n"
     ]
    }
   ],
   "source": [
    "f(100)"
   ]
  },
  {
   "cell_type": "code",
   "execution_count": 8,
   "id": "ad0d518f",
   "metadata": {},
   "outputs": [],
   "source": [
    "def fib(n):\n",
    "    '''Print a Fibonacci series up to n.'''\n",
    "    result = []\n",
    "    a, b = 0, 1\n",
    "    while a < n:\n",
    "        result.append(a)\n",
    "        a, b = b, a + b\n",
    "    return result"
   ]
  },
  {
   "cell_type": "code",
   "execution_count": 9,
   "id": "ec1e24d2",
   "metadata": {},
   "outputs": [],
   "source": [
    "result = fib(100)"
   ]
  },
  {
   "cell_type": "code",
   "execution_count": 10,
   "id": "5717ca4f",
   "metadata": {},
   "outputs": [
    {
     "data": {
      "text/plain": [
       "[0, 1, 1, 2, 3, 5, 8, 13, 21, 34, 55, 89]"
      ]
     },
     "execution_count": 10,
     "metadata": {},
     "output_type": "execute_result"
    }
   ],
   "source": [
    "result"
   ]
  },
  {
   "cell_type": "markdown",
   "id": "3b4b3768",
   "metadata": {},
   "source": [
    "## More on Defining Functions"
   ]
  },
  {
   "cell_type": "code",
   "execution_count": 12,
   "id": "6de28be5",
   "metadata": {},
   "outputs": [],
   "source": [
    "def ask_ok(prompt, retries=4, reminder='Please try again!'):\n",
    "    while True:\n",
    "        ok = input(prompt)\n",
    "        if ok in ('y','ye','yes'):\n",
    "            return True\n",
    "        if ok in ('n','no','nop','nope'):\n",
    "            return False\n",
    "        retries = retries - 1 \n",
    "        if retries < 0:\n",
    "            raise ValueError('invalid user response')\n",
    "        print(reminder)"
   ]
  },
  {
   "cell_type": "code",
   "execution_count": 14,
   "id": "89bbf6ea",
   "metadata": {},
   "outputs": [
    {
     "name": "stdin",
     "output_type": "stream",
     "text": [
      "Do you really want to quit? s\n"
     ]
    },
    {
     "name": "stdout",
     "output_type": "stream",
     "text": [
      "Please try again!\n"
     ]
    },
    {
     "name": "stdin",
     "output_type": "stream",
     "text": [
      "Do you really want to quit? d\n"
     ]
    },
    {
     "name": "stdout",
     "output_type": "stream",
     "text": [
      "Please try again!\n"
     ]
    },
    {
     "name": "stdin",
     "output_type": "stream",
     "text": [
      "Do you really want to quit? d\n"
     ]
    },
    {
     "name": "stdout",
     "output_type": "stream",
     "text": [
      "Please try again!\n"
     ]
    },
    {
     "name": "stdin",
     "output_type": "stream",
     "text": [
      "Do you really want to quit? d\n"
     ]
    },
    {
     "name": "stdout",
     "output_type": "stream",
     "text": [
      "Please try again!\n"
     ]
    },
    {
     "name": "stdin",
     "output_type": "stream",
     "text": [
      "Do you really want to quit? d\n"
     ]
    },
    {
     "ename": "ValueError",
     "evalue": "invalid user response",
     "output_type": "error",
     "traceback": [
      "\u001b[1;31m---------------------------------------------------------------------------\u001b[0m",
      "\u001b[1;31mValueError\u001b[0m                                Traceback (most recent call last)",
      "\u001b[1;32m<ipython-input-14-7e01a16482aa>\u001b[0m in \u001b[0;36m<module>\u001b[1;34m\u001b[0m\n\u001b[1;32m----> 1\u001b[1;33m \u001b[0mask_ok\u001b[0m\u001b[1;33m(\u001b[0m\u001b[1;34m'Do you really want to quit?'\u001b[0m\u001b[1;33m)\u001b[0m\u001b[1;33m\u001b[0m\u001b[1;33m\u001b[0m\u001b[0m\n\u001b[0m",
      "\u001b[1;32m<ipython-input-12-1160316e6e02>\u001b[0m in \u001b[0;36mask_ok\u001b[1;34m(prompt, retries, reminder)\u001b[0m\n\u001b[0;32m      8\u001b[0m         \u001b[0mretries\u001b[0m \u001b[1;33m=\u001b[0m \u001b[0mretries\u001b[0m \u001b[1;33m-\u001b[0m \u001b[1;36m1\u001b[0m\u001b[1;33m\u001b[0m\u001b[1;33m\u001b[0m\u001b[0m\n\u001b[0;32m      9\u001b[0m         \u001b[1;32mif\u001b[0m \u001b[0mretries\u001b[0m \u001b[1;33m<\u001b[0m \u001b[1;36m0\u001b[0m\u001b[1;33m:\u001b[0m\u001b[1;33m\u001b[0m\u001b[1;33m\u001b[0m\u001b[0m\n\u001b[1;32m---> 10\u001b[1;33m             \u001b[1;32mraise\u001b[0m \u001b[0mValueError\u001b[0m\u001b[1;33m(\u001b[0m\u001b[1;34m'invalid user response'\u001b[0m\u001b[1;33m)\u001b[0m\u001b[1;33m\u001b[0m\u001b[1;33m\u001b[0m\u001b[0m\n\u001b[0m\u001b[0;32m     11\u001b[0m         \u001b[0mprint\u001b[0m\u001b[1;33m(\u001b[0m\u001b[0mreminder\u001b[0m\u001b[1;33m)\u001b[0m\u001b[1;33m\u001b[0m\u001b[1;33m\u001b[0m\u001b[0m\n",
      "\u001b[1;31mValueError\u001b[0m: invalid user response"
     ]
    }
   ],
   "source": [
    "ask_ok('Do you really want to quit?')"
   ]
  },
  {
   "cell_type": "code",
   "execution_count": 19,
   "id": "500a6f0c",
   "metadata": {},
   "outputs": [],
   "source": [
    "i = 6\n",
    "def f(arg=i):\n",
    "    print(arg)\n",
    "i = 5"
   ]
  },
  {
   "cell_type": "code",
   "execution_count": 20,
   "id": "2d7414b1",
   "metadata": {},
   "outputs": [
    {
     "name": "stdout",
     "output_type": "stream",
     "text": [
      "6\n"
     ]
    }
   ],
   "source": [
    "f()"
   ]
  },
  {
   "cell_type": "code",
   "execution_count": 21,
   "id": "a2227a19",
   "metadata": {},
   "outputs": [
    {
     "name": "stdout",
     "output_type": "stream",
     "text": [
      "[1]\n",
      "[1, 2]\n",
      "[1, 2, 4]\n"
     ]
    }
   ],
   "source": [
    "def f(a, L=[]):\n",
    "    L.append(a)\n",
    "    return L\n",
    "\n",
    "print(f(1))\n",
    "print(f(2))\n",
    "print(f(4))"
   ]
  },
  {
   "cell_type": "code",
   "execution_count": 22,
   "id": "bc4f3d0b",
   "metadata": {},
   "outputs": [],
   "source": [
    "def parrot(voltage, state='a stiff', action='voom', type='Norwegian Blue'):\n",
    "    print(\"-- This parrot wouldn't\", action, end=' ')\n",
    "    print(\"if you put\", voltage, \"volts through it.\")\n",
    "    print(\"-- Lovely plumage, the\", type)\n",
    "    print(\"-- It's\", state, \"!\")"
   ]
  },
  {
   "cell_type": "code",
   "execution_count": 23,
   "id": "740bf9b8",
   "metadata": {},
   "outputs": [
    {
     "name": "stdout",
     "output_type": "stream",
     "text": [
      "-- This parrot wouldn't voom if you put 100 volts through it.\n",
      "-- Lovely plumage, the Norwegian Blue\n",
      "-- It's a stiff !\n"
     ]
    }
   ],
   "source": [
    "parrot(100)"
   ]
  },
  {
   "cell_type": "code",
   "execution_count": 24,
   "id": "ccc894c8",
   "metadata": {},
   "outputs": [
    {
     "name": "stdout",
     "output_type": "stream",
     "text": [
      "-- This parrot wouldn't VOOOOOM if you put 1000000 volts through it.\n",
      "-- Lovely plumage, the Norwegian Blue\n",
      "-- It's a stiff !\n"
     ]
    }
   ],
   "source": [
    "parrot(voltage=1000000, action='VOOOOOM') "
   ]
  },
  {
   "cell_type": "code",
   "execution_count": 25,
   "id": "1b5ac061",
   "metadata": {},
   "outputs": [
    {
     "name": "stdout",
     "output_type": "stream",
     "text": [
      "-- This parrot wouldn't VOOOOOM if you put 1000000 volts through it.\n",
      "-- Lovely plumage, the Norwegian Blue\n",
      "-- It's a stiff !\n"
     ]
    }
   ],
   "source": [
    "parrot(action='VOOOOOM', voltage=1000000)    "
   ]
  },
  {
   "cell_type": "code",
   "execution_count": 26,
   "id": "724c8496",
   "metadata": {},
   "outputs": [
    {
     "name": "stdout",
     "output_type": "stream",
     "text": [
      "-- This parrot wouldn't jump if you put a million volts through it.\n",
      "-- Lovely plumage, the Norwegian Blue\n",
      "-- It's bereft of life !\n"
     ]
    }
   ],
   "source": [
    "parrot('a million', 'bereft of life', 'jump')"
   ]
  },
  {
   "cell_type": "code",
   "execution_count": 27,
   "id": "91e371a4",
   "metadata": {},
   "outputs": [
    {
     "name": "stdout",
     "output_type": "stream",
     "text": [
      "-- This parrot wouldn't voom if you put a thousand volts through it.\n",
      "-- Lovely plumage, the Norwegian Blue\n",
      "-- It's pushing up the daisies !\n"
     ]
    }
   ],
   "source": [
    "parrot('a thousand', state='pushing up the daisies') "
   ]
  },
  {
   "cell_type": "code",
   "execution_count": 28,
   "id": "ca04baa9",
   "metadata": {},
   "outputs": [
    {
     "ename": "TypeError",
     "evalue": "parrot() got multiple values for argument 'voltage'",
     "output_type": "error",
     "traceback": [
      "\u001b[1;31m---------------------------------------------------------------------------\u001b[0m",
      "\u001b[1;31mTypeError\u001b[0m                                 Traceback (most recent call last)",
      "\u001b[1;32m<ipython-input-28-c1313626062d>\u001b[0m in \u001b[0;36m<module>\u001b[1;34m\u001b[0m\n\u001b[1;32m----> 1\u001b[1;33m \u001b[0mparrot\u001b[0m\u001b[1;33m(\u001b[0m\u001b[1;36m110\u001b[0m\u001b[1;33m,\u001b[0m \u001b[0mvoltage\u001b[0m\u001b[1;33m=\u001b[0m\u001b[1;36m220\u001b[0m\u001b[1;33m)\u001b[0m\u001b[1;33m\u001b[0m\u001b[1;33m\u001b[0m\u001b[0m\n\u001b[0m",
      "\u001b[1;31mTypeError\u001b[0m: parrot() got multiple values for argument 'voltage'"
     ]
    }
   ],
   "source": [
    "parrot(110, voltage=220)"
   ]
  },
  {
   "cell_type": "code",
   "execution_count": 29,
   "id": "09cc04b9",
   "metadata": {},
   "outputs": [
    {
     "ename": "SyntaxError",
     "evalue": "positional argument follows keyword argument (<ipython-input-29-d50f269134a5>, line 1)",
     "output_type": "error",
     "traceback": [
      "\u001b[1;36m  File \u001b[1;32m\"<ipython-input-29-d50f269134a5>\"\u001b[1;36m, line \u001b[1;32m1\u001b[0m\n\u001b[1;33m    parrot(voltage=5.0, 'dead')\u001b[0m\n\u001b[1;37m                       ^\u001b[0m\n\u001b[1;31mSyntaxError\u001b[0m\u001b[1;31m:\u001b[0m positional argument follows keyword argument\n"
     ]
    }
   ],
   "source": [
    "parrot(voltage=5.0, 'dead')"
   ]
  },
  {
   "cell_type": "code",
   "execution_count": 30,
   "id": "007f0aa7",
   "metadata": {},
   "outputs": [],
   "source": [
    "def cheeseshop(kind, *arguments, **keywords):\n",
    "    print(\"-- Do you have any\", kind, \"?\")\n",
    "    print(\"-- I'm sorry, we're all out of\", kind)\n",
    "    for arg in arguments:\n",
    "        print(arg)\n",
    "    print(\"-\" * 40)\n",
    "    for kw in keywords:\n",
    "        print(kw, \":\", keywords[kw])"
   ]
  },
  {
   "cell_type": "code",
   "execution_count": 31,
   "id": "8adbaf4e",
   "metadata": {},
   "outputs": [
    {
     "name": "stdout",
     "output_type": "stream",
     "text": [
      "-- Do you have any Limburger ?\n",
      "-- I'm sorry, we're all out of Limburger\n",
      "It's very runny, sir.\n",
      "It's really very, VERY runny, sir.\n",
      "----------------------------------------\n",
      "shopkeeper : Michael Palin\n",
      "client : John Cleese\n",
      "sketch : Cheese Shop Sketch\n"
     ]
    }
   ],
   "source": [
    "cheeseshop(\"Limburger\", \"It's very runny, sir.\",\n",
    "           \"It's really very, VERY runny, sir.\",\n",
    "           shopkeeper=\"Michael Palin\",\n",
    "           client=\"John Cleese\",\n",
    "           sketch=\"Cheese Shop Sketch\")"
   ]
  },
  {
   "cell_type": "code",
   "execution_count": 32,
   "id": "d81fb2e9",
   "metadata": {},
   "outputs": [],
   "source": [
    "def write_multiple_items(file, separator, *args):\n",
    "    file.write(separator.join(args))"
   ]
  },
  {
   "cell_type": "code",
   "execution_count": 35,
   "id": "437a956c",
   "metadata": {},
   "outputs": [
    {
     "ename": "NameError",
     "evalue": "name 'file' is not defined",
     "output_type": "error",
     "traceback": [
      "\u001b[1;31m---------------------------------------------------------------------------\u001b[0m",
      "\u001b[1;31mNameError\u001b[0m                                 Traceback (most recent call last)",
      "\u001b[1;32m<ipython-input-35-7ccd288c13f8>\u001b[0m in \u001b[0;36m<module>\u001b[1;34m\u001b[0m\n\u001b[1;32m----> 1\u001b[1;33m \u001b[0mwrite_multiple_items\u001b[0m\u001b[1;33m(\u001b[0m\u001b[0mfile\u001b[0m\u001b[1;33m,\u001b[0m\u001b[1;34m','\u001b[0m\u001b[1;33m,\u001b[0m\u001b[1;34m'Hello'\u001b[0m\u001b[1;33m,\u001b[0m\u001b[1;34m'Goodbye'\u001b[0m\u001b[1;33m)\u001b[0m\u001b[1;33m\u001b[0m\u001b[1;33m\u001b[0m\u001b[0m\n\u001b[0m",
      "\u001b[1;31mNameError\u001b[0m: name 'file' is not defined"
     ]
    }
   ],
   "source": [
    "write_multiple_items(file,',','Hello','Goodbye')"
   ]
  },
  {
   "cell_type": "code",
   "execution_count": 38,
   "id": "cff64c24",
   "metadata": {},
   "outputs": [],
   "source": [
    "def concat(*args, sep=\"/\"):\n",
    "     return sep.join(args)"
   ]
  },
  {
   "cell_type": "code",
   "execution_count": 39,
   "id": "20395e58",
   "metadata": {},
   "outputs": [
    {
     "data": {
      "text/plain": [
       "'hello/book/goodbye'"
      ]
     },
     "execution_count": 39,
     "metadata": {},
     "output_type": "execute_result"
    }
   ],
   "source": [
    "concat('hello','book','goodbye')"
   ]
  },
  {
   "cell_type": "code",
   "execution_count": 40,
   "id": "57b8e845",
   "metadata": {},
   "outputs": [
    {
     "data": {
      "text/plain": [
       "'earth.mars.venus'"
      ]
     },
     "execution_count": 40,
     "metadata": {},
     "output_type": "execute_result"
    }
   ],
   "source": [
    "concat(\"earth\", \"mars\", \"venus\", sep=\".\")"
   ]
  },
  {
   "cell_type": "code",
   "execution_count": 42,
   "id": "8b534525",
   "metadata": {},
   "outputs": [
    {
     "data": {
      "text/plain": [
       "[3, 6, 9]"
      ]
     },
     "execution_count": 42,
     "metadata": {},
     "output_type": "execute_result"
    }
   ],
   "source": [
    "args = [3,10,3]\n",
    "list(range(*args))"
   ]
  },
  {
   "cell_type": "markdown",
   "id": "ce88504a",
   "metadata": {},
   "source": [
    "### 4.7.1 Default Argument Values"
   ]
  },
  {
   "cell_type": "code",
   "execution_count": 5,
   "id": "10c7efe4",
   "metadata": {},
   "outputs": [],
   "source": [
    "def ask_ok(prompt, retries=4, reminder='Please try again!'):\n",
    "    while True:\n",
    "        ok = input(prompt)\n",
    "        if ok in ('y', 'ye', 'yes'):\n",
    "            return True\n",
    "        if ok in ('n', 'no', 'nop', 'nope'):\n",
    "            return False\n",
    "        retries = retries - 1\n",
    "        if retries < 0:\n",
    "            raise ValueError('invalid user response')\n",
    "        print(reminder)"
   ]
  },
  {
   "cell_type": "code",
   "execution_count": 6,
   "id": "bdf4bca3",
   "metadata": {},
   "outputs": [
    {
     "name": "stdin",
     "output_type": "stream",
     "text": [
      "ok? y\n"
     ]
    },
    {
     "data": {
      "text/plain": [
       "True"
      ]
     },
     "execution_count": 6,
     "metadata": {},
     "output_type": "execute_result"
    }
   ],
   "source": [
    "ask_ok('ok?')"
   ]
  },
  {
   "cell_type": "code",
   "execution_count": 7,
   "id": "859a80ae",
   "metadata": {},
   "outputs": [
    {
     "name": "stdout",
     "output_type": "stream",
     "text": [
      "5\n"
     ]
    }
   ],
   "source": [
    "i = 5\n",
    "\n",
    "def f(arg=i):\n",
    "    print(arg)\n",
    "\n",
    "i = 6\n",
    "f()"
   ]
  },
  {
   "cell_type": "code",
   "execution_count": 8,
   "id": "a22be81b",
   "metadata": {},
   "outputs": [
    {
     "name": "stdout",
     "output_type": "stream",
     "text": [
      "5\n"
     ]
    }
   ],
   "source": [
    "i = 5\n",
    "f()"
   ]
  },
  {
   "cell_type": "code",
   "execution_count": 9,
   "id": "64e07f57",
   "metadata": {},
   "outputs": [
    {
     "name": "stdout",
     "output_type": "stream",
     "text": [
      "[1]\n",
      "[1, 2]\n",
      "[1, 2, 3]\n"
     ]
    }
   ],
   "source": [
    "def f(a, L=[]):\n",
    "    L.append(a)\n",
    "    return L\n",
    "\n",
    "print(f(1))\n",
    "print(f(2))\n",
    "print(f(3))"
   ]
  },
  {
   "cell_type": "code",
   "execution_count": 10,
   "id": "99c75da6",
   "metadata": {},
   "outputs": [],
   "source": [
    "def f(a, L=None):\n",
    "    if L is None:\n",
    "        L = []\n",
    "    L.append(a)\n",
    "    return L"
   ]
  },
  {
   "cell_type": "code",
   "execution_count": 11,
   "id": "11b5d1dd",
   "metadata": {},
   "outputs": [
    {
     "name": "stdout",
     "output_type": "stream",
     "text": [
      "[1]\n",
      "[2]\n",
      "[3]\n"
     ]
    }
   ],
   "source": [
    "print(f(1))\n",
    "print(f(2))\n",
    "print(f(3))"
   ]
  },
  {
   "cell_type": "code",
   "execution_count": 12,
   "id": "8e0d0e6a",
   "metadata": {},
   "outputs": [],
   "source": [
    "def cheeseshop(kind, *arguments, **keywords):\n",
    "    print(\"-- Do you have any\", kind, \"?\")\n",
    "    print(\"-- I'm sorry, we're all out of\", kind)\n",
    "    for arg in arguments:\n",
    "        print(arg)\n",
    "    print(\"-\" * 40)\n",
    "    for kw in keywords:\n",
    "        print(kw, \":\", keywords[kw])"
   ]
  },
  {
   "cell_type": "code",
   "execution_count": 13,
   "id": "6b8ab3f4",
   "metadata": {},
   "outputs": [
    {
     "name": "stdout",
     "output_type": "stream",
     "text": [
      "-- Do you have any Limburger ?\n",
      "-- I'm sorry, we're all out of Limburger\n",
      "It's very runny, sir.\n",
      "It's really very, VERY runny, sir.\n",
      "----------------------------------------\n",
      "shopkeeper : Michael Palin\n",
      "client : John Cleese\n",
      "sketch : Cheese Shop Sketch\n"
     ]
    }
   ],
   "source": [
    "cheeseshop(\"Limburger\", \"It's very runny, sir.\",\n",
    "           \"It's really very, VERY runny, sir.\",\n",
    "           shopkeeper=\"Michael Palin\",\n",
    "           client=\"John Cleese\",\n",
    "           sketch=\"Cheese Shop Sketch\")"
   ]
  },
  {
   "cell_type": "code",
   "execution_count": 14,
   "id": "406f23f8",
   "metadata": {},
   "outputs": [],
   "source": [
    "### 4.7.5 Lambda Expressions"
   ]
  },
  {
   "cell_type": "code",
   "execution_count": 15,
   "id": "c84bc39f",
   "metadata": {},
   "outputs": [],
   "source": [
    "def make_incrementor(n):\n",
    "    return lambda x: x + n"
   ]
  },
  {
   "cell_type": "code",
   "execution_count": 17,
   "id": "68dbca4d",
   "metadata": {},
   "outputs": [],
   "source": [
    "f = make_incrementor(42)"
   ]
  },
  {
   "cell_type": "code",
   "execution_count": 18,
   "id": "697f201b",
   "metadata": {},
   "outputs": [
    {
     "data": {
      "text/plain": [
       "42"
      ]
     },
     "execution_count": 18,
     "metadata": {},
     "output_type": "execute_result"
    }
   ],
   "source": [
    "f(0)"
   ]
  },
  {
   "cell_type": "code",
   "execution_count": 19,
   "id": "1293b4a3",
   "metadata": {},
   "outputs": [
    {
     "data": {
      "text/plain": [
       "45"
      ]
     },
     "execution_count": 19,
     "metadata": {},
     "output_type": "execute_result"
    }
   ],
   "source": [
    "f(3)"
   ]
  },
  {
   "cell_type": "markdown",
   "id": "e1c42dbf",
   "metadata": {},
   "source": [
    "### 4.7.7 Function Annotations"
   ]
  },
  {
   "cell_type": "code",
   "execution_count": 20,
   "id": "ba9b14cc",
   "metadata": {},
   "outputs": [],
   "source": [
    "def f(ham: str, eggs: str = 'eggs') -> str:\n",
    "    print(\"Annotations:\", f.__annotations__)\n",
    "    print(\"Arguments:\", ham, eggs)\n",
    "    return ham + ' and ' + eggs"
   ]
  },
  {
   "cell_type": "code",
   "execution_count": 21,
   "id": "6dbc4275",
   "metadata": {},
   "outputs": [
    {
     "name": "stdout",
     "output_type": "stream",
     "text": [
      "Annotations: {'ham': <class 'str'>, 'eggs': <class 'str'>, 'return': <class 'str'>}\n",
      "Arguments: ham eggs\n"
     ]
    },
    {
     "data": {
      "text/plain": [
       "'ham and eggs'"
      ]
     },
     "execution_count": 21,
     "metadata": {},
     "output_type": "execute_result"
    }
   ],
   "source": [
    "f('ham')"
   ]
  },
  {
   "cell_type": "markdown",
   "id": "9e3e216e",
   "metadata": {},
   "source": [
    "## 5. Data Structures"
   ]
  },
  {
   "cell_type": "markdown",
   "id": "0087a834",
   "metadata": {},
   "source": [
    "### 5.1 More on Lists"
   ]
  },
  {
   "cell_type": "code",
   "execution_count": 20,
   "id": "5f5dc68b",
   "metadata": {},
   "outputs": [],
   "source": [
    "l_a = [ 1, 2, 3, 4]"
   ]
  },
  {
   "cell_type": "code",
   "execution_count": 21,
   "id": "9278c786",
   "metadata": {},
   "outputs": [],
   "source": [
    "l_a[len(l_a):] = [5]"
   ]
  },
  {
   "cell_type": "code",
   "execution_count": 7,
   "id": "b240f8de",
   "metadata": {},
   "outputs": [
    {
     "data": {
      "text/plain": [
       "[1, 2, 3, 4, 5]"
      ]
     },
     "execution_count": 7,
     "metadata": {},
     "output_type": "execute_result"
    }
   ],
   "source": [
    "l_a"
   ]
  },
  {
   "cell_type": "code",
   "execution_count": 13,
   "id": "dd61bcf7",
   "metadata": {},
   "outputs": [],
   "source": [
    "l_a.append(6)"
   ]
  },
  {
   "cell_type": "code",
   "execution_count": 14,
   "id": "352f674d",
   "metadata": {},
   "outputs": [
    {
     "data": {
      "text/plain": [
       "[1, 2, 3, 4, 5, 6]"
      ]
     },
     "execution_count": 14,
     "metadata": {},
     "output_type": "execute_result"
    }
   ],
   "source": [
    "l_a"
   ]
  },
  {
   "cell_type": "code",
   "execution_count": 22,
   "id": "8d7f2157",
   "metadata": {},
   "outputs": [],
   "source": [
    "l_a.extend((6, 7, 8))"
   ]
  },
  {
   "cell_type": "code",
   "execution_count": 16,
   "id": "b955ab7c",
   "metadata": {},
   "outputs": [
    {
     "data": {
      "text/plain": [
       "[1, 2, 3, 4, 5, 6, 6, 7, 8]"
      ]
     },
     "execution_count": 16,
     "metadata": {},
     "output_type": "execute_result"
    }
   ],
   "source": [
    "l_a"
   ]
  },
  {
   "cell_type": "code",
   "execution_count": 17,
   "id": "47bfb386",
   "metadata": {},
   "outputs": [],
   "source": [
    "l_a.remove(6)"
   ]
  },
  {
   "cell_type": "code",
   "execution_count": 18,
   "id": "ba5d7df7",
   "metadata": {},
   "outputs": [
    {
     "data": {
      "text/plain": [
       "[1, 2, 3, 4, 5, 6, 7, 8]"
      ]
     },
     "execution_count": 18,
     "metadata": {},
     "output_type": "execute_result"
    }
   ],
   "source": [
    "l_a"
   ]
  },
  {
   "cell_type": "code",
   "execution_count": 19,
   "id": "8364ba3f",
   "metadata": {},
   "outputs": [],
   "source": [
    "l_a.clear()"
   ]
  },
  {
   "cell_type": "code",
   "execution_count": 23,
   "id": "d377cff1",
   "metadata": {},
   "outputs": [
    {
     "data": {
      "text/plain": [
       "[1, 2, 3, 4, 5, 6, 7, 8]"
      ]
     },
     "execution_count": 23,
     "metadata": {},
     "output_type": "execute_result"
    }
   ],
   "source": [
    "l_a"
   ]
  },
  {
   "cell_type": "code",
   "execution_count": 24,
   "id": "48b055f1",
   "metadata": {},
   "outputs": [],
   "source": [
    "l_a.reverse()"
   ]
  },
  {
   "cell_type": "code",
   "execution_count": 25,
   "id": "a9dbdf61",
   "metadata": {},
   "outputs": [
    {
     "data": {
      "text/plain": [
       "[8, 7, 6, 5, 4, 3, 2, 1]"
      ]
     },
     "execution_count": 25,
     "metadata": {},
     "output_type": "execute_result"
    }
   ],
   "source": [
    "l_a"
   ]
  },
  {
   "cell_type": "code",
   "execution_count": 26,
   "id": "49d4f9d4",
   "metadata": {},
   "outputs": [],
   "source": [
    "fruits = ['orange', 'apple', 'pear', 'banana', 'kiwi', 'apple', 'banana']"
   ]
  },
  {
   "cell_type": "code",
   "execution_count": 30,
   "id": "937fd99a",
   "metadata": {},
   "outputs": [
    {
     "data": {
      "text/plain": [
       "2"
      ]
     },
     "execution_count": 30,
     "metadata": {},
     "output_type": "execute_result"
    }
   ],
   "source": [
    "fruits.count('apple')"
   ]
  },
  {
   "cell_type": "code",
   "execution_count": 31,
   "id": "657fdebb",
   "metadata": {},
   "outputs": [
    {
     "data": {
      "text/plain": [
       "0"
      ]
     },
     "execution_count": 31,
     "metadata": {},
     "output_type": "execute_result"
    }
   ],
   "source": [
    "fruits.count('tangerine')"
   ]
  },
  {
   "cell_type": "code",
   "execution_count": 32,
   "id": "abed2b54",
   "metadata": {},
   "outputs": [
    {
     "data": {
      "text/plain": [
       "3"
      ]
     },
     "execution_count": 32,
     "metadata": {},
     "output_type": "execute_result"
    }
   ],
   "source": [
    "fruits.index('banana')"
   ]
  },
  {
   "cell_type": "code",
   "execution_count": 36,
   "id": "625d32b9",
   "metadata": {},
   "outputs": [
    {
     "data": {
      "text/plain": [
       "6"
      ]
     },
     "execution_count": 36,
     "metadata": {},
     "output_type": "execute_result"
    }
   ],
   "source": [
    "fruits.index('banana', 4)"
   ]
  },
  {
   "cell_type": "code",
   "execution_count": 34,
   "id": "52ed3f36",
   "metadata": {},
   "outputs": [
    {
     "data": {
      "text/plain": [
       "6"
      ]
     },
     "execution_count": 34,
     "metadata": {},
     "output_type": "execute_result"
    }
   ],
   "source": [
    "fruits.index('banana', fruits.index('banana')+1)"
   ]
  },
  {
   "cell_type": "code",
   "execution_count": 37,
   "id": "3ad98257",
   "metadata": {},
   "outputs": [],
   "source": [
    "fruits.append('grape')"
   ]
  },
  {
   "cell_type": "code",
   "execution_count": 38,
   "id": "49d14a59",
   "metadata": {},
   "outputs": [
    {
     "data": {
      "text/plain": [
       "['orange', 'apple', 'pear', 'banana', 'kiwi', 'apple', 'banana', 'grape']"
      ]
     },
     "execution_count": 38,
     "metadata": {},
     "output_type": "execute_result"
    }
   ],
   "source": [
    "fruits"
   ]
  },
  {
   "cell_type": "code",
   "execution_count": 39,
   "id": "cf66b1e8",
   "metadata": {},
   "outputs": [],
   "source": [
    "fruits.sort()"
   ]
  },
  {
   "cell_type": "code",
   "execution_count": 40,
   "id": "5a33dd12",
   "metadata": {},
   "outputs": [
    {
     "data": {
      "text/plain": [
       "['apple', 'apple', 'banana', 'banana', 'grape', 'kiwi', 'orange', 'pear']"
      ]
     },
     "execution_count": 40,
     "metadata": {},
     "output_type": "execute_result"
    }
   ],
   "source": [
    "fruits"
   ]
  },
  {
   "cell_type": "markdown",
   "id": "126c14fc",
   "metadata": {},
   "source": [
    "### 5.1.1 Using Lists as Stacks"
   ]
  },
  {
   "cell_type": "code",
   "execution_count": 42,
   "id": "47997328",
   "metadata": {},
   "outputs": [],
   "source": [
    "stack = [3,4,5]"
   ]
  },
  {
   "cell_type": "code",
   "execution_count": 43,
   "id": "ba640566",
   "metadata": {},
   "outputs": [],
   "source": [
    "stack.append(6)"
   ]
  },
  {
   "cell_type": "code",
   "execution_count": 44,
   "id": "da0080ad",
   "metadata": {},
   "outputs": [
    {
     "data": {
      "text/plain": [
       "[3, 4, 5, 6]"
      ]
     },
     "execution_count": 44,
     "metadata": {},
     "output_type": "execute_result"
    }
   ],
   "source": [
    "stack"
   ]
  },
  {
   "cell_type": "code",
   "execution_count": 45,
   "id": "c6c651bb",
   "metadata": {},
   "outputs": [
    {
     "data": {
      "text/plain": [
       "6"
      ]
     },
     "execution_count": 45,
     "metadata": {},
     "output_type": "execute_result"
    }
   ],
   "source": [
    "stack.pop()"
   ]
  },
  {
   "cell_type": "code",
   "execution_count": 46,
   "id": "6738e2c7",
   "metadata": {},
   "outputs": [
    {
     "data": {
      "text/plain": [
       "[3, 4, 5]"
      ]
     },
     "execution_count": 46,
     "metadata": {},
     "output_type": "execute_result"
    }
   ],
   "source": [
    "stack"
   ]
  },
  {
   "cell_type": "code",
   "execution_count": 47,
   "id": "20f3114b",
   "metadata": {},
   "outputs": [],
   "source": [
    "i_last = stack.pop()"
   ]
  },
  {
   "cell_type": "code",
   "execution_count": 49,
   "id": "f51e49ca",
   "metadata": {},
   "outputs": [
    {
     "data": {
      "text/plain": [
       "5"
      ]
     },
     "execution_count": 49,
     "metadata": {},
     "output_type": "execute_result"
    }
   ],
   "source": [
    "i_last"
   ]
  },
  {
   "cell_type": "markdown",
   "id": "642898d6",
   "metadata": {},
   "source": [
    "### 5.1.2 Using Lists as Queues"
   ]
  },
  {
   "cell_type": "code",
   "execution_count": 50,
   "id": "af793cac",
   "metadata": {},
   "outputs": [],
   "source": [
    "from collections import deque"
   ]
  },
  {
   "cell_type": "code",
   "execution_count": 51,
   "id": "5d2c895e",
   "metadata": {},
   "outputs": [],
   "source": [
    "queue = deque(['Eric','John','Michael'])\n",
    "queue.append('Terry')"
   ]
  },
  {
   "cell_type": "code",
   "execution_count": 52,
   "id": "a00326ff",
   "metadata": {},
   "outputs": [],
   "source": [
    "queue.append('Graham')"
   ]
  },
  {
   "cell_type": "code",
   "execution_count": 53,
   "id": "daf7366e",
   "metadata": {},
   "outputs": [
    {
     "data": {
      "text/plain": [
       "deque(['Eric', 'John', 'Michael', 'Terry', 'Graham'])"
      ]
     },
     "execution_count": 53,
     "metadata": {},
     "output_type": "execute_result"
    }
   ],
   "source": [
    "queue"
   ]
  },
  {
   "cell_type": "code",
   "execution_count": 54,
   "id": "b2e1ca6f",
   "metadata": {},
   "outputs": [
    {
     "data": {
      "text/plain": [
       "'Eric'"
      ]
     },
     "execution_count": 54,
     "metadata": {},
     "output_type": "execute_result"
    }
   ],
   "source": [
    "queue.popleft()"
   ]
  },
  {
   "cell_type": "code",
   "execution_count": 55,
   "id": "9efabe8c",
   "metadata": {},
   "outputs": [
    {
     "data": {
      "text/plain": [
       "'Graham'"
      ]
     },
     "execution_count": 55,
     "metadata": {},
     "output_type": "execute_result"
    }
   ],
   "source": [
    "queue.pop()"
   ]
  },
  {
   "cell_type": "markdown",
   "id": "5a8d516a",
   "metadata": {},
   "source": [
    "### 5.1.3 List Comprehensions"
   ]
  },
  {
   "cell_type": "code",
   "execution_count": 56,
   "id": "817cb9cd",
   "metadata": {},
   "outputs": [],
   "source": [
    "squares = []\n",
    "for x in range (10):\n",
    "    squares.append(x**2)"
   ]
  },
  {
   "cell_type": "code",
   "execution_count": 57,
   "id": "2f0a9053",
   "metadata": {},
   "outputs": [
    {
     "data": {
      "text/plain": [
       "[0, 1, 4, 9, 16, 25, 36, 49, 64, 81]"
      ]
     },
     "execution_count": 57,
     "metadata": {},
     "output_type": "execute_result"
    }
   ],
   "source": [
    "squares"
   ]
  },
  {
   "cell_type": "code",
   "execution_count": 59,
   "id": "93e00486",
   "metadata": {},
   "outputs": [],
   "source": [
    "squares = list(map(lambda x:x**2, range(10)))"
   ]
  },
  {
   "cell_type": "code",
   "execution_count": 60,
   "id": "518bcdbe",
   "metadata": {},
   "outputs": [
    {
     "data": {
      "text/plain": [
       "[0, 1, 4, 9, 16, 25, 36, 49, 64, 81]"
      ]
     },
     "execution_count": 60,
     "metadata": {},
     "output_type": "execute_result"
    }
   ],
   "source": [
    "squares"
   ]
  },
  {
   "cell_type": "code",
   "execution_count": 63,
   "id": "28689a5c",
   "metadata": {},
   "outputs": [
    {
     "data": {
      "text/plain": [
       "[0, 1, 2, 3, 4, 5, 6, 7, 8, 9]"
      ]
     },
     "execution_count": 63,
     "metadata": {},
     "output_type": "execute_result"
    }
   ],
   "source": [
    "list(map(lambda x: x, range(10)))"
   ]
  },
  {
   "cell_type": "code",
   "execution_count": 64,
   "id": "299f9faf",
   "metadata": {},
   "outputs": [],
   "source": [
    "squares = [x**2 for x in range(10)]"
   ]
  },
  {
   "cell_type": "code",
   "execution_count": 65,
   "id": "33275628",
   "metadata": {},
   "outputs": [
    {
     "data": {
      "text/plain": [
       "[0, 1, 4, 9, 16, 25, 36, 49, 64, 81]"
      ]
     },
     "execution_count": 65,
     "metadata": {},
     "output_type": "execute_result"
    }
   ],
   "source": [
    "squares"
   ]
  },
  {
   "cell_type": "code",
   "execution_count": 66,
   "id": "a83b9bc6",
   "metadata": {},
   "outputs": [
    {
     "data": {
      "text/plain": [
       "[(1, 3), (1, 4), (2, 3), (2, 1), (2, 4), (3, 1), (3, 4)]"
      ]
     },
     "execution_count": 66,
     "metadata": {},
     "output_type": "execute_result"
    }
   ],
   "source": [
    "[(x,y) for x in [1,2,3] for y in [3,1,4] if x!= y]"
   ]
  },
  {
   "cell_type": "code",
   "execution_count": 67,
   "id": "e25e2e85",
   "metadata": {},
   "outputs": [],
   "source": [
    "vec = [-4, -2, 0, 2, 4]"
   ]
  },
  {
   "cell_type": "code",
   "execution_count": 68,
   "id": "92cb7032",
   "metadata": {},
   "outputs": [
    {
     "data": {
      "text/plain": [
       "[-8, -4, 0, 4, 8]"
      ]
     },
     "execution_count": 68,
     "metadata": {},
     "output_type": "execute_result"
    }
   ],
   "source": [
    "[x*2 for x in vec]"
   ]
  },
  {
   "cell_type": "code",
   "execution_count": 69,
   "id": "17e999a7",
   "metadata": {},
   "outputs": [
    {
     "data": {
      "text/plain": [
       "[2, 4]"
      ]
     },
     "execution_count": 69,
     "metadata": {},
     "output_type": "execute_result"
    }
   ],
   "source": [
    "[x for x in vec if x > 0]"
   ]
  },
  {
   "cell_type": "code",
   "execution_count": 70,
   "id": "1c38591c",
   "metadata": {},
   "outputs": [],
   "source": [
    "freshfruit = ('  banana', '  loganberry ', 'passion fruit  ')"
   ]
  },
  {
   "cell_type": "code",
   "execution_count": 71,
   "id": "07d2305a",
   "metadata": {},
   "outputs": [
    {
     "data": {
      "text/plain": [
       "['banana', 'loganberry', 'passion fruit']"
      ]
     },
     "execution_count": 71,
     "metadata": {},
     "output_type": "execute_result"
    }
   ],
   "source": [
    "[weapon.strip() for weapon in freshfruit]"
   ]
  },
  {
   "cell_type": "markdown",
   "id": "ec328144",
   "metadata": {},
   "source": [
    "### 5.1.4 Nested List Comprehensions"
   ]
  },
  {
   "cell_type": "code",
   "execution_count": 73,
   "id": "3f03cb68",
   "metadata": {},
   "outputs": [],
   "source": [
    "matrix = [\n",
    "    [1,2,3,4],\n",
    "    [5,6,7,8],\n",
    "    [9,10,11,12]\n",
    "]"
   ]
  },
  {
   "cell_type": "code",
   "execution_count": 80,
   "id": "7b1e4656",
   "metadata": {},
   "outputs": [
    {
     "name": "stdout",
     "output_type": "stream",
     "text": [
      "1\n",
      "5\n",
      "9\n",
      "\n",
      "\n",
      "2\n",
      "6\n",
      "10\n",
      "\n",
      "\n",
      "3\n",
      "7\n",
      "11\n",
      "\n",
      "\n",
      "4\n",
      "8\n",
      "12\n",
      "\n",
      "\n"
     ]
    }
   ],
   "source": [
    "for i in range(4):\n",
    "    for row in matrix:\n",
    "        print(row[i])\n",
    "    print('\\n')"
   ]
  },
  {
   "cell_type": "code",
   "execution_count": 81,
   "id": "38c8f989",
   "metadata": {},
   "outputs": [
    {
     "data": {
      "text/plain": [
       "[[1, 5, 9], [2, 6, 10], [3, 7, 11], [4, 8, 12]]"
      ]
     },
     "execution_count": 81,
     "metadata": {},
     "output_type": "execute_result"
    }
   ],
   "source": [
    "[[row[i] for row in matrix] for i in range(4)]"
   ]
  },
  {
   "cell_type": "code",
   "execution_count": 84,
   "id": "13db4bb9",
   "metadata": {},
   "outputs": [
    {
     "data": {
      "text/plain": [
       "[(1, 5, 9), (2, 6, 10), (3, 7, 11), (4, 8, 12)]"
      ]
     },
     "execution_count": 84,
     "metadata": {},
     "output_type": "execute_result"
    }
   ],
   "source": [
    "list(zip(*matrix))"
   ]
  },
  {
   "cell_type": "code",
   "execution_count": 86,
   "id": "973481c5",
   "metadata": {},
   "outputs": [
    {
     "data": {
      "text/plain": [
       "range(3, 6)"
      ]
     },
     "execution_count": 86,
     "metadata": {},
     "output_type": "execute_result"
    }
   ],
   "source": [
    "range(*[3,6])"
   ]
  },
  {
   "cell_type": "code",
   "execution_count": 88,
   "id": "dcea9670",
   "metadata": {},
   "outputs": [
    {
     "data": {
      "text/plain": [
       "[(1, 5, 9), (2, 6, 10), (3, 7, 11), (4, 8, 12)]"
      ]
     },
     "execution_count": 88,
     "metadata": {},
     "output_type": "execute_result"
    }
   ],
   "source": [
    "list(zip([1,2,3,4],\n",
    "    [5,6,7,8],\n",
    "    [9,10,11,12]))"
   ]
  },
  {
   "cell_type": "code",
   "execution_count": 89,
   "id": "3c8eddb8",
   "metadata": {},
   "outputs": [],
   "source": [
    "a = [-1, 1, 66.25, 333, 333, 1234.5]"
   ]
  },
  {
   "cell_type": "markdown",
   "id": "8f6b01b6",
   "metadata": {},
   "source": [
    "### The del statement"
   ]
  },
  {
   "cell_type": "code",
   "execution_count": 90,
   "id": "62df0974",
   "metadata": {},
   "outputs": [],
   "source": [
    "del a[0]"
   ]
  },
  {
   "cell_type": "code",
   "execution_count": 91,
   "id": "123c7918",
   "metadata": {},
   "outputs": [
    {
     "data": {
      "text/plain": [
       "[1, 66.25, 333, 333, 1234.5]"
      ]
     },
     "execution_count": 91,
     "metadata": {},
     "output_type": "execute_result"
    }
   ],
   "source": [
    "a"
   ]
  },
  {
   "cell_type": "code",
   "execution_count": 92,
   "id": "75bd934b",
   "metadata": {},
   "outputs": [],
   "source": [
    "del a[2:4]"
   ]
  },
  {
   "cell_type": "code",
   "execution_count": 93,
   "id": "6be06372",
   "metadata": {},
   "outputs": [
    {
     "data": {
      "text/plain": [
       "[1, 66.25, 1234.5]"
      ]
     },
     "execution_count": 93,
     "metadata": {},
     "output_type": "execute_result"
    }
   ],
   "source": [
    "a"
   ]
  },
  {
   "cell_type": "code",
   "execution_count": 94,
   "id": "5e30efc7",
   "metadata": {},
   "outputs": [],
   "source": [
    "del a"
   ]
  },
  {
   "cell_type": "code",
   "execution_count": 95,
   "id": "e9704a93",
   "metadata": {},
   "outputs": [
    {
     "ename": "NameError",
     "evalue": "name 'a' is not defined",
     "output_type": "error",
     "traceback": [
      "\u001b[1;31m---------------------------------------------------------------------------\u001b[0m",
      "\u001b[1;31mNameError\u001b[0m                                 Traceback (most recent call last)",
      "\u001b[1;32m<ipython-input-95-3f786850e387>\u001b[0m in \u001b[0;36m<module>\u001b[1;34m\u001b[0m\n\u001b[1;32m----> 1\u001b[1;33m \u001b[0ma\u001b[0m\u001b[1;33m\u001b[0m\u001b[1;33m\u001b[0m\u001b[0m\n\u001b[0m",
      "\u001b[1;31mNameError\u001b[0m: name 'a' is not defined"
     ]
    }
   ],
   "source": [
    "a"
   ]
  },
  {
   "cell_type": "markdown",
   "id": "9e76b2f1",
   "metadata": {},
   "source": [
    "### 5.3 Tuples and Sequences"
   ]
  },
  {
   "cell_type": "code",
   "execution_count": 97,
   "id": "30454e69",
   "metadata": {},
   "outputs": [],
   "source": [
    "t = 12345, 54321, 'hello'"
   ]
  },
  {
   "cell_type": "code",
   "execution_count": 98,
   "id": "6f25d383",
   "metadata": {},
   "outputs": [
    {
     "data": {
      "text/plain": [
       "(12345, 54321, 'hello')"
      ]
     },
     "execution_count": 98,
     "metadata": {},
     "output_type": "execute_result"
    }
   ],
   "source": [
    "t"
   ]
  },
  {
   "cell_type": "code",
   "execution_count": 99,
   "id": "9c29df78",
   "metadata": {},
   "outputs": [],
   "source": [
    "u = t, (1,2,3,4,5)"
   ]
  },
  {
   "cell_type": "code",
   "execution_count": 100,
   "id": "d17d6f6a",
   "metadata": {},
   "outputs": [
    {
     "data": {
      "text/plain": [
       "((12345, 54321, 'hello'), (1, 2, 3, 4, 5))"
      ]
     },
     "execution_count": 100,
     "metadata": {},
     "output_type": "execute_result"
    }
   ],
   "source": [
    "u"
   ]
  },
  {
   "cell_type": "code",
   "execution_count": 101,
   "id": "615b3635",
   "metadata": {},
   "outputs": [
    {
     "ename": "TypeError",
     "evalue": "'tuple' object does not support item assignment",
     "output_type": "error",
     "traceback": [
      "\u001b[1;31m---------------------------------------------------------------------------\u001b[0m",
      "\u001b[1;31mTypeError\u001b[0m                                 Traceback (most recent call last)",
      "\u001b[1;32m<ipython-input-101-eb26f9c49336>\u001b[0m in \u001b[0;36m<module>\u001b[1;34m\u001b[0m\n\u001b[1;32m----> 1\u001b[1;33m \u001b[0mt\u001b[0m\u001b[1;33m[\u001b[0m\u001b[1;36m0\u001b[0m\u001b[1;33m]\u001b[0m \u001b[1;33m=\u001b[0m \u001b[1;36m9999\u001b[0m\u001b[1;33m\u001b[0m\u001b[1;33m\u001b[0m\u001b[0m\n\u001b[0m",
      "\u001b[1;31mTypeError\u001b[0m: 'tuple' object does not support item assignment"
     ]
    }
   ],
   "source": [
    "t[0] = 9999"
   ]
  },
  {
   "cell_type": "markdown",
   "id": "c45d92b7",
   "metadata": {},
   "source": [
    "### 5.4 Sets"
   ]
  },
  {
   "cell_type": "code",
   "execution_count": 102,
   "id": "5c385a64",
   "metadata": {},
   "outputs": [],
   "source": [
    "basket = {'apple', 'orange', 'apple', 'pear', 'orange', 'banana'}"
   ]
  },
  {
   "cell_type": "code",
   "execution_count": 103,
   "id": "103ed8b4",
   "metadata": {},
   "outputs": [
    {
     "data": {
      "text/plain": [
       "{'apple', 'banana', 'orange', 'pear'}"
      ]
     },
     "execution_count": 103,
     "metadata": {},
     "output_type": "execute_result"
    }
   ],
   "source": [
    "basket"
   ]
  },
  {
   "cell_type": "code",
   "execution_count": 104,
   "id": "13b424f8",
   "metadata": {},
   "outputs": [
    {
     "data": {
      "text/plain": [
       "True"
      ]
     },
     "execution_count": 104,
     "metadata": {},
     "output_type": "execute_result"
    }
   ],
   "source": [
    "'orange' in basket"
   ]
  },
  {
   "cell_type": "code",
   "execution_count": 105,
   "id": "d99c112d",
   "metadata": {},
   "outputs": [],
   "source": [
    "a = set('abracadabra')"
   ]
  },
  {
   "cell_type": "code",
   "execution_count": 106,
   "id": "8f1bf413",
   "metadata": {},
   "outputs": [],
   "source": [
    "b = set('alacazam')"
   ]
  },
  {
   "cell_type": "code",
   "execution_count": 107,
   "id": "e1f08ef2",
   "metadata": {},
   "outputs": [
    {
     "data": {
      "text/plain": [
       "{'a', 'b', 'c', 'd', 'r'}"
      ]
     },
     "execution_count": 107,
     "metadata": {},
     "output_type": "execute_result"
    }
   ],
   "source": [
    "a"
   ]
  },
  {
   "cell_type": "code",
   "execution_count": 109,
   "id": "aa4047c3",
   "metadata": {},
   "outputs": [
    {
     "data": {
      "text/plain": [
       "{'a', 'c', 'l', 'm', 'z'}"
      ]
     },
     "execution_count": 109,
     "metadata": {},
     "output_type": "execute_result"
    }
   ],
   "source": [
    "b"
   ]
  },
  {
   "cell_type": "code",
   "execution_count": 108,
   "id": "aabf4ef8",
   "metadata": {},
   "outputs": [
    {
     "data": {
      "text/plain": [
       "{'b', 'd', 'r'}"
      ]
     },
     "execution_count": 108,
     "metadata": {},
     "output_type": "execute_result"
    }
   ],
   "source": [
    "a - b"
   ]
  },
  {
   "cell_type": "code",
   "execution_count": 111,
   "id": "7ecfe65f",
   "metadata": {},
   "outputs": [
    {
     "data": {
      "text/plain": [
       "{'a', 'b', 'c', 'd', 'l', 'm', 'r', 'z'}"
      ]
     },
     "execution_count": 111,
     "metadata": {},
     "output_type": "execute_result"
    }
   ],
   "source": [
    "a | b"
   ]
  },
  {
   "cell_type": "code",
   "execution_count": 112,
   "id": "b7218dcd",
   "metadata": {},
   "outputs": [
    {
     "data": {
      "text/plain": [
       "{'b', 'd', 'l', 'm', 'r', 'z'}"
      ]
     },
     "execution_count": 112,
     "metadata": {},
     "output_type": "execute_result"
    }
   ],
   "source": [
    "a ^ b"
   ]
  },
  {
   "cell_type": "code",
   "execution_count": 113,
   "id": "cead6143",
   "metadata": {},
   "outputs": [
    {
     "data": {
      "text/plain": [
       "{'a', 'c'}"
      ]
     },
     "execution_count": 113,
     "metadata": {},
     "output_type": "execute_result"
    }
   ],
   "source": [
    "a & b"
   ]
  },
  {
   "cell_type": "code",
   "execution_count": 114,
   "id": "76780f1d",
   "metadata": {},
   "outputs": [],
   "source": [
    "a = { x for x in 'abracadabra' if x not in 'abc'}"
   ]
  },
  {
   "cell_type": "code",
   "execution_count": 115,
   "id": "32cc71f4",
   "metadata": {},
   "outputs": [
    {
     "data": {
      "text/plain": [
       "{'d', 'r'}"
      ]
     },
     "execution_count": 115,
     "metadata": {},
     "output_type": "execute_result"
    }
   ],
   "source": [
    "a"
   ]
  },
  {
   "cell_type": "markdown",
   "id": "34ca2f85",
   "metadata": {},
   "source": [
    "### Dictionaries"
   ]
  },
  {
   "cell_type": "code",
   "execution_count": 116,
   "id": "7b3ef487",
   "metadata": {},
   "outputs": [],
   "source": [
    "tel = {'jack': 4098, 'sape': 4139}"
   ]
  },
  {
   "cell_type": "code",
   "execution_count": 117,
   "id": "8629cfa6",
   "metadata": {},
   "outputs": [],
   "source": [
    "tel['guido'] = 4127"
   ]
  },
  {
   "cell_type": "code",
   "execution_count": 118,
   "id": "8ea0baa9",
   "metadata": {},
   "outputs": [
    {
     "data": {
      "text/plain": [
       "{'jack': 4098, 'sape': 4139, 'guido': 4127}"
      ]
     },
     "execution_count": 118,
     "metadata": {},
     "output_type": "execute_result"
    }
   ],
   "source": [
    "tel"
   ]
  },
  {
   "cell_type": "code",
   "execution_count": 119,
   "id": "aeb27e01",
   "metadata": {},
   "outputs": [],
   "source": [
    "del tel['sape']"
   ]
  },
  {
   "cell_type": "code",
   "execution_count": 120,
   "id": "f92e1025",
   "metadata": {},
   "outputs": [
    {
     "data": {
      "text/plain": [
       "{'jack': 4098, 'guido': 4127}"
      ]
     },
     "execution_count": 120,
     "metadata": {},
     "output_type": "execute_result"
    }
   ],
   "source": [
    "tel"
   ]
  },
  {
   "cell_type": "code",
   "execution_count": 121,
   "id": "4b5ced2b",
   "metadata": {},
   "outputs": [
    {
     "data": {
      "text/plain": [
       "['jack', 'guido']"
      ]
     },
     "execution_count": 121,
     "metadata": {},
     "output_type": "execute_result"
    }
   ],
   "source": [
    "list (tel)"
   ]
  },
  {
   "cell_type": "code",
   "execution_count": 122,
   "id": "84d7f584",
   "metadata": {},
   "outputs": [
    {
     "data": {
      "text/plain": [
       "{'sape': 4139, 'guido': 4127, 'jack': 4098}"
      ]
     },
     "execution_count": 122,
     "metadata": {},
     "output_type": "execute_result"
    }
   ],
   "source": [
    "dict([('sape', 4139), ('guido', 4127), ('jack', 4098)])"
   ]
  },
  {
   "cell_type": "code",
   "execution_count": 123,
   "id": "5e86abab",
   "metadata": {},
   "outputs": [
    {
     "data": {
      "text/plain": [
       "{'sape': 4139, 'guido': 4127, 'jack': 4098}"
      ]
     },
     "execution_count": 123,
     "metadata": {},
     "output_type": "execute_result"
    }
   ],
   "source": [
    "dict(sape=4139, guido=4127, jack=4098)"
   ]
  },
  {
   "cell_type": "markdown",
   "id": "d54cf67f",
   "metadata": {},
   "source": [
    "### 5.6 Looping Techniques"
   ]
  },
  {
   "cell_type": "code",
   "execution_count": 124,
   "id": "2acacf5a",
   "metadata": {},
   "outputs": [],
   "source": [
    "knights = {'gallahad': 'the pure', 'robin': 'the brave'}"
   ]
  },
  {
   "cell_type": "code",
   "execution_count": 126,
   "id": "884c2fa1",
   "metadata": {},
   "outputs": [
    {
     "name": "stdout",
     "output_type": "stream",
     "text": [
      "gallahad the pure\n",
      "robin the brave\n"
     ]
    }
   ],
   "source": [
    "for k, v in knights.items():\n",
    "    print(k,v)"
   ]
  },
  {
   "cell_type": "code",
   "execution_count": 127,
   "id": "90b1a6d8",
   "metadata": {},
   "outputs": [
    {
     "name": "stdout",
     "output_type": "stream",
     "text": [
      "0 tic\n",
      "1 tac\n",
      "2 toe\n"
     ]
    }
   ],
   "source": [
    "for i, v in enumerate(['tic', 'tac', 'toe']):\n",
    "...     print(i, v)"
   ]
  },
  {
   "cell_type": "code",
   "execution_count": 128,
   "id": "5545cf64",
   "metadata": {},
   "outputs": [],
   "source": [
    "questions = ['name', 'quest', 'favorite color']"
   ]
  },
  {
   "cell_type": "code",
   "execution_count": 129,
   "id": "47be40dc",
   "metadata": {},
   "outputs": [],
   "source": [
    "answers = ['lancelot', 'the holy grail', 'blue']"
   ]
  },
  {
   "cell_type": "code",
   "execution_count": 130,
   "id": "9a0eda44",
   "metadata": {},
   "outputs": [
    {
     "name": "stdout",
     "output_type": "stream",
     "text": [
      "What is your name?  It is lancelot.\n",
      "What is your quest?  It is the holy grail.\n",
      "What is your favorite color?  It is blue.\n"
     ]
    }
   ],
   "source": [
    "for q, a in zip(questions, answers):\n",
    "    print('What is your {0}?  It is {1}.'.format(q, a))"
   ]
  },
  {
   "cell_type": "code",
   "execution_count": 131,
   "id": "685089cc",
   "metadata": {},
   "outputs": [
    {
     "name": "stdout",
     "output_type": "stream",
     "text": [
      "9\n",
      "7\n",
      "5\n",
      "3\n",
      "1\n"
     ]
    }
   ],
   "source": [
    "for i in reversed(range(1, 10, 2)):\n",
    "    print(i)"
   ]
  },
  {
   "cell_type": "code",
   "execution_count": 133,
   "id": "90a338d4",
   "metadata": {},
   "outputs": [
    {
     "name": "stdout",
     "output_type": "stream",
     "text": [
      "apple\n",
      "banana\n",
      "orange\n",
      "pear\n"
     ]
    }
   ],
   "source": [
    "basket = ['apple', 'orange', 'apple', 'pear', 'orange', 'banana']\n",
    "for f in sorted(set(basket)):\n",
    "    print(f)"
   ]
  },
  {
   "cell_type": "markdown",
   "id": "9bdb8a3f",
   "metadata": {},
   "source": [
    "# 6. Modules"
   ]
  },
  {
   "cell_type": "code",
   "execution_count": 2,
   "id": "11a0100e",
   "metadata": {},
   "outputs": [
    {
     "name": "stdout",
     "output_type": "stream",
     "text": [
      "0 1 1 2 3 5 8 13 21 34 55 89 144 233 377 610 987 \n"
     ]
    }
   ],
   "source": [
    "fibo.fib(1000)"
   ]
  },
  {
   "cell_type": "code",
   "execution_count": 4,
   "id": "5768f141",
   "metadata": {},
   "outputs": [
    {
     "data": {
      "text/plain": [
       "[0, 1, 1, 2, 3, 5, 8, 13, 21, 34, 55, 89]"
      ]
     },
     "execution_count": 4,
     "metadata": {},
     "output_type": "execute_result"
    }
   ],
   "source": [
    "fibo.fib2(100)"
   ]
  },
  {
   "cell_type": "markdown",
   "id": "21197b28",
   "metadata": {},
   "source": [
    "post import of functions directly from module's symbol table"
   ]
  },
  {
   "cell_type": "code",
   "execution_count": 7,
   "id": "dad37aea",
   "metadata": {},
   "outputs": [
    {
     "name": "stdout",
     "output_type": "stream",
     "text": [
      "0 1 1 2 3 5 8 13 21 34 55 89 144 233 377 \n"
     ]
    }
   ],
   "source": [
    "fib (500)"
   ]
  },
  {
   "cell_type": "code",
   "execution_count": 10,
   "id": "55c50722",
   "metadata": {},
   "outputs": [
    {
     "name": "stdout",
     "output_type": "stream",
     "text": [
      "0 1 1 2 3 5 8 13 21 34 55 89 144 233 377 \n"
     ]
    }
   ],
   "source": [
    "fib.fib(500)"
   ]
  },
  {
   "cell_type": "code",
   "execution_count": 11,
   "id": "645ef315",
   "metadata": {},
   "outputs": [
    {
     "name": "stdout",
     "output_type": "stream",
     "text": [
      "0 1 1 2 3 5 8 13 21 34 55 89 \n"
     ]
    }
   ],
   "source": [
    "fibonacci(100)"
   ]
  },
  {
   "cell_type": "markdown",
   "id": "f0689038",
   "metadata": {},
   "source": [
    "# 6.1.1 Executing modules as scripts"
   ]
  },
  {
   "cell_type": "markdown",
   "id": "e16123b6",
   "metadata": {},
   "source": [
    "# 6.2 Standarad Modules"
   ]
  },
  {
   "cell_type": "code",
   "execution_count": 1,
   "id": "4dee1139",
   "metadata": {},
   "outputs": [],
   "source": [
    "import sys"
   ]
  },
  {
   "cell_type": "code",
   "execution_count": 2,
   "id": "0cf61626",
   "metadata": {},
   "outputs": [
    {
     "data": {
      "text/plain": [
       "'In : '"
      ]
     },
     "execution_count": 2,
     "metadata": {},
     "output_type": "execute_result"
    }
   ],
   "source": [
    "sys.ps1"
   ]
  },
  {
   "cell_type": "code",
   "execution_count": 3,
   "id": "f24def64",
   "metadata": {},
   "outputs": [
    {
     "data": {
      "text/plain": [
       "'...: '"
      ]
     },
     "execution_count": 3,
     "metadata": {},
     "output_type": "execute_result"
    }
   ],
   "source": [
    "sys.ps2"
   ]
  },
  {
   "cell_type": "code",
   "execution_count": 6,
   "id": "3e3c3479",
   "metadata": {},
   "outputs": [],
   "source": [
    "sys.ps1 = 'C> '"
   ]
  },
  {
   "cell_type": "code",
   "execution_count": 7,
   "id": "a4be1edd",
   "metadata": {},
   "outputs": [
    {
     "data": {
      "text/plain": [
       "'C> '"
      ]
     },
     "execution_count": 7,
     "metadata": {},
     "output_type": "execute_result"
    }
   ],
   "source": [
    "sys.ps1"
   ]
  },
  {
   "cell_type": "code",
   "execution_count": 8,
   "id": "321d299b",
   "metadata": {},
   "outputs": [
    {
     "data": {
      "text/plain": [
       "['C:\\\\Users\\\\barker.FRENCH\\\\Jupyter Lab\\\\python_tutorial',\n",
       " 'C:\\\\spark-3.0.1-bin-hadoop2.7\\\\python\\\\lib\\\\py4j-0.10.9-src.zip',\n",
       " 'C:\\\\Users\\\\barker.FRENCH\\\\AppData\\\\Local\\\\Continuum\\\\anaconda3\\\\python37.zip',\n",
       " 'C:\\\\Users\\\\barker.FRENCH\\\\AppData\\\\Local\\\\Continuum\\\\anaconda3\\\\DLLs',\n",
       " 'C:\\\\Users\\\\barker.FRENCH\\\\AppData\\\\Local\\\\Continuum\\\\anaconda3\\\\lib',\n",
       " 'C:\\\\Users\\\\barker.FRENCH\\\\AppData\\\\Local\\\\Continuum\\\\anaconda3',\n",
       " '',\n",
       " 'C:\\\\Users\\\\barker.FRENCH\\\\AppData\\\\Local\\\\Continuum\\\\anaconda3\\\\lib\\\\site-packages',\n",
       " 'C:\\\\Users\\\\barker.FRENCH\\\\AppData\\\\Local\\\\Continuum\\\\anaconda3\\\\lib\\\\site-packages\\\\locket-0.2.1-py3.7.egg',\n",
       " 'C:\\\\Users\\\\barker.FRENCH\\\\AppData\\\\Local\\\\Continuum\\\\anaconda3\\\\lib\\\\site-packages\\\\win32',\n",
       " 'C:\\\\Users\\\\barker.FRENCH\\\\AppData\\\\Local\\\\Continuum\\\\anaconda3\\\\lib\\\\site-packages\\\\win32\\\\lib',\n",
       " 'C:\\\\Users\\\\barker.FRENCH\\\\AppData\\\\Local\\\\Continuum\\\\anaconda3\\\\lib\\\\site-packages\\\\Pythonwin',\n",
       " 'C:\\\\Users\\\\barker.FRENCH\\\\AppData\\\\Local\\\\Continuum\\\\anaconda3\\\\lib\\\\site-packages\\\\IPython\\\\extensions',\n",
       " 'C:\\\\Users\\\\barker.FRENCH\\\\.ipython']"
      ]
     },
     "execution_count": 8,
     "metadata": {},
     "output_type": "execute_result"
    }
   ],
   "source": [
    "sys.path"
   ]
  },
  {
   "cell_type": "markdown",
   "id": "a0bb5540",
   "metadata": {},
   "source": [
    "# The dir() Function"
   ]
  },
  {
   "cell_type": "code",
   "execution_count": 10,
   "id": "fef8d88f",
   "metadata": {},
   "outputs": [],
   "source": [
    "import fibo, sys"
   ]
  },
  {
   "cell_type": "code",
   "execution_count": 11,
   "id": "755a3a9e",
   "metadata": {},
   "outputs": [
    {
     "data": {
      "text/plain": [
       "['__builtins__',\n",
       " '__cached__',\n",
       " '__doc__',\n",
       " '__file__',\n",
       " '__loader__',\n",
       " '__name__',\n",
       " '__package__',\n",
       " '__spec__',\n",
       " 'fib',\n",
       " 'fib2']"
      ]
     },
     "execution_count": 11,
     "metadata": {},
     "output_type": "execute_result"
    }
   ],
   "source": [
    "dir(fibo)"
   ]
  },
  {
   "cell_type": "code",
   "execution_count": 12,
   "id": "32ad3436",
   "metadata": {},
   "outputs": [
    {
     "data": {
      "text/plain": [
       "['__breakpointhook__',\n",
       " '__displayhook__',\n",
       " '__doc__',\n",
       " '__excepthook__',\n",
       " '__interactivehook__',\n",
       " '__loader__',\n",
       " '__name__',\n",
       " '__package__',\n",
       " '__spec__',\n",
       " '__stderr__',\n",
       " '__stdin__',\n",
       " '__stdout__',\n",
       " '_base_executable',\n",
       " '_clear_type_cache',\n",
       " '_current_frames',\n",
       " '_debugmallocstats',\n",
       " '_enablelegacywindowsfsencoding',\n",
       " '_framework',\n",
       " '_getframe',\n",
       " '_git',\n",
       " '_home',\n",
       " '_xoptions',\n",
       " 'api_version',\n",
       " 'argv',\n",
       " 'base_exec_prefix',\n",
       " 'base_prefix',\n",
       " 'breakpointhook',\n",
       " 'builtin_module_names',\n",
       " 'byteorder',\n",
       " 'call_tracing',\n",
       " 'callstats',\n",
       " 'copyright',\n",
       " 'displayhook',\n",
       " 'dllhandle',\n",
       " 'dont_write_bytecode',\n",
       " 'exc_info',\n",
       " 'excepthook',\n",
       " 'exec_prefix',\n",
       " 'executable',\n",
       " 'exit',\n",
       " 'flags',\n",
       " 'float_info',\n",
       " 'float_repr_style',\n",
       " 'get_asyncgen_hooks',\n",
       " 'get_coroutine_origin_tracking_depth',\n",
       " 'get_coroutine_wrapper',\n",
       " 'getallocatedblocks',\n",
       " 'getcheckinterval',\n",
       " 'getdefaultencoding',\n",
       " 'getfilesystemencodeerrors',\n",
       " 'getfilesystemencoding',\n",
       " 'getprofile',\n",
       " 'getrecursionlimit',\n",
       " 'getrefcount',\n",
       " 'getsizeof',\n",
       " 'getswitchinterval',\n",
       " 'gettrace',\n",
       " 'getwindowsversion',\n",
       " 'hash_info',\n",
       " 'hexversion',\n",
       " 'implementation',\n",
       " 'int_info',\n",
       " 'intern',\n",
       " 'is_finalizing',\n",
       " 'last_traceback',\n",
       " 'last_type',\n",
       " 'last_value',\n",
       " 'maxsize',\n",
       " 'maxunicode',\n",
       " 'meta_path',\n",
       " 'modules',\n",
       " 'path',\n",
       " 'path_hooks',\n",
       " 'path_importer_cache',\n",
       " 'platform',\n",
       " 'prefix',\n",
       " 'ps1',\n",
       " 'ps2',\n",
       " 'ps3',\n",
       " 'set_asyncgen_hooks',\n",
       " 'set_coroutine_origin_tracking_depth',\n",
       " 'set_coroutine_wrapper',\n",
       " 'setcheckinterval',\n",
       " 'setprofile',\n",
       " 'setrecursionlimit',\n",
       " 'setswitchinterval',\n",
       " 'settrace',\n",
       " 'stderr',\n",
       " 'stdin',\n",
       " 'stdout',\n",
       " 'thread_info',\n",
       " 'version',\n",
       " 'version_info',\n",
       " 'warnoptions',\n",
       " 'winver']"
      ]
     },
     "execution_count": 12,
     "metadata": {},
     "output_type": "execute_result"
    }
   ],
   "source": [
    "dir(sys)"
   ]
  },
  {
   "cell_type": "code",
   "execution_count": 13,
   "id": "39b89e50",
   "metadata": {},
   "outputs": [
    {
     "data": {
      "text/plain": [
       "['In',\n",
       " 'Out',\n",
       " '_',\n",
       " '_11',\n",
       " '_12',\n",
       " '_2',\n",
       " '_3',\n",
       " '_7',\n",
       " '_8',\n",
       " '__',\n",
       " '___',\n",
       " '__builtin__',\n",
       " '__builtins__',\n",
       " '__doc__',\n",
       " '__loader__',\n",
       " '__name__',\n",
       " '__package__',\n",
       " '__spec__',\n",
       " '_dh',\n",
       " '_i',\n",
       " '_i1',\n",
       " '_i10',\n",
       " '_i11',\n",
       " '_i12',\n",
       " '_i13',\n",
       " '_i2',\n",
       " '_i3',\n",
       " '_i4',\n",
       " '_i5',\n",
       " '_i6',\n",
       " '_i7',\n",
       " '_i8',\n",
       " '_i9',\n",
       " '_ih',\n",
       " '_ii',\n",
       " '_iii',\n",
       " '_oh',\n",
       " 'exit',\n",
       " 'fibo',\n",
       " 'get_ipython',\n",
       " 'quit',\n",
       " 'sys']"
      ]
     },
     "execution_count": 13,
     "metadata": {},
     "output_type": "execute_result"
    }
   ],
   "source": [
    "dir()"
   ]
  },
  {
   "cell_type": "code",
   "execution_count": 14,
   "id": "43fdcbf9",
   "metadata": {},
   "outputs": [],
   "source": [
    "a = [1, 2, 3, 4, 5]\n",
    "fib = fibo.fib"
   ]
  },
  {
   "cell_type": "code",
   "execution_count": 15,
   "id": "c29d9607",
   "metadata": {},
   "outputs": [
    {
     "data": {
      "text/plain": [
       "['In',\n",
       " 'Out',\n",
       " '_',\n",
       " '_11',\n",
       " '_12',\n",
       " '_13',\n",
       " '_2',\n",
       " '_3',\n",
       " '_7',\n",
       " '_8',\n",
       " '__',\n",
       " '___',\n",
       " '__builtin__',\n",
       " '__builtins__',\n",
       " '__doc__',\n",
       " '__loader__',\n",
       " '__name__',\n",
       " '__package__',\n",
       " '__spec__',\n",
       " '_dh',\n",
       " '_i',\n",
       " '_i1',\n",
       " '_i10',\n",
       " '_i11',\n",
       " '_i12',\n",
       " '_i13',\n",
       " '_i14',\n",
       " '_i15',\n",
       " '_i2',\n",
       " '_i3',\n",
       " '_i4',\n",
       " '_i5',\n",
       " '_i6',\n",
       " '_i7',\n",
       " '_i8',\n",
       " '_i9',\n",
       " '_ih',\n",
       " '_ii',\n",
       " '_iii',\n",
       " '_oh',\n",
       " 'a',\n",
       " 'exit',\n",
       " 'fib',\n",
       " 'fibo',\n",
       " 'get_ipython',\n",
       " 'quit',\n",
       " 'sys']"
      ]
     },
     "execution_count": 15,
     "metadata": {},
     "output_type": "execute_result"
    }
   ],
   "source": [
    "dir()"
   ]
  },
  {
   "cell_type": "code",
   "execution_count": 16,
   "id": "a7fbdf3b",
   "metadata": {},
   "outputs": [
    {
     "data": {
      "text/plain": [
       "['ArithmeticError',\n",
       " 'AssertionError',\n",
       " 'AttributeError',\n",
       " 'BaseException',\n",
       " 'BlockingIOError',\n",
       " 'BrokenPipeError',\n",
       " 'BufferError',\n",
       " 'BytesWarning',\n",
       " 'ChildProcessError',\n",
       " 'ConnectionAbortedError',\n",
       " 'ConnectionError',\n",
       " 'ConnectionRefusedError',\n",
       " 'ConnectionResetError',\n",
       " 'DeprecationWarning',\n",
       " 'EOFError',\n",
       " 'Ellipsis',\n",
       " 'EnvironmentError',\n",
       " 'Exception',\n",
       " 'False',\n",
       " 'FileExistsError',\n",
       " 'FileNotFoundError',\n",
       " 'FloatingPointError',\n",
       " 'FutureWarning',\n",
       " 'GeneratorExit',\n",
       " 'IOError',\n",
       " 'ImportError',\n",
       " 'ImportWarning',\n",
       " 'IndentationError',\n",
       " 'IndexError',\n",
       " 'InterruptedError',\n",
       " 'IsADirectoryError',\n",
       " 'KeyError',\n",
       " 'KeyboardInterrupt',\n",
       " 'LookupError',\n",
       " 'MemoryError',\n",
       " 'ModuleNotFoundError',\n",
       " 'NameError',\n",
       " 'None',\n",
       " 'NotADirectoryError',\n",
       " 'NotImplemented',\n",
       " 'NotImplementedError',\n",
       " 'OSError',\n",
       " 'OverflowError',\n",
       " 'PendingDeprecationWarning',\n",
       " 'PermissionError',\n",
       " 'ProcessLookupError',\n",
       " 'RecursionError',\n",
       " 'ReferenceError',\n",
       " 'ResourceWarning',\n",
       " 'RuntimeError',\n",
       " 'RuntimeWarning',\n",
       " 'StopAsyncIteration',\n",
       " 'StopIteration',\n",
       " 'SyntaxError',\n",
       " 'SyntaxWarning',\n",
       " 'SystemError',\n",
       " 'SystemExit',\n",
       " 'TabError',\n",
       " 'TimeoutError',\n",
       " 'True',\n",
       " 'TypeError',\n",
       " 'UnboundLocalError',\n",
       " 'UnicodeDecodeError',\n",
       " 'UnicodeEncodeError',\n",
       " 'UnicodeError',\n",
       " 'UnicodeTranslateError',\n",
       " 'UnicodeWarning',\n",
       " 'UserWarning',\n",
       " 'ValueError',\n",
       " 'Warning',\n",
       " 'WindowsError',\n",
       " 'ZeroDivisionError',\n",
       " '__IPYTHON__',\n",
       " '__build_class__',\n",
       " '__debug__',\n",
       " '__doc__',\n",
       " '__import__',\n",
       " '__loader__',\n",
       " '__name__',\n",
       " '__package__',\n",
       " '__spec__',\n",
       " 'abs',\n",
       " 'all',\n",
       " 'any',\n",
       " 'ascii',\n",
       " 'bin',\n",
       " 'bool',\n",
       " 'breakpoint',\n",
       " 'bytearray',\n",
       " 'bytes',\n",
       " 'callable',\n",
       " 'chr',\n",
       " 'classmethod',\n",
       " 'compile',\n",
       " 'complex',\n",
       " 'copyright',\n",
       " 'credits',\n",
       " 'delattr',\n",
       " 'dict',\n",
       " 'dir',\n",
       " 'display',\n",
       " 'divmod',\n",
       " 'enumerate',\n",
       " 'eval',\n",
       " 'exec',\n",
       " 'filter',\n",
       " 'float',\n",
       " 'format',\n",
       " 'frozenset',\n",
       " 'get_ipython',\n",
       " 'getattr',\n",
       " 'globals',\n",
       " 'hasattr',\n",
       " 'hash',\n",
       " 'help',\n",
       " 'hex',\n",
       " 'id',\n",
       " 'input',\n",
       " 'int',\n",
       " 'isinstance',\n",
       " 'issubclass',\n",
       " 'iter',\n",
       " 'len',\n",
       " 'license',\n",
       " 'list',\n",
       " 'locals',\n",
       " 'map',\n",
       " 'max',\n",
       " 'memoryview',\n",
       " 'min',\n",
       " 'next',\n",
       " 'object',\n",
       " 'oct',\n",
       " 'open',\n",
       " 'ord',\n",
       " 'pow',\n",
       " 'print',\n",
       " 'property',\n",
       " 'range',\n",
       " 'repr',\n",
       " 'reversed',\n",
       " 'round',\n",
       " 'set',\n",
       " 'setattr',\n",
       " 'slice',\n",
       " 'sorted',\n",
       " 'staticmethod',\n",
       " 'str',\n",
       " 'sum',\n",
       " 'super',\n",
       " 'tuple',\n",
       " 'type',\n",
       " 'vars',\n",
       " 'zip']"
      ]
     },
     "execution_count": 16,
     "metadata": {},
     "output_type": "execute_result"
    }
   ],
   "source": [
    "import builtins\n",
    "dir(builtins)"
   ]
  },
  {
   "cell_type": "code",
   "execution_count": 17,
   "id": "6db621cb",
   "metadata": {},
   "outputs": [
    {
     "ename": "ModuleNotFoundError",
     "evalue": "No module named 'sound'",
     "output_type": "error",
     "traceback": [
      "\u001b[1;31m---------------------------------------------------------------------------\u001b[0m",
      "\u001b[1;31mModuleNotFoundError\u001b[0m                       Traceback (most recent call last)",
      "\u001b[1;32m<ipython-input-17-fc07412d5a70>\u001b[0m in \u001b[0;36m<module>\u001b[1;34m\u001b[0m\n\u001b[1;32m----> 1\u001b[1;33m \u001b[1;32mimport\u001b[0m \u001b[0msound\u001b[0m\u001b[1;33m.\u001b[0m\u001b[0meffects\u001b[0m\u001b[1;33m.\u001b[0m\u001b[0mecho\u001b[0m\u001b[1;33m\u001b[0m\u001b[1;33m\u001b[0m\u001b[0m\n\u001b[0m",
      "\u001b[1;31mModuleNotFoundError\u001b[0m: No module named 'sound'"
     ]
    }
   ],
   "source": [
    "import sound.effects.echo"
   ]
  },
  {
   "cell_type": "code",
   "execution_count": 19,
   "id": "f55f1d67",
   "metadata": {},
   "outputs": [
    {
     "ename": "ModuleNotFoundError",
     "evalue": "No module named 'sound'",
     "output_type": "error",
     "traceback": [
      "\u001b[1;31m---------------------------------------------------------------------------\u001b[0m",
      "\u001b[1;31mModuleNotFoundError\u001b[0m                       Traceback (most recent call last)",
      "\u001b[1;32m<ipython-input-19-4c42e49b3ae5>\u001b[0m in \u001b[0;36m<module>\u001b[1;34m\u001b[0m\n\u001b[1;32m----> 1\u001b[1;33m \u001b[1;32mfrom\u001b[0m \u001b[0msound\u001b[0m\u001b[1;33m.\u001b[0m\u001b[0meffects\u001b[0m \u001b[1;32mimport\u001b[0m \u001b[0mecho\u001b[0m\u001b[1;33m\u001b[0m\u001b[1;33m\u001b[0m\u001b[0m\n\u001b[0m",
      "\u001b[1;31mModuleNotFoundError\u001b[0m: No module named 'sound'"
     ]
    }
   ],
   "source": [
    "from sound.effects import echo"
   ]
  },
  {
   "cell_type": "markdown",
   "id": "30f19996",
   "metadata": {},
   "source": [
    "# 7.1 Fancier Output Formatting"
   ]
  },
  {
   "cell_type": "code",
   "execution_count": 3,
   "id": "d7f0b72d",
   "metadata": {},
   "outputs": [
    {
     "data": {
      "text/plain": [
       "'Results of the 2016 Referendum'"
      ]
     },
     "execution_count": 3,
     "metadata": {},
     "output_type": "execute_result"
    }
   ],
   "source": [
    "year = 2016\n",
    "event = 'Referendum'\n",
    "f'Results of the {year} {event}'"
   ]
  },
  {
   "cell_type": "code",
   "execution_count": 5,
   "id": "5b4817c9",
   "metadata": {},
   "outputs": [
    {
     "data": {
      "text/plain": [
       "'42,572,654 YES votes 49.67%'"
      ]
     },
     "execution_count": 5,
     "metadata": {},
     "output_type": "execute_result"
    }
   ],
   "source": [
    "yes_votes = 42572654\n",
    "no_votes = 43132495\n",
    "percentage = yes_votes / (yes_votes + no_votes)\n",
    "'{:9,} YES votes {:2.2%}'.format(yes_votes, percentage)"
   ]
  },
  {
   "cell_type": "code",
   "execution_count": 6,
   "id": "f6089f84",
   "metadata": {},
   "outputs": [],
   "source": [
    "s = 'Hello, world'"
   ]
  },
  {
   "cell_type": "code",
   "execution_count": 7,
   "id": "fa32d242",
   "metadata": {},
   "outputs": [
    {
     "data": {
      "text/plain": [
       "'Hello, world'"
      ]
     },
     "execution_count": 7,
     "metadata": {},
     "output_type": "execute_result"
    }
   ],
   "source": [
    "str(s)"
   ]
  },
  {
   "cell_type": "code",
   "execution_count": 8,
   "id": "08293408",
   "metadata": {},
   "outputs": [
    {
     "data": {
      "text/plain": [
       "\"'Hello, world'\""
      ]
     },
     "execution_count": 8,
     "metadata": {},
     "output_type": "execute_result"
    }
   ],
   "source": [
    "repr(s)"
   ]
  },
  {
   "cell_type": "code",
   "execution_count": 9,
   "id": "0718092c",
   "metadata": {},
   "outputs": [
    {
     "data": {
      "text/plain": [
       "'0.14285714285714285'"
      ]
     },
     "execution_count": 9,
     "metadata": {},
     "output_type": "execute_result"
    }
   ],
   "source": [
    "str(1/7)"
   ]
  },
  {
   "cell_type": "code",
   "execution_count": 10,
   "id": "a0fde913",
   "metadata": {},
   "outputs": [],
   "source": [
    "x = 10 * 3.25"
   ]
  },
  {
   "cell_type": "code",
   "execution_count": 11,
   "id": "f0ee3959",
   "metadata": {},
   "outputs": [],
   "source": [
    "y = 200 * 200"
   ]
  },
  {
   "cell_type": "code",
   "execution_count": 17,
   "id": "7f0dd899",
   "metadata": {},
   "outputs": [
    {
     "name": "stdout",
     "output_type": "stream",
     "text": [
      "The value of x is 32.5, and y is 40000...\n"
     ]
    }
   ],
   "source": [
    "s = 'The value of x is ' + repr(x) + ', and y is ' + repr(y) + '...'\n",
    "print(s)"
   ]
  },
  {
   "cell_type": "code",
   "execution_count": 18,
   "id": "bf42d1c6",
   "metadata": {},
   "outputs": [
    {
     "name": "stdout",
     "output_type": "stream",
     "text": [
      "The value of x is 32.5, and y is 40000...\n"
     ]
    }
   ],
   "source": [
    "s = 'The value of x is ' + str(x) + ', and y is ' + str(y) + '...'\n",
    "print(s)"
   ]
  },
  {
   "cell_type": "code",
   "execution_count": 19,
   "id": "b37ec4d2",
   "metadata": {},
   "outputs": [],
   "source": [
    "hello = 'hello, world\\n'"
   ]
  },
  {
   "cell_type": "code",
   "execution_count": 20,
   "id": "4e7fcb76",
   "metadata": {},
   "outputs": [
    {
     "name": "stdout",
     "output_type": "stream",
     "text": [
      "'hello, world\\n'\n"
     ]
    }
   ],
   "source": [
    "hellos = repr(hello)\n",
    "print(hellos)"
   ]
  },
  {
   "cell_type": "code",
   "execution_count": 21,
   "id": "c3035f22",
   "metadata": {},
   "outputs": [
    {
     "name": "stdout",
     "output_type": "stream",
     "text": [
      "hello, world\n",
      "\n"
     ]
    }
   ],
   "source": [
    "hellos = str(hello)\n",
    "print(hellos)"
   ]
  },
  {
   "cell_type": "code",
   "execution_count": 23,
   "id": "825e52ee",
   "metadata": {},
   "outputs": [
    {
     "data": {
      "text/plain": [
       "\"(32.5, 40000, ('spam', 'eggs'))\""
      ]
     },
     "execution_count": 23,
     "metadata": {},
     "output_type": "execute_result"
    }
   ],
   "source": [
    "repr((x, y, ('spam', 'eggs')))"
   ]
  },
  {
   "cell_type": "markdown",
   "id": "3d6359ce",
   "metadata": {},
   "source": [
    "### 7.1.1 Formatted String Literals"
   ]
  },
  {
   "cell_type": "code",
   "execution_count": 24,
   "id": "60c1c144",
   "metadata": {},
   "outputs": [],
   "source": [
    "import math"
   ]
  },
  {
   "cell_type": "code",
   "execution_count": 29,
   "id": "d12b316f",
   "metadata": {},
   "outputs": [
    {
     "name": "stdout",
     "output_type": "stream",
     "text": [
      "The value of pi is approximately 3.142.\n"
     ]
    }
   ],
   "source": [
    "print(f'The value of pi is approximately {math.pi:.3f}.')"
   ]
  },
  {
   "cell_type": "code",
   "execution_count": 34,
   "id": "b829b332",
   "metadata": {},
   "outputs": [
    {
     "name": "stdout",
     "output_type": "stream",
     "text": [
      "Sjoerd     ==>       4127\n",
      "Jack       ==>       4098\n",
      "Dcab       ==>       7678\n"
     ]
    }
   ],
   "source": [
    "table = {'Sjoerd': 4127, 'Jack':4098, 'Dcab':7678}\n",
    "for name, phone in table.items():\n",
    "    print(f'{name:10} ==> {phone:10d}')"
   ]
  },
  {
   "cell_type": "code",
   "execution_count": 35,
   "id": "ae9de49f",
   "metadata": {},
   "outputs": [
    {
     "name": "stdout",
     "output_type": "stream",
     "text": [
      "answer:10 4127\n"
     ]
    }
   ],
   "source": [
    "print ('answer:10',table['Sjoerd'])"
   ]
  },
  {
   "cell_type": "code",
   "execution_count": 99,
   "id": "4cb8a4b6",
   "metadata": {},
   "outputs": [
    {
     "name": "stdout",
     "output_type": "stream",
     "text": [
      "name: Sjoerd     ==> phone:      4127\n",
      "name: Jack       ==> phone:      4098\n",
      "name: Dcab       ==> phone:      7678\n"
     ]
    }
   ],
   "source": [
    "table = {'Sjoerd': 4127, 'Jack':4098, 'Dcab':7678}\n",
    "for name, phone in table.items():\n",
    "    print(f'name: {name:10} ==> phone:{phone:10d}')"
   ]
  },
  {
   "cell_type": "code",
   "execution_count": 88,
   "id": "7dc28788",
   "metadata": {},
   "outputs": [
    {
     "name": "stdout",
     "output_type": "stream",
     "text": [
      "My hovercraft is full of eels.\n",
      "My hovercraft is full of 'eels'.\n",
      "My hovercraft is full of 'eels'.\n"
     ]
    }
   ],
   "source": [
    "animals = 'eels'\n",
    "print(f'My hovercraft is full of {animals}.')\n",
    "print(f'My hovercraft is full of {animals!a}.')\n",
    "print(f'My hovercraft is full of {animals!r}.')"
   ]
  },
  {
   "cell_type": "markdown",
   "id": "9f7b7925",
   "metadata": {},
   "source": [
    "### 7.1.2 The String format() Method"
   ]
  },
  {
   "cell_type": "code",
   "execution_count": 46,
   "id": "4fa858c9",
   "metadata": {},
   "outputs": [
    {
     "name": "stdout",
     "output_type": "stream",
     "text": [
      "We are the knights who say \"Ni!\"\n"
     ]
    }
   ],
   "source": [
    "print('We are the {} who say \"{}!\"'.format('knights', 'Ni'))"
   ]
  },
  {
   "cell_type": "code",
   "execution_count": 47,
   "id": "73e72661",
   "metadata": {},
   "outputs": [
    {
     "name": "stdout",
     "output_type": "stream",
     "text": [
      "spam and eggs\n"
     ]
    }
   ],
   "source": [
    "print('{0} and {1}'.format('spam', 'eggs'))"
   ]
  },
  {
   "cell_type": "code",
   "execution_count": 48,
   "id": "7d2b749f",
   "metadata": {},
   "outputs": [
    {
     "name": "stdout",
     "output_type": "stream",
     "text": [
      "eggs and spam\n"
     ]
    }
   ],
   "source": [
    "print('{1} and {0}'.format('spam', 'eggs'))"
   ]
  },
  {
   "cell_type": "code",
   "execution_count": 67,
   "id": "b4e4767c",
   "metadata": {},
   "outputs": [
    {
     "name": "stdout",
     "output_type": "stream",
     "text": [
      "1,000.13 and 10000\n"
     ]
    }
   ],
   "source": [
    "print('{1:,.2f} and {0}'.format(10000, 1000.1284))"
   ]
  },
  {
   "cell_type": "code",
   "execution_count": 70,
   "id": "f147ee7a",
   "metadata": {},
   "outputs": [
    {
     "name": "stdout",
     "output_type": "stream",
     "text": [
      "This spam is absolutely horrible.\n"
     ]
    }
   ],
   "source": [
    "print('This {food} is {adjective}.'.format(food='spam', adjective='absolutely horrible'))"
   ]
  },
  {
   "cell_type": "code",
   "execution_count": 74,
   "id": "221cffd1",
   "metadata": {},
   "outputs": [
    {
     "name": "stdout",
     "output_type": "stream",
     "text": [
      "The story of Manfred, Bill, and Georg.\n"
     ]
    }
   ],
   "source": [
    "print('The story of {1}, {0}, and {other}.'.format('Bill', 'Manfred',\n",
    "                                                       other='Georg'))"
   ]
  },
  {
   "cell_type": "code",
   "execution_count": 82,
   "id": "904d1bbe",
   "metadata": {},
   "outputs": [
    {
     "name": "stdout",
     "output_type": "stream",
     "text": [
      "Jack: 4,098; Sjoerd: 4,127.23; Dcab: 8637678\n"
     ]
    }
   ],
   "source": [
    "table = {'Sjoerd': 4127.234, 'Jack': 4098, 'Dcab': 8637678}\n",
    "print('Jack: {0[Jack]:,d}; Sjoerd: {0[Sjoerd]:,.2f}; Dcab: {0[Dcab]:d}'.format(table))"
   ]
  },
  {
   "cell_type": "code",
   "execution_count": 85,
   "id": "090853d9",
   "metadata": {},
   "outputs": [
    {
     "name": "stdout",
     "output_type": "stream",
     "text": [
      "         1          1          1\n",
      "         2          4          8\n",
      "         3          9         27\n",
      "         4         16         64\n",
      "         5         25        125\n",
      "         6         36        216\n",
      "         7         49        343\n",
      "         8         64        512\n",
      "         9         81        729\n",
      "        10        100      1,000\n"
     ]
    }
   ],
   "source": [
    "for x in range(1, 11):\n",
    "    print('{0:10d} {1:10d} {2:10,d}'.format(x, x*x, x*x*x))"
   ]
  },
  {
   "cell_type": "markdown",
   "id": "772d41fa",
   "metadata": {},
   "source": [
    "### 7.1.3 Manual String Formatting"
   ]
  },
  {
   "cell_type": "code",
   "execution_count": 102,
   "id": "9f1b7d9c",
   "metadata": {},
   "outputs": [
    {
     "name": "stdout",
     "output_type": "stream",
     "text": [
      "name: Sjoerd     ==> phone:       4127\n",
      "name: Jack       ==> phone:       4098\n",
      "name: Dcab       ==> phone:       7678\n"
     ]
    }
   ],
   "source": [
    "table = {'Sjoerd': 4127, 'Jack':4098, 'Dcab':7678}\n",
    "for name, phone in table.items():\n",
    "    print(f'name: {name:10} ==> phone:', f'{phone:10d}'.ljust(4))"
   ]
  },
  {
   "cell_type": "code",
   "execution_count": 104,
   "id": "f43a1bb3",
   "metadata": {},
   "outputs": [
    {
     "data": {
      "text/plain": [
       "'000012'"
      ]
     },
     "execution_count": 104,
     "metadata": {},
     "output_type": "execute_result"
    }
   ],
   "source": [
    "'12'.zfill(6)"
   ]
  },
  {
   "cell_type": "code",
   "execution_count": 105,
   "id": "e1d2695a",
   "metadata": {},
   "outputs": [
    {
     "data": {
      "text/plain": [
       "'-003.14'"
      ]
     },
     "execution_count": 105,
     "metadata": {},
     "output_type": "execute_result"
    }
   ],
   "source": [
    "'-3.14'.zfill(7)"
   ]
  },
  {
   "cell_type": "code",
   "execution_count": 110,
   "id": "76c384f7",
   "metadata": {},
   "outputs": [
    {
     "data": {
      "text/plain": [
       "'3.14159265359'"
      ]
     },
     "execution_count": 110,
     "metadata": {},
     "output_type": "execute_result"
    }
   ],
   "source": [
    "'3.14159265359'.zfill(5)"
   ]
  },
  {
   "cell_type": "code",
   "execution_count": 111,
   "id": "e67acb3d",
   "metadata": {},
   "outputs": [
    {
     "data": {
      "text/plain": [
       "'000003.14159265359'"
      ]
     },
     "execution_count": 111,
     "metadata": {},
     "output_type": "execute_result"
    }
   ],
   "source": [
    "'3.14159265359'.zfill(18)"
   ]
  },
  {
   "cell_type": "markdown",
   "id": "f2b7434d",
   "metadata": {},
   "source": [
    "### Reading and Writing Files"
   ]
  },
  {
   "cell_type": "code",
   "execution_count": 113,
   "id": "ee764a15",
   "metadata": {},
   "outputs": [],
   "source": [
    "f = open('workfile','w')"
   ]
  },
  {
   "cell_type": "code",
   "execution_count": 114,
   "id": "ba3a907f",
   "metadata": {},
   "outputs": [],
   "source": [
    "with open('workfile') as f:\n",
    "    read_data = f.read()"
   ]
  },
  {
   "cell_type": "code",
   "execution_count": 115,
   "id": "3b246a92",
   "metadata": {},
   "outputs": [
    {
     "data": {
      "text/plain": [
       "True"
      ]
     },
     "execution_count": 115,
     "metadata": {},
     "output_type": "execute_result"
    }
   ],
   "source": [
    "f.closed"
   ]
  },
  {
   "cell_type": "code",
   "execution_count": 116,
   "id": "d5a057a8",
   "metadata": {},
   "outputs": [
    {
     "ename": "ValueError",
     "evalue": "I/O operation on closed file.",
     "output_type": "error",
     "traceback": [
      "\u001b[1;31m---------------------------------------------------------------------------\u001b[0m",
      "\u001b[1;31mValueError\u001b[0m                                Traceback (most recent call last)",
      "\u001b[1;32m<ipython-input-116-bf012af3c351>\u001b[0m in \u001b[0;36m<module>\u001b[1;34m\u001b[0m\n\u001b[0;32m      1\u001b[0m \u001b[0mf\u001b[0m\u001b[1;33m.\u001b[0m\u001b[0mclose\u001b[0m\u001b[1;33m(\u001b[0m\u001b[1;33m)\u001b[0m\u001b[1;33m\u001b[0m\u001b[1;33m\u001b[0m\u001b[0m\n\u001b[1;32m----> 2\u001b[1;33m \u001b[0mf\u001b[0m\u001b[1;33m.\u001b[0m\u001b[0mread\u001b[0m\u001b[1;33m(\u001b[0m\u001b[1;33m)\u001b[0m\u001b[1;33m\u001b[0m\u001b[1;33m\u001b[0m\u001b[0m\n\u001b[0m",
      "\u001b[1;31mValueError\u001b[0m: I/O operation on closed file."
     ]
    }
   ],
   "source": [
    "f.close()\n",
    "f.read()"
   ]
  },
  {
   "cell_type": "code",
   "execution_count": 157,
   "id": "a9bc241b",
   "metadata": {},
   "outputs": [],
   "source": [
    "f = open('workfile','w')\n",
    "f.write('This is the first line of the file.\\nSecond line of the file\\n')\n",
    "f.close()"
   ]
  },
  {
   "cell_type": "code",
   "execution_count": 158,
   "id": "0572b3b4",
   "metadata": {},
   "outputs": [
    {
     "name": "stdout",
     "output_type": "stream",
     "text": [
      "This is the first line of the file.\n",
      "Second line of the file\n",
      "\n"
     ]
    }
   ],
   "source": [
    "with open('workfile') as f:\n",
    "    print(f.read())"
   ]
  },
  {
   "cell_type": "code",
   "execution_count": 131,
   "id": "470880f8",
   "metadata": {},
   "outputs": [],
   "source": [
    "f = open('workfile','r')"
   ]
  },
  {
   "cell_type": "code",
   "execution_count": 132,
   "id": "4022f8a2",
   "metadata": {},
   "outputs": [
    {
     "data": {
      "text/plain": [
       "'This is the first line of the file.\\n'"
      ]
     },
     "execution_count": 132,
     "metadata": {},
     "output_type": "execute_result"
    }
   ],
   "source": [
    "f.readline()"
   ]
  },
  {
   "cell_type": "code",
   "execution_count": 133,
   "id": "3bd8cbca",
   "metadata": {},
   "outputs": [
    {
     "data": {
      "text/plain": [
       "'Second line of the file\\n'"
      ]
     },
     "execution_count": 133,
     "metadata": {},
     "output_type": "execute_result"
    }
   ],
   "source": [
    "f.readline()"
   ]
  },
  {
   "cell_type": "code",
   "execution_count": 135,
   "id": "a5a0f2e1",
   "metadata": {},
   "outputs": [],
   "source": [
    "f.close()"
   ]
  },
  {
   "cell_type": "code",
   "execution_count": 136,
   "id": "7c20fb68",
   "metadata": {},
   "outputs": [],
   "source": [
    "f = open('workfile','r')"
   ]
  },
  {
   "cell_type": "code",
   "execution_count": 138,
   "id": "1fa3bc58",
   "metadata": {},
   "outputs": [],
   "source": [
    "for line in f:\n",
    "    print(line, end='')\n",
    "f.close()"
   ]
  },
  {
   "cell_type": "code",
   "execution_count": 159,
   "id": "96b96b10",
   "metadata": {},
   "outputs": [],
   "source": [
    "with open('workfile','a') as f:\n",
    "    f.write('This is a test\\n')"
   ]
  },
  {
   "cell_type": "code",
   "execution_count": 161,
   "id": "94de8e93",
   "metadata": {},
   "outputs": [
    {
     "data": {
      "text/plain": [
       "0"
      ]
     },
     "execution_count": 161,
     "metadata": {},
     "output_type": "execute_result"
    }
   ],
   "source": [
    "f = open('workfile','r')\n",
    "f.tell()"
   ]
  },
  {
   "cell_type": "code",
   "execution_count": 147,
   "id": "306cbb61",
   "metadata": {},
   "outputs": [
    {
     "name": "stdout",
     "output_type": "stream",
     "text": [
      "This is a test\n",
      "\n"
     ]
    }
   ],
   "source": [
    "print(f.readline())"
   ]
  },
  {
   "cell_type": "code",
   "execution_count": 149,
   "id": "dae9bb81",
   "metadata": {},
   "outputs": [
    {
     "data": {
      "text/plain": [
       "16"
      ]
     },
     "execution_count": 149,
     "metadata": {},
     "output_type": "execute_result"
    }
   ],
   "source": [
    "f.tell()"
   ]
  },
  {
   "cell_type": "code",
   "execution_count": 162,
   "id": "19879c02",
   "metadata": {},
   "outputs": [
    {
     "name": "stdout",
     "output_type": "stream",
     "text": [
      "['This is the first line of the file.\\n', 'Second line of the file\\n', 'This is a test\\n']\n"
     ]
    }
   ],
   "source": [
    "print(f.readlines())"
   ]
  },
  {
   "cell_type": "markdown",
   "id": "85c7902e",
   "metadata": {},
   "source": [
    "# Errors and Exceptions"
   ]
  },
  {
   "cell_type": "markdown",
   "id": "fe7fdaf0",
   "metadata": {},
   "source": [
    "### 8.1 Syntax Errors"
   ]
  },
  {
   "cell_type": "code",
   "execution_count": 1,
   "id": "8f8ea16d",
   "metadata": {},
   "outputs": [
    {
     "ename": "SyntaxError",
     "evalue": "invalid syntax (<ipython-input-1-7a481d3f46d4>, line 1)",
     "output_type": "error",
     "traceback": [
      "\u001b[1;36m  File \u001b[1;32m\"<ipython-input-1-7a481d3f46d4>\"\u001b[1;36m, line \u001b[1;32m1\u001b[0m\n\u001b[1;33m    while True print('Hello World')\u001b[0m\n\u001b[1;37m                   ^\u001b[0m\n\u001b[1;31mSyntaxError\u001b[0m\u001b[1;31m:\u001b[0m invalid syntax\n"
     ]
    }
   ],
   "source": [
    "while True print('Hello World')"
   ]
  },
  {
   "cell_type": "markdown",
   "id": "141ba7c7",
   "metadata": {},
   "source": [
    "### 8.2 Exceptions"
   ]
  },
  {
   "cell_type": "code",
   "execution_count": 2,
   "id": "a9915623",
   "metadata": {},
   "outputs": [
    {
     "ename": "ZeroDivisionError",
     "evalue": "division by zero",
     "output_type": "error",
     "traceback": [
      "\u001b[1;31m---------------------------------------------------------------------------\u001b[0m",
      "\u001b[1;31mZeroDivisionError\u001b[0m                         Traceback (most recent call last)",
      "\u001b[1;32m<ipython-input-2-0b280f36835c>\u001b[0m in \u001b[0;36m<module>\u001b[1;34m\u001b[0m\n\u001b[1;32m----> 1\u001b[1;33m \u001b[1;36m10\u001b[0m \u001b[1;33m*\u001b[0m \u001b[1;33m(\u001b[0m\u001b[1;36m1\u001b[0m\u001b[1;33m/\u001b[0m\u001b[1;36m0\u001b[0m\u001b[1;33m)\u001b[0m\u001b[1;33m\u001b[0m\u001b[1;33m\u001b[0m\u001b[0m\n\u001b[0m",
      "\u001b[1;31mZeroDivisionError\u001b[0m: division by zero"
     ]
    }
   ],
   "source": [
    "10 * (1/0)"
   ]
  },
  {
   "cell_type": "code",
   "execution_count": 3,
   "id": "98e7d300",
   "metadata": {},
   "outputs": [
    {
     "ename": "NameError",
     "evalue": "name 'spam' is not defined",
     "output_type": "error",
     "traceback": [
      "\u001b[1;31m---------------------------------------------------------------------------\u001b[0m",
      "\u001b[1;31mNameError\u001b[0m                                 Traceback (most recent call last)",
      "\u001b[1;32m<ipython-input-3-c98bb92cdcac>\u001b[0m in \u001b[0;36m<module>\u001b[1;34m\u001b[0m\n\u001b[1;32m----> 1\u001b[1;33m \u001b[1;36m4\u001b[0m \u001b[1;33m+\u001b[0m \u001b[0mspam\u001b[0m\u001b[1;33m*\u001b[0m\u001b[1;36m3\u001b[0m\u001b[1;33m\u001b[0m\u001b[1;33m\u001b[0m\u001b[0m\n\u001b[0m",
      "\u001b[1;31mNameError\u001b[0m: name 'spam' is not defined"
     ]
    }
   ],
   "source": [
    "4 + spam*3"
   ]
  },
  {
   "cell_type": "code",
   "execution_count": 4,
   "id": "8b4e4dec",
   "metadata": {},
   "outputs": [
    {
     "ename": "TypeError",
     "evalue": "can only concatenate str (not \"int\") to str",
     "output_type": "error",
     "traceback": [
      "\u001b[1;31m---------------------------------------------------------------------------\u001b[0m",
      "\u001b[1;31mTypeError\u001b[0m                                 Traceback (most recent call last)",
      "\u001b[1;32m<ipython-input-4-d2b23a1db757>\u001b[0m in \u001b[0;36m<module>\u001b[1;34m\u001b[0m\n\u001b[1;32m----> 1\u001b[1;33m \u001b[1;34m'2'\u001b[0m \u001b[1;33m+\u001b[0m \u001b[1;36m2\u001b[0m\u001b[1;33m\u001b[0m\u001b[1;33m\u001b[0m\u001b[0m\n\u001b[0m",
      "\u001b[1;31mTypeError\u001b[0m: can only concatenate str (not \"int\") to str"
     ]
    }
   ],
   "source": [
    "'2' + 2"
   ]
  },
  {
   "cell_type": "markdown",
   "id": "fda1b853",
   "metadata": {},
   "source": [
    "### 8.3 Handling Exceptions"
   ]
  },
  {
   "cell_type": "code",
   "execution_count": 7,
   "id": "be3afbda",
   "metadata": {},
   "outputs": [
    {
     "name": "stdin",
     "output_type": "stream",
     "text": [
      "Please enter a number:  a\n"
     ]
    },
    {
     "name": "stdout",
     "output_type": "stream",
     "text": [
      "Ooops!  That was no valid number.  Try again...\n"
     ]
    },
    {
     "name": "stdin",
     "output_type": "stream",
     "text": [
      "Please enter a number:  3\n"
     ]
    }
   ],
   "source": [
    "while True:\n",
    "    try:\n",
    "        x = int(input('Please enter a number: '))\n",
    "        break\n",
    "    except :\n",
    "        print('Ooops!  That was no valid number.  Try again...')"
   ]
  },
  {
   "cell_type": "code",
   "execution_count": 8,
   "id": "a38ede44",
   "metadata": {},
   "outputs": [
    {
     "name": "stdout",
     "output_type": "stream",
     "text": [
      "B\n",
      "C\n",
      "D\n"
     ]
    }
   ],
   "source": [
    "class B(Exception):\n",
    "    pass\n",
    "\n",
    "class C(B):\n",
    "    pass\n",
    "\n",
    "class D(C):\n",
    "    pass\n",
    "\n",
    "for cls in [B, C, D]:\n",
    "    try:\n",
    "        raise cls()\n",
    "    except D:\n",
    "        print(\"D\")\n",
    "    except C:\n",
    "        print(\"C\")\n",
    "    except B:\n",
    "        print(\"B\")"
   ]
  },
  {
   "cell_type": "code",
   "execution_count": 10,
   "id": "1a0f14a0",
   "metadata": {},
   "outputs": [
    {
     "name": "stdout",
     "output_type": "stream",
     "text": [
      "<class '__main__.B'>\n",
      "B\n",
      "<class '__main__.C'>\n",
      "B\n",
      "<class '__main__.D'>\n",
      "B\n"
     ]
    }
   ],
   "source": [
    "class B(Exception):\n",
    "    pass\n",
    "\n",
    "class C(B):\n",
    "    pass\n",
    "\n",
    "class D(C):\n",
    "    pass\n",
    "\n",
    "for cls in [B, C, D]:\n",
    "    try:\n",
    "        print(cls)\n",
    "        raise cls()\n",
    "    except B:\n",
    "        print(\"B\")\n",
    "    except C:\n",
    "        print(\"C\")\n",
    "    except D:\n",
    "        print(\"D\")\n"
   ]
  },
  {
   "cell_type": "code",
   "execution_count": 15,
   "id": "7ad61373",
   "metadata": {},
   "outputs": [
    {
     "name": "stdout",
     "output_type": "stream",
     "text": [
      "Could not convert data to an integer.\n"
     ]
    }
   ],
   "source": [
    "import sys\n",
    "\n",
    "try:\n",
    "    f = open('workfile')\n",
    "    s = f.readline()\n",
    "    i = int(s.strip())\n",
    "except OSError as err:\n",
    "    print(\"OS error: {0}\".format(err))\n",
    "except ValueError:\n",
    "    print(\"Could not convert data to an integer.\")\n",
    "except:\n",
    "    print(\"Unexpected error:\", sys.exc_info()[0])\n",
    "    raise"
   ]
  },
  {
   "cell_type": "code",
   "execution_count": 13,
   "id": "e6023e80",
   "metadata": {},
   "outputs": [],
   "source": [
    "import os"
   ]
  },
  {
   "cell_type": "code",
   "execution_count": 14,
   "id": "216beeab",
   "metadata": {},
   "outputs": [
    {
     "data": {
      "text/plain": [
       "['.git',\n",
       " '.gitignore',\n",
       " '.ipynb_checkpoints',\n",
       " 'fibo.py',\n",
       " 'Py_Tutorial.ipynb',\n",
       " 'Py_Tutorial_3.1.ipynb',\n",
       " 'Py_Tutorial_4.1.ipynb',\n",
       " 'Py_Tutorial_4.ipynb',\n",
       " 'README.md',\n",
       " 'Test.ipynb',\n",
       " 'workfile',\n",
       " '__pycache__']"
      ]
     },
     "execution_count": 14,
     "metadata": {},
     "output_type": "execute_result"
    }
   ],
   "source": [
    "os.listdir()"
   ]
  },
  {
   "cell_type": "code",
   "execution_count": 16,
   "id": "3018a8fd",
   "metadata": {},
   "outputs": [
    {
     "name": "stdout",
     "output_type": "stream",
     "text": [
      "cannot open -f\n",
      "C:\\Users\\barker.FRENCH\\AppData\\Roaming\\jupyter\\runtime\\kernel-257de438-f028-467e-8251-84ce2391fa58.json has 12 lines\n"
     ]
    }
   ],
   "source": [
    "for arg in sys.argv[1:]:\n",
    "    try:\n",
    "        f = open(arg, 'r')\n",
    "    except OSError:\n",
    "        print('cannot open', arg)\n",
    "    else:\n",
    "        print(arg, 'has', len(f.readlines()), 'lines')\n",
    "        f.close()"
   ]
  },
  {
   "cell_type": "code",
   "execution_count": 19,
   "id": "74175a29",
   "metadata": {},
   "outputs": [
    {
     "name": "stdout",
     "output_type": "stream",
     "text": [
      "<class 'Exception'>\n",
      "('spam', 'eggs')\n",
      "('spam', 'eggs')\n",
      "x = spam\n",
      "y = eggs\n"
     ]
    }
   ],
   "source": [
    "try:\n",
    "    raise Exception('spam', 'eggs')\n",
    "except Exception as inst:\n",
    "    print(type(inst))    # the exception instance\n",
    "    print(inst.args)     # arguments stored in .args\n",
    "    print(inst)          # __str__ allows args to be printed directly,\n",
    "                         # but may be overridden in exception subclasses\n",
    "    x, y = inst.args     # unpack args\n",
    "    print('x =', x)\n",
    "    print('y =', y)"
   ]
  },
  {
   "cell_type": "code",
   "execution_count": 20,
   "id": "c2802505",
   "metadata": {},
   "outputs": [
    {
     "name": "stdout",
     "output_type": "stream",
     "text": [
      "Handling run-time error: division by zero\n"
     ]
    }
   ],
   "source": [
    "def this_fails():\n",
    "    x = 1/0\n",
    "\n",
    "try:\n",
    "    this_fails()\n",
    "except ZeroDivisionError as err:\n",
    "    print('Handling run-time error:', err)"
   ]
  },
  {
   "cell_type": "markdown",
   "id": "3db44dbc",
   "metadata": {},
   "source": [
    "### 8.4 Raising Exceptions"
   ]
  },
  {
   "cell_type": "code",
   "execution_count": 21,
   "id": "60b98c24",
   "metadata": {},
   "outputs": [
    {
     "ename": "NameError",
     "evalue": "HiThere",
     "output_type": "error",
     "traceback": [
      "\u001b[1;31m---------------------------------------------------------------------------\u001b[0m",
      "\u001b[1;31mNameError\u001b[0m                                 Traceback (most recent call last)",
      "\u001b[1;32m<ipython-input-21-72c183edb298>\u001b[0m in \u001b[0;36m<module>\u001b[1;34m\u001b[0m\n\u001b[1;32m----> 1\u001b[1;33m \u001b[1;32mraise\u001b[0m \u001b[0mNameError\u001b[0m\u001b[1;33m(\u001b[0m\u001b[1;34m'HiThere'\u001b[0m\u001b[1;33m)\u001b[0m\u001b[1;33m\u001b[0m\u001b[1;33m\u001b[0m\u001b[0m\n\u001b[0m",
      "\u001b[1;31mNameError\u001b[0m: HiThere"
     ]
    }
   ],
   "source": [
    "raise NameError('HiThere')"
   ]
  },
  {
   "cell_type": "code",
   "execution_count": 22,
   "id": "cea2b1fa",
   "metadata": {},
   "outputs": [
    {
     "ename": "ValueError",
     "evalue": "",
     "output_type": "error",
     "traceback": [
      "\u001b[1;31m---------------------------------------------------------------------------\u001b[0m",
      "\u001b[1;31mValueError\u001b[0m                                Traceback (most recent call last)",
      "\u001b[1;32m<ipython-input-22-e4c8e09828d5>\u001b[0m in \u001b[0;36m<module>\u001b[1;34m\u001b[0m\n\u001b[1;32m----> 1\u001b[1;33m \u001b[1;32mraise\u001b[0m \u001b[0mValueError\u001b[0m\u001b[1;33m\u001b[0m\u001b[1;33m\u001b[0m\u001b[0m\n\u001b[0m",
      "\u001b[1;31mValueError\u001b[0m: "
     ]
    }
   ],
   "source": [
    "raise ValueError"
   ]
  },
  {
   "cell_type": "markdown",
   "id": "e9e4520d",
   "metadata": {},
   "source": [
    "### 8.5 User-defined Exceptions"
   ]
  },
  {
   "cell_type": "code",
   "execution_count": 23,
   "id": "d00e8905",
   "metadata": {},
   "outputs": [],
   "source": [
    "class Error(Exception):\n",
    "    \"\"\"Base class for exceptions in this module.\"\"\"\n",
    "    pass\n",
    "\n",
    "class InputError(Error):\n",
    "    \"\"\"Exception raised for errors in the input.\n",
    "\n",
    "    Attributes:\n",
    "        expression -- input expression in which the error occurred\n",
    "        message -- explanation of the error\n",
    "    \"\"\"\n",
    "\n",
    "    def __init__(self, expression, message):\n",
    "        self.expression = expression\n",
    "        self.message = message\n",
    "\n",
    "class TransitionError(Error):\n",
    "    \"\"\"Raised when an operation attempts a state transition that's not\n",
    "    allowed.\n",
    "\n",
    "    Attributes:\n",
    "        previous -- state at beginning of transition\n",
    "        next -- attempted new state\n",
    "        message -- explanation of why the specific transition is not allowed\n",
    "    \"\"\"\n",
    "\n",
    "    def __init__(self, previous, next, message):\n",
    "        self.previous = previous\n",
    "        self.next = next\n",
    "        self.message = message"
   ]
  },
  {
   "cell_type": "markdown",
   "id": "25445bf9",
   "metadata": {},
   "source": [
    "### 8.6 Defining Clean-up Actions"
   ]
  },
  {
   "cell_type": "code",
   "execution_count": 24,
   "id": "d7f65a77",
   "metadata": {},
   "outputs": [
    {
     "name": "stdout",
     "output_type": "stream",
     "text": [
      "Goodbye, world!\n"
     ]
    },
    {
     "ename": "KeyboardInterrupt",
     "evalue": "",
     "output_type": "error",
     "traceback": [
      "\u001b[1;31m---------------------------------------------------------------------------\u001b[0m",
      "\u001b[1;31mKeyboardInterrupt\u001b[0m                         Traceback (most recent call last)",
      "\u001b[1;32m<ipython-input-24-ca8991ac7661>\u001b[0m in \u001b[0;36m<module>\u001b[1;34m\u001b[0m\n\u001b[0;32m      1\u001b[0m \u001b[1;32mtry\u001b[0m\u001b[1;33m:\u001b[0m\u001b[1;33m\u001b[0m\u001b[1;33m\u001b[0m\u001b[0m\n\u001b[1;32m----> 2\u001b[1;33m     \u001b[1;32mraise\u001b[0m \u001b[0mKeyboardInterrupt\u001b[0m\u001b[1;33m\u001b[0m\u001b[1;33m\u001b[0m\u001b[0m\n\u001b[0m\u001b[0;32m      3\u001b[0m \u001b[1;32mfinally\u001b[0m\u001b[1;33m:\u001b[0m\u001b[1;33m\u001b[0m\u001b[1;33m\u001b[0m\u001b[0m\n\u001b[0;32m      4\u001b[0m     \u001b[0mprint\u001b[0m\u001b[1;33m(\u001b[0m\u001b[1;34m'Goodbye, world!'\u001b[0m\u001b[1;33m)\u001b[0m\u001b[1;33m\u001b[0m\u001b[1;33m\u001b[0m\u001b[0m\n",
      "\u001b[1;31mKeyboardInterrupt\u001b[0m: "
     ]
    }
   ],
   "source": [
    "try:\n",
    "    raise KeyboardInterrupt\n",
    "finally:\n",
    "    print('Goodbye, world!')"
   ]
  },
  {
   "cell_type": "markdown",
   "id": "1e3ca7d5",
   "metadata": {},
   "source": [
    "### Classes"
   ]
  },
  {
   "cell_type": "markdown",
   "id": "f8d3c408",
   "metadata": {},
   "source": [
    "### 9.2.1 Scopes and Namespaces Example"
   ]
  },
  {
   "cell_type": "code",
   "execution_count": 6,
   "id": "28c8345e",
   "metadata": {},
   "outputs": [
    {
     "name": "stdout",
     "output_type": "stream",
     "text": [
      "After local assignment: test spam\n",
      "After nonlocal assignment: nonlocal spam\n",
      "After global assignment: nonlocal spam\n",
      "In global scope: global spam\n"
     ]
    }
   ],
   "source": [
    "def scope_test():\n",
    "    def do_local():\n",
    "        spam = \"local spam\"\n",
    "\n",
    "    def do_nonlocal():\n",
    "        nonlocal spam\n",
    "        spam = \"nonlocal spam\"\n",
    "\n",
    "    def do_global():\n",
    "        global spam\n",
    "        spam = \"global spam\"\n",
    "\n",
    "    spam = \"test spam\"\n",
    "    do_local()\n",
    "    print(\"After local assignment:\", spam)\n",
    "    do_nonlocal()\n",
    "    print(\"After nonlocal assignment:\", spam)\n",
    "    do_global()\n",
    "    print(\"After global assignment:\", spam)\n",
    "\n",
    "scope_test()\n",
    "print(\"In global scope:\", spam)"
   ]
  },
  {
   "cell_type": "markdown",
   "id": "e1120c45",
   "metadata": {},
   "source": [
    "### 9.3.1 Class Definition Syntax"
   ]
  },
  {
   "cell_type": "markdown",
   "id": "7c7df0e7",
   "metadata": {},
   "source": [
    "### 9.3.2 Class Objects"
   ]
  },
  {
   "cell_type": "code",
   "execution_count": 19,
   "id": "b5622c21",
   "metadata": {},
   "outputs": [],
   "source": [
    "class MyClass:\n",
    "    \"\"\"A simple example class\"\"\"\n",
    "    i = 12345\n",
    "\n",
    "    def f(self):\n",
    "        return 'hello world'"
   ]
  },
  {
   "cell_type": "code",
   "execution_count": 20,
   "id": "c2c0fbea",
   "metadata": {},
   "outputs": [],
   "source": [
    "x = MyClass()"
   ]
  },
  {
   "cell_type": "code",
   "execution_count": 21,
   "id": "783f4288",
   "metadata": {},
   "outputs": [
    {
     "data": {
      "text/plain": [
       "12345"
      ]
     },
     "execution_count": 21,
     "metadata": {},
     "output_type": "execute_result"
    }
   ],
   "source": [
    "x.i"
   ]
  },
  {
   "cell_type": "code",
   "execution_count": 22,
   "id": "3df46eed",
   "metadata": {},
   "outputs": [
    {
     "data": {
      "text/plain": [
       "'hello world'"
      ]
     },
     "execution_count": 22,
     "metadata": {},
     "output_type": "execute_result"
    }
   ],
   "source": [
    "x.f()"
   ]
  },
  {
   "cell_type": "code",
   "execution_count": 23,
   "id": "6155a493",
   "metadata": {},
   "outputs": [
    {
     "name": "stdout",
     "output_type": "stream",
     "text": [
      "A simple example class\n"
     ]
    }
   ],
   "source": [
    "print(x.__doc__)"
   ]
  },
  {
   "cell_type": "code",
   "execution_count": 24,
   "id": "a9b03b5e",
   "metadata": {},
   "outputs": [],
   "source": [
    "class Complex:\n",
    "    def __init__(self, realpart, imagpart):\n",
    "        self.r = realpart\n",
    "        self.i = imagpart"
   ]
  },
  {
   "cell_type": "code",
   "execution_count": 25,
   "id": "d8e63473",
   "metadata": {},
   "outputs": [],
   "source": [
    "x = Complex(3.9, -4.5)"
   ]
  },
  {
   "cell_type": "code",
   "execution_count": 26,
   "id": "c2203fed",
   "metadata": {},
   "outputs": [
    {
     "data": {
      "text/plain": [
       "(3.9, -4.5)"
      ]
     },
     "execution_count": 26,
     "metadata": {},
     "output_type": "execute_result"
    }
   ],
   "source": [
    "x.r, x.i"
   ]
  },
  {
   "cell_type": "code",
   "execution_count": 27,
   "id": "7dd91f46",
   "metadata": {},
   "outputs": [
    {
     "data": {
      "text/plain": [
       "<bound method Complex.__init__ of <__main__.Complex object at 0x014D5A90>>"
      ]
     },
     "execution_count": 27,
     "metadata": {},
     "output_type": "execute_result"
    }
   ],
   "source": [
    "x.__init__"
   ]
  },
  {
   "cell_type": "markdown",
   "id": "3a56f974",
   "metadata": {},
   "source": [
    "### 9.3.3 Instance Objects"
   ]
  },
  {
   "cell_type": "code",
   "execution_count": 28,
   "id": "13bf037b",
   "metadata": {},
   "outputs": [
    {
     "data": {
      "text/plain": [
       "3.9"
      ]
     },
     "execution_count": 28,
     "metadata": {},
     "output_type": "execute_result"
    }
   ],
   "source": [
    "x.r"
   ]
  },
  {
   "cell_type": "code",
   "execution_count": 29,
   "id": "67cc38e9",
   "metadata": {},
   "outputs": [],
   "source": [
    "x.j = 10"
   ]
  },
  {
   "cell_type": "code",
   "execution_count": 30,
   "id": "aa44e9d2",
   "metadata": {},
   "outputs": [
    {
     "name": "stdout",
     "output_type": "stream",
     "text": [
      "10\n"
     ]
    }
   ],
   "source": [
    "print(x.j)"
   ]
  },
  {
   "cell_type": "code",
   "execution_count": 31,
   "id": "d5df6fb0",
   "metadata": {},
   "outputs": [],
   "source": [
    "class MyClass:\n",
    "    \"\"\"A simple example class\"\"\"\n",
    "    i = 12345\n",
    "\n",
    "    def f(self):\n",
    "        return 'hello world'"
   ]
  },
  {
   "cell_type": "code",
   "execution_count": 32,
   "id": "4a8540f5",
   "metadata": {},
   "outputs": [],
   "source": [
    "x = MyClass()"
   ]
  },
  {
   "cell_type": "code",
   "execution_count": 34,
   "id": "2e759508",
   "metadata": {},
   "outputs": [
    {
     "name": "stdout",
     "output_type": "stream",
     "text": [
      "16\n"
     ]
    }
   ],
   "source": [
    "x.counter = 1\n",
    "while x.counter <10:\n",
    "    x.counter = x.counter * 2\n",
    "print(x.counter)\n",
    "del x.counter"
   ]
  },
  {
   "cell_type": "code",
   "execution_count": 35,
   "id": "0a5f2904",
   "metadata": {},
   "outputs": [
    {
     "data": {
      "text/plain": [
       "'hello world'"
      ]
     },
     "execution_count": 35,
     "metadata": {},
     "output_type": "execute_result"
    }
   ],
   "source": [
    "x.f()"
   ]
  },
  {
   "cell_type": "code",
   "execution_count": 36,
   "id": "214e4651",
   "metadata": {},
   "outputs": [
    {
     "name": "stdout",
     "output_type": "stream",
     "text": [
      "hello world\n",
      "hello world\n",
      "hello world\n",
      "hello world\n",
      "hello world\n",
      "hello world\n",
      "hello world\n",
      "hello world\n",
      "hello world\n",
      "hello world\n"
     ]
    }
   ],
   "source": [
    "xf = x.f\n",
    "max_count = 10\n",
    "i = 0\n",
    "\n",
    "while i < max_count:\n",
    "    print(xf())\n",
    "    i += 1"
   ]
  },
  {
   "cell_type": "markdown",
   "id": "d8142f87",
   "metadata": {},
   "source": [
    "### 9.3.5 Class and Instance Variables"
   ]
  },
  {
   "cell_type": "code",
   "execution_count": 1,
   "id": "00defa30",
   "metadata": {},
   "outputs": [],
   "source": [
    "class Dog:\n",
    "\n",
    "    kind = 'canine'         # class variable shared by all instances\n",
    "\n",
    "    def __init__(self, name):\n",
    "        self.name = name    # instance variable unique to each instance"
   ]
  },
  {
   "cell_type": "code",
   "execution_count": 2,
   "id": "85f44fa2",
   "metadata": {},
   "outputs": [],
   "source": [
    "f = Dog('Fido')\n",
    "b = Dog('Buddy')"
   ]
  },
  {
   "cell_type": "code",
   "execution_count": 3,
   "id": "ab9fde73",
   "metadata": {},
   "outputs": [
    {
     "data": {
      "text/plain": [
       "'Fido'"
      ]
     },
     "execution_count": 3,
     "metadata": {},
     "output_type": "execute_result"
    }
   ],
   "source": [
    "f.name"
   ]
  },
  {
   "cell_type": "code",
   "execution_count": 4,
   "id": "72dffb2f",
   "metadata": {},
   "outputs": [
    {
     "data": {
      "text/plain": [
       "'Buddy'"
      ]
     },
     "execution_count": 4,
     "metadata": {},
     "output_type": "execute_result"
    }
   ],
   "source": [
    "b.name"
   ]
  },
  {
   "cell_type": "code",
   "execution_count": 6,
   "id": "9341a5d2",
   "metadata": {},
   "outputs": [
    {
     "data": {
      "text/plain": [
       "'canine'"
      ]
     },
     "execution_count": 6,
     "metadata": {},
     "output_type": "execute_result"
    }
   ],
   "source": [
    "f.kind"
   ]
  },
  {
   "cell_type": "code",
   "execution_count": 9,
   "id": "2ccf1dba",
   "metadata": {},
   "outputs": [
    {
     "data": {
      "text/plain": [
       "'canine'"
      ]
     },
     "execution_count": 9,
     "metadata": {},
     "output_type": "execute_result"
    }
   ],
   "source": [
    "b.kind"
   ]
  },
  {
   "cell_type": "code",
   "execution_count": 10,
   "id": "80e640aa",
   "metadata": {},
   "outputs": [],
   "source": [
    "class Dog:\n",
    "    tricks = []          #mistaken use of a class variable\n",
    "    \n",
    "    def __init__ (self, name):\n",
    "        self.name = name\n",
    "        \n",
    "    def add_trick(self, trick):\n",
    "        self.tricks.append(trick)"
   ]
  },
  {
   "cell_type": "code",
   "execution_count": 11,
   "id": "ae093d5c",
   "metadata": {},
   "outputs": [],
   "source": [
    "f = Dog('Fido')\n",
    "d = Dog('Denny')"
   ]
  },
  {
   "cell_type": "code",
   "execution_count": 12,
   "id": "537dd22e",
   "metadata": {},
   "outputs": [],
   "source": [
    "f.add_trick('roll over')\n",
    "d.add_trick('play dead')"
   ]
  },
  {
   "cell_type": "code",
   "execution_count": 13,
   "id": "a5208349",
   "metadata": {},
   "outputs": [
    {
     "data": {
      "text/plain": [
       "['roll over', 'play dead']"
      ]
     },
     "execution_count": 13,
     "metadata": {},
     "output_type": "execute_result"
    }
   ],
   "source": [
    "d.tricks"
   ]
  },
  {
   "cell_type": "code",
   "execution_count": 14,
   "id": "214c624f",
   "metadata": {},
   "outputs": [],
   "source": [
    "class Dog:\n",
    "    \n",
    "    def __init__(self,name):\n",
    "        self.name = name\n",
    "        self.tricks = []\n",
    "    \n",
    "    def add_trick(self,trick):\n",
    "        self.tricks.append(trick)"
   ]
  },
  {
   "cell_type": "code",
   "execution_count": 15,
   "id": "d4c4087e",
   "metadata": {},
   "outputs": [],
   "source": [
    "f = Dog('Fido')\n",
    "d = Dog('Denny')"
   ]
  },
  {
   "cell_type": "code",
   "execution_count": 16,
   "id": "ae8e8c73",
   "metadata": {},
   "outputs": [],
   "source": [
    "f.add_trick('roll over')\n",
    "d.add_trick('play dead')"
   ]
  },
  {
   "cell_type": "code",
   "execution_count": 17,
   "id": "2b1c62fb",
   "metadata": {},
   "outputs": [
    {
     "data": {
      "text/plain": [
       "['roll over']"
      ]
     },
     "execution_count": 17,
     "metadata": {},
     "output_type": "execute_result"
    }
   ],
   "source": [
    "f.tricks"
   ]
  },
  {
   "cell_type": "code",
   "execution_count": 18,
   "id": "1bf6098f",
   "metadata": {},
   "outputs": [
    {
     "data": {
      "text/plain": [
       "['play dead']"
      ]
     },
     "execution_count": 18,
     "metadata": {},
     "output_type": "execute_result"
    }
   ],
   "source": [
    "d.tricks"
   ]
  },
  {
   "cell_type": "code",
   "execution_count": 19,
   "id": "ef44e4ab",
   "metadata": {},
   "outputs": [],
   "source": [
    "class Bag:\n",
    "    def __init__(self):\n",
    "        self.data = []\n",
    "    \n",
    "    def add(self,x):\n",
    "        self.data.append(x)\n",
    "        \n",
    "    def addtwice(self,x):\n",
    "        self.add(x)\n",
    "        self.add(x)"
   ]
  },
  {
   "cell_type": "code",
   "execution_count": 20,
   "id": "ed517b1f",
   "metadata": {},
   "outputs": [],
   "source": [
    "b = Bag()"
   ]
  },
  {
   "cell_type": "code",
   "execution_count": 21,
   "id": "97ae45c5",
   "metadata": {},
   "outputs": [],
   "source": [
    "b.add(1)"
   ]
  },
  {
   "cell_type": "code",
   "execution_count": 22,
   "id": "8b95cf9f",
   "metadata": {},
   "outputs": [
    {
     "data": {
      "text/plain": [
       "[1]"
      ]
     },
     "execution_count": 22,
     "metadata": {},
     "output_type": "execute_result"
    }
   ],
   "source": [
    "b.data"
   ]
  },
  {
   "cell_type": "code",
   "execution_count": 23,
   "id": "a9075b7c",
   "metadata": {},
   "outputs": [],
   "source": [
    "b.addtwice(2)"
   ]
  },
  {
   "cell_type": "code",
   "execution_count": 24,
   "id": "caa377a5",
   "metadata": {},
   "outputs": [
    {
     "data": {
      "text/plain": [
       "[1, 2, 2]"
      ]
     },
     "execution_count": 24,
     "metadata": {},
     "output_type": "execute_result"
    }
   ],
   "source": [
    "b.data"
   ]
  },
  {
   "cell_type": "markdown",
   "id": "95463796",
   "metadata": {},
   "source": [
    "### 9.6 Private Variables"
   ]
  },
  {
   "cell_type": "code",
   "execution_count": 25,
   "id": "3f72aad6",
   "metadata": {},
   "outputs": [],
   "source": [
    "class Bag:\n",
    "    def __init__(self):\n",
    "        self.data = []\n",
    "\n",
    "    def add(self, x):\n",
    "        self.data.append(x)\n",
    "\n",
    "    def addtwice(self, x):\n",
    "        self.add(x)\n",
    "        self.add(x)"
   ]
  },
  {
   "cell_type": "markdown",
   "id": "71a6ee63",
   "metadata": {},
   "source": [
    "### 9.7 Odds and Ends"
   ]
  },
  {
   "cell_type": "code",
   "execution_count": 26,
   "id": "e6e5ba5e",
   "metadata": {},
   "outputs": [],
   "source": [
    "class Employee:\n",
    "    pass\n",
    "\n",
    "john = Employee()  # Create an empty employee record\n",
    "\n",
    "# Fill the fields of the record\n",
    "john.name = 'John Doe'\n",
    "john.dept = 'computer lab'\n",
    "john.salary = 1000"
   ]
  },
  {
   "cell_type": "code",
   "execution_count": 27,
   "id": "0890e46e",
   "metadata": {},
   "outputs": [
    {
     "data": {
      "text/plain": [
       "'John Doe'"
      ]
     },
     "execution_count": 27,
     "metadata": {},
     "output_type": "execute_result"
    }
   ],
   "source": [
    "john.name"
   ]
  },
  {
   "cell_type": "markdown",
   "id": "e478a73d",
   "metadata": {},
   "source": [
    "### 9.8 Iterators"
   ]
  },
  {
   "cell_type": "code",
   "execution_count": 28,
   "id": "49c26c03",
   "metadata": {},
   "outputs": [
    {
     "name": "stdout",
     "output_type": "stream",
     "text": [
      "1\n",
      "2\n",
      "3\n",
      "1\n",
      "2\n",
      "3\n",
      "one\n",
      "two\n",
      "1\n",
      "2\n",
      "3\n",
      "This is the first line of the file.\n",
      "Second line of the file\n",
      "This is a test\n"
     ]
    }
   ],
   "source": [
    "for element in [1, 2, 3]:\n",
    "    print(element)\n",
    "for element in (1, 2, 3):\n",
    "    print(element)\n",
    "for key in {'one':1, 'two':2}:\n",
    "    print(key)\n",
    "for char in \"123\":\n",
    "    print(char)\n",
    "for line in open(\"workfile\"):\n",
    "    print(line, end='')"
   ]
  },
  {
   "cell_type": "code",
   "execution_count": 29,
   "id": "b00fc1ff",
   "metadata": {},
   "outputs": [
    {
     "data": {
      "text/plain": [
       "<str_iterator at 0x657db70>"
      ]
     },
     "execution_count": 29,
     "metadata": {},
     "output_type": "execute_result"
    }
   ],
   "source": [
    "s = 'abc'\n",
    "it = iter(s)\n",
    "it"
   ]
  },
  {
   "cell_type": "code",
   "execution_count": 30,
   "id": "050b6d0a",
   "metadata": {},
   "outputs": [
    {
     "data": {
      "text/plain": [
       "'a'"
      ]
     },
     "execution_count": 30,
     "metadata": {},
     "output_type": "execute_result"
    }
   ],
   "source": [
    "next(it)"
   ]
  },
  {
   "cell_type": "code",
   "execution_count": 31,
   "id": "1445b368",
   "metadata": {},
   "outputs": [
    {
     "data": {
      "text/plain": [
       "'b'"
      ]
     },
     "execution_count": 31,
     "metadata": {},
     "output_type": "execute_result"
    }
   ],
   "source": [
    "next(it)"
   ]
  },
  {
   "cell_type": "code",
   "execution_count": 32,
   "id": "3becf537",
   "metadata": {},
   "outputs": [
    {
     "data": {
      "text/plain": [
       "'c'"
      ]
     },
     "execution_count": 32,
     "metadata": {},
     "output_type": "execute_result"
    }
   ],
   "source": [
    "next(it)"
   ]
  },
  {
   "cell_type": "code",
   "execution_count": 33,
   "id": "bc3a5c7f",
   "metadata": {},
   "outputs": [
    {
     "ename": "StopIteration",
     "evalue": "",
     "output_type": "error",
     "traceback": [
      "\u001b[1;31m---------------------------------------------------------------------------\u001b[0m",
      "\u001b[1;31mStopIteration\u001b[0m                             Traceback (most recent call last)",
      "\u001b[1;32m<ipython-input-33-bc1ab118995a>\u001b[0m in \u001b[0;36m<module>\u001b[1;34m\u001b[0m\n\u001b[1;32m----> 1\u001b[1;33m \u001b[0mnext\u001b[0m\u001b[1;33m(\u001b[0m\u001b[0mit\u001b[0m\u001b[1;33m)\u001b[0m\u001b[1;33m\u001b[0m\u001b[1;33m\u001b[0m\u001b[0m\n\u001b[0m",
      "\u001b[1;31mStopIteration\u001b[0m: "
     ]
    }
   ],
   "source": [
    "next(it)"
   ]
  },
  {
   "cell_type": "code",
   "execution_count": 34,
   "id": "b880d3a4",
   "metadata": {},
   "outputs": [],
   "source": [
    "class Reverse:\n",
    "    \"\"\"Iterator for looping over a sequence backwards.\"\"\"\n",
    "    def __init__(self, data):\n",
    "        self.data = data\n",
    "        self.index = len(data)\n",
    "\n",
    "    def __iter__(self):\n",
    "        return self\n",
    "\n",
    "    def __next__(self):\n",
    "        if self.index == 0:\n",
    "            raise StopIteration\n",
    "        self.index = self.index - 1\n",
    "        return self.data[self.index]"
   ]
  },
  {
   "cell_type": "code",
   "execution_count": 35,
   "id": "7ec92fcd",
   "metadata": {},
   "outputs": [
    {
     "name": "stdout",
     "output_type": "stream",
     "text": [
      "m\n",
      "a\n",
      "p\n",
      "s\n"
     ]
    }
   ],
   "source": [
    "rev = Reverse('spam')\n",
    "iter(rev)\n",
    "for char in rev:\n",
    "    print(char)"
   ]
  },
  {
   "cell_type": "code",
   "execution_count": 36,
   "id": "cabd59d8",
   "metadata": {},
   "outputs": [],
   "source": [
    "def reverse(data):\n",
    "    for index in range(len(data)-1, -1, -1):\n",
    "        yield data[index]"
   ]
  },
  {
   "cell_type": "code",
   "execution_count": 37,
   "id": "74391f0b",
   "metadata": {},
   "outputs": [
    {
     "name": "stdout",
     "output_type": "stream",
     "text": [
      "f\n",
      "l\n",
      "o\n",
      "g\n"
     ]
    }
   ],
   "source": [
    "for char in reverse('golf'):\n",
    "     print(char)"
   ]
  },
  {
   "cell_type": "markdown",
   "id": "cb4a57f1",
   "metadata": {},
   "source": [
    "### Brief Tour of the Standard Library"
   ]
  },
  {
   "cell_type": "markdown",
   "id": "694ae89c",
   "metadata": {},
   "source": [
    "### 10.1 Operating System Interface"
   ]
  },
  {
   "cell_type": "code",
   "execution_count": 38,
   "id": "da6c9558",
   "metadata": {},
   "outputs": [
    {
     "data": {
      "text/plain": [
       "'C:\\\\Users\\\\barker.FRENCH\\\\Jupyter Lab\\\\python_tutorial'"
      ]
     },
     "execution_count": 38,
     "metadata": {},
     "output_type": "execute_result"
    }
   ],
   "source": [
    "import os\n",
    "os.getcwd()"
   ]
  },
  {
   "cell_type": "code",
   "execution_count": 39,
   "id": "8caff160",
   "metadata": {},
   "outputs": [
    {
     "data": {
      "text/plain": [
       "0"
      ]
     },
     "execution_count": 39,
     "metadata": {},
     "output_type": "execute_result"
    }
   ],
   "source": [
    "os.system('mkdir folder')"
   ]
  },
  {
   "cell_type": "code",
   "execution_count": 41,
   "id": "387189af",
   "metadata": {},
   "outputs": [],
   "source": [
    "import numpy as np"
   ]
  },
  {
   "cell_type": "code",
   "execution_count": 42,
   "id": "f542ac81",
   "metadata": {},
   "outputs": [
    {
     "data": {
      "text/plain": [
       "array(['DirEntry', 'F_OK', 'MutableMapping', 'O_APPEND', 'O_BINARY',\n",
       "       'O_CREAT', 'O_EXCL', 'O_NOINHERIT', 'O_RANDOM', 'O_RDONLY',\n",
       "       'O_RDWR', 'O_SEQUENTIAL', 'O_SHORT_LIVED', 'O_TEMPORARY', 'O_TEXT',\n",
       "       'O_TRUNC', 'O_WRONLY', 'P_DETACH', 'P_NOWAIT', 'P_NOWAITO',\n",
       "       'P_OVERLAY', 'P_WAIT', 'PathLike', 'R_OK', 'SEEK_CUR', 'SEEK_END',\n",
       "       'SEEK_SET', 'TMP_MAX', 'W_OK', 'X_OK', '_Environ', '__all__',\n",
       "       '__builtins__', '__cached__', '__doc__', '__file__', '__loader__',\n",
       "       '__name__', '__package__', '__spec__', '_check_methods',\n",
       "       '_execvpe', '_exists', '_exit', '_fspath', '_get_exports_list',\n",
       "       '_putenv', '_unsetenv', '_wrap_close', 'abc', 'abort', 'access',\n",
       "       'altsep', 'chdir', 'chmod', 'close', 'closerange', 'cpu_count',\n",
       "       'curdir', 'defpath', 'device_encoding', 'devnull', 'dup', 'dup2',\n",
       "       'environ', 'error', 'execl', 'execle', 'execlp', 'execlpe',\n",
       "       'execv', 'execve', 'execvp', 'execvpe', 'extsep', 'fdopen',\n",
       "       'fsdecode', 'fsencode', 'fspath', 'fstat', 'fsync', 'ftruncate',\n",
       "       'get_exec_path', 'get_handle_inheritable', 'get_inheritable',\n",
       "       'get_terminal_size', 'getcwd', 'getcwdb', 'getenv', 'getlogin',\n",
       "       'getpid', 'getppid', 'isatty', 'kill', 'linesep', 'link',\n",
       "       'listdir', 'lseek', 'lstat', 'makedirs', 'mkdir', 'name', 'open',\n",
       "       'pardir', 'path', 'pathsep', 'pipe', 'popen', 'putenv', 'read',\n",
       "       'readlink', 'remove', 'removedirs', 'rename', 'renames', 'replace',\n",
       "       'rmdir', 'scandir', 'sep', 'set_handle_inheritable',\n",
       "       'set_inheritable', 'spawnl', 'spawnle', 'spawnv', 'spawnve', 'st',\n",
       "       'startfile', 'stat', 'stat_result', 'statvfs_result', 'strerror',\n",
       "       'supports_bytes_environ', 'supports_dir_fd',\n",
       "       'supports_effective_ids', 'supports_fd',\n",
       "       'supports_follow_symlinks', 'symlink', 'sys', 'system',\n",
       "       'terminal_size', 'times', 'times_result', 'truncate', 'umask',\n",
       "       'uname_result', 'unlink', 'urandom', 'utime', 'waitpid', 'walk',\n",
       "       'write'], dtype='<U24')"
      ]
     },
     "execution_count": 42,
     "metadata": {},
     "output_type": "execute_result"
    }
   ],
   "source": [
    "np.array(dir(os))"
   ]
  },
  {
   "cell_type": "code",
   "execution_count": 43,
   "id": "41a2149b",
   "metadata": {
    "collapsed": true,
    "jupyter": {
     "outputs_hidden": true
    },
    "tags": []
   },
   "outputs": [
    {
     "name": "stdout",
     "output_type": "stream",
     "text": [
      "Help on module os:\n",
      "\n",
      "NAME\n",
      "    os - OS routines for NT or Posix depending on what system we're on.\n",
      "\n",
      "MODULE REFERENCE\n",
      "    https://docs.python.org/3.7/library/os\n",
      "    \n",
      "    The following documentation is automatically generated from the Python\n",
      "    source files.  It may be incomplete, incorrect or include features that\n",
      "    are considered implementation detail and may vary between Python\n",
      "    implementations.  When in doubt, consult the module reference at the\n",
      "    location listed above.\n",
      "\n",
      "DESCRIPTION\n",
      "    This exports:\n",
      "      - all functions from posix or nt, e.g. unlink, stat, etc.\n",
      "      - os.path is either posixpath or ntpath\n",
      "      - os.name is either 'posix' or 'nt'\n",
      "      - os.curdir is a string representing the current directory (always '.')\n",
      "      - os.pardir is a string representing the parent directory (always '..')\n",
      "      - os.sep is the (or a most common) pathname separator ('/' or '\\\\')\n",
      "      - os.extsep is the extension separator (always '.')\n",
      "      - os.altsep is the alternate pathname separator (None or '/')\n",
      "      - os.pathsep is the component separator used in $PATH etc\n",
      "      - os.linesep is the line separator in text files ('\\r' or '\\n' or '\\r\\n')\n",
      "      - os.defpath is the default search path for executables\n",
      "      - os.devnull is the file path of the null device ('/dev/null', etc.)\n",
      "    \n",
      "    Programs that import and use 'os' stand a better chance of being\n",
      "    portable between different platforms.  Of course, they must then\n",
      "    only use functions that are defined by all platforms (e.g., unlink\n",
      "    and opendir), and leave all pathname manipulation to os.path\n",
      "    (e.g., split and join).\n",
      "\n",
      "CLASSES\n",
      "    builtins.Exception(builtins.BaseException)\n",
      "        builtins.OSError\n",
      "    builtins.object\n",
      "        nt.DirEntry\n",
      "    builtins.tuple(builtins.object)\n",
      "        nt.times_result\n",
      "        nt.uname_result\n",
      "        stat_result\n",
      "        statvfs_result\n",
      "        terminal_size\n",
      "    \n",
      "    class DirEntry(builtins.object)\n",
      "     |  Methods defined here:\n",
      "     |  \n",
      "     |  __fspath__(self, /)\n",
      "     |      Returns the path for the entry.\n",
      "     |  \n",
      "     |  __repr__(self, /)\n",
      "     |      Return repr(self).\n",
      "     |  \n",
      "     |  inode(self, /)\n",
      "     |      Return inode of the entry; cached per entry.\n",
      "     |  \n",
      "     |  is_dir(self, /, *, follow_symlinks=True)\n",
      "     |      Return True if the entry is a directory; cached per entry.\n",
      "     |  \n",
      "     |  is_file(self, /, *, follow_symlinks=True)\n",
      "     |      Return True if the entry is a file; cached per entry.\n",
      "     |  \n",
      "     |  is_symlink(self, /)\n",
      "     |      Return True if the entry is a symbolic link; cached per entry.\n",
      "     |  \n",
      "     |  stat(self, /, *, follow_symlinks=True)\n",
      "     |      Return stat_result object for the entry; cached per entry.\n",
      "     |  \n",
      "     |  ----------------------------------------------------------------------\n",
      "     |  Data descriptors defined here:\n",
      "     |  \n",
      "     |  name\n",
      "     |      the entry's base filename, relative to scandir() \"path\" argument\n",
      "     |  \n",
      "     |  path\n",
      "     |      the entry's full path name; equivalent to os.path.join(scandir_path, entry.name)\n",
      "    \n",
      "    error = class OSError(Exception)\n",
      "     |  Base class for I/O related errors.\n",
      "     |  \n",
      "     |  Method resolution order:\n",
      "     |      OSError\n",
      "     |      Exception\n",
      "     |      BaseException\n",
      "     |      object\n",
      "     |  \n",
      "     |  Methods defined here:\n",
      "     |  \n",
      "     |  __init__(self, /, *args, **kwargs)\n",
      "     |      Initialize self.  See help(type(self)) for accurate signature.\n",
      "     |  \n",
      "     |  __reduce__(...)\n",
      "     |      Helper for pickle.\n",
      "     |  \n",
      "     |  __str__(self, /)\n",
      "     |      Return str(self).\n",
      "     |  \n",
      "     |  ----------------------------------------------------------------------\n",
      "     |  Static methods defined here:\n",
      "     |  \n",
      "     |  __new__(*args, **kwargs) from builtins.type\n",
      "     |      Create and return a new object.  See help(type) for accurate signature.\n",
      "     |  \n",
      "     |  ----------------------------------------------------------------------\n",
      "     |  Data descriptors defined here:\n",
      "     |  \n",
      "     |  characters_written\n",
      "     |  \n",
      "     |  errno\n",
      "     |      POSIX exception code\n",
      "     |  \n",
      "     |  filename\n",
      "     |      exception filename\n",
      "     |  \n",
      "     |  filename2\n",
      "     |      second exception filename\n",
      "     |  \n",
      "     |  strerror\n",
      "     |      exception strerror\n",
      "     |  \n",
      "     |  winerror\n",
      "     |      Win32 exception code\n",
      "     |  \n",
      "     |  ----------------------------------------------------------------------\n",
      "     |  Methods inherited from BaseException:\n",
      "     |  \n",
      "     |  __delattr__(self, name, /)\n",
      "     |      Implement delattr(self, name).\n",
      "     |  \n",
      "     |  __getattribute__(self, name, /)\n",
      "     |      Return getattr(self, name).\n",
      "     |  \n",
      "     |  __repr__(self, /)\n",
      "     |      Return repr(self).\n",
      "     |  \n",
      "     |  __setattr__(self, name, value, /)\n",
      "     |      Implement setattr(self, name, value).\n",
      "     |  \n",
      "     |  __setstate__(...)\n",
      "     |  \n",
      "     |  with_traceback(...)\n",
      "     |      Exception.with_traceback(tb) --\n",
      "     |      set self.__traceback__ to tb and return self.\n",
      "     |  \n",
      "     |  ----------------------------------------------------------------------\n",
      "     |  Data descriptors inherited from BaseException:\n",
      "     |  \n",
      "     |  __cause__\n",
      "     |      exception cause\n",
      "     |  \n",
      "     |  __context__\n",
      "     |      exception context\n",
      "     |  \n",
      "     |  __dict__\n",
      "     |  \n",
      "     |  __suppress_context__\n",
      "     |  \n",
      "     |  __traceback__\n",
      "     |  \n",
      "     |  args\n",
      "    \n",
      "    class stat_result(builtins.tuple)\n",
      "     |  stat_result(iterable=(), /)\n",
      "     |  \n",
      "     |  stat_result: Result from stat, fstat, or lstat.\n",
      "     |  \n",
      "     |  This object may be accessed either as a tuple of\n",
      "     |    (mode, ino, dev, nlink, uid, gid, size, atime, mtime, ctime)\n",
      "     |  or via the attributes st_mode, st_ino, st_dev, st_nlink, st_uid, and so on.\n",
      "     |  \n",
      "     |  Posix/windows: If your platform supports st_blksize, st_blocks, st_rdev,\n",
      "     |  or st_flags, they are available as attributes only.\n",
      "     |  \n",
      "     |  See os.stat for more information.\n",
      "     |  \n",
      "     |  Method resolution order:\n",
      "     |      stat_result\n",
      "     |      builtins.tuple\n",
      "     |      builtins.object\n",
      "     |  \n",
      "     |  Methods defined here:\n",
      "     |  \n",
      "     |  __reduce__(...)\n",
      "     |      Helper for pickle.\n",
      "     |  \n",
      "     |  __repr__(self, /)\n",
      "     |      Return repr(self).\n",
      "     |  \n",
      "     |  ----------------------------------------------------------------------\n",
      "     |  Static methods defined here:\n",
      "     |  \n",
      "     |  __new__(*args, **kwargs) from builtins.type\n",
      "     |      Create and return a new object.  See help(type) for accurate signature.\n",
      "     |  \n",
      "     |  ----------------------------------------------------------------------\n",
      "     |  Data descriptors defined here:\n",
      "     |  \n",
      "     |  st_atime\n",
      "     |      time of last access\n",
      "     |  \n",
      "     |  st_atime_ns\n",
      "     |      time of last access in nanoseconds\n",
      "     |  \n",
      "     |  st_ctime\n",
      "     |      time of last change\n",
      "     |  \n",
      "     |  st_ctime_ns\n",
      "     |      time of last change in nanoseconds\n",
      "     |  \n",
      "     |  st_dev\n",
      "     |      device\n",
      "     |  \n",
      "     |  st_file_attributes\n",
      "     |      Windows file attribute bits\n",
      "     |  \n",
      "     |  st_gid\n",
      "     |      group ID of owner\n",
      "     |  \n",
      "     |  st_ino\n",
      "     |      inode\n",
      "     |  \n",
      "     |  st_mode\n",
      "     |      protection bits\n",
      "     |  \n",
      "     |  st_mtime\n",
      "     |      time of last modification\n",
      "     |  \n",
      "     |  st_mtime_ns\n",
      "     |      time of last modification in nanoseconds\n",
      "     |  \n",
      "     |  st_nlink\n",
      "     |      number of hard links\n",
      "     |  \n",
      "     |  st_size\n",
      "     |      total size, in bytes\n",
      "     |  \n",
      "     |  st_uid\n",
      "     |      user ID of owner\n",
      "     |  \n",
      "     |  ----------------------------------------------------------------------\n",
      "     |  Data and other attributes defined here:\n",
      "     |  \n",
      "     |  n_fields = 17\n",
      "     |  \n",
      "     |  n_sequence_fields = 10\n",
      "     |  \n",
      "     |  n_unnamed_fields = 3\n",
      "     |  \n",
      "     |  ----------------------------------------------------------------------\n",
      "     |  Methods inherited from builtins.tuple:\n",
      "     |  \n",
      "     |  __add__(self, value, /)\n",
      "     |      Return self+value.\n",
      "     |  \n",
      "     |  __contains__(self, key, /)\n",
      "     |      Return key in self.\n",
      "     |  \n",
      "     |  __eq__(self, value, /)\n",
      "     |      Return self==value.\n",
      "     |  \n",
      "     |  __ge__(self, value, /)\n",
      "     |      Return self>=value.\n",
      "     |  \n",
      "     |  __getattribute__(self, name, /)\n",
      "     |      Return getattr(self, name).\n",
      "     |  \n",
      "     |  __getitem__(self, key, /)\n",
      "     |      Return self[key].\n",
      "     |  \n",
      "     |  __getnewargs__(self, /)\n",
      "     |  \n",
      "     |  __gt__(self, value, /)\n",
      "     |      Return self>value.\n",
      "     |  \n",
      "     |  __hash__(self, /)\n",
      "     |      Return hash(self).\n",
      "     |  \n",
      "     |  __iter__(self, /)\n",
      "     |      Implement iter(self).\n",
      "     |  \n",
      "     |  __le__(self, value, /)\n",
      "     |      Return self<=value.\n",
      "     |  \n",
      "     |  __len__(self, /)\n",
      "     |      Return len(self).\n",
      "     |  \n",
      "     |  __lt__(self, value, /)\n",
      "     |      Return self<value.\n",
      "     |  \n",
      "     |  __mul__(self, value, /)\n",
      "     |      Return self*value.\n",
      "     |  \n",
      "     |  __ne__(self, value, /)\n",
      "     |      Return self!=value.\n",
      "     |  \n",
      "     |  __rmul__(self, value, /)\n",
      "     |      Return value*self.\n",
      "     |  \n",
      "     |  count(self, value, /)\n",
      "     |      Return number of occurrences of value.\n",
      "     |  \n",
      "     |  index(self, value, start=0, stop=2147483647, /)\n",
      "     |      Return first index of value.\n",
      "     |      \n",
      "     |      Raises ValueError if the value is not present.\n",
      "    \n",
      "    class statvfs_result(builtins.tuple)\n",
      "     |  statvfs_result(iterable=(), /)\n",
      "     |  \n",
      "     |  statvfs_result: Result from statvfs or fstatvfs.\n",
      "     |  \n",
      "     |  This object may be accessed either as a tuple of\n",
      "     |    (bsize, frsize, blocks, bfree, bavail, files, ffree, favail, flag, namemax),\n",
      "     |  or via the attributes f_bsize, f_frsize, f_blocks, f_bfree, and so on.\n",
      "     |  \n",
      "     |  See os.statvfs for more information.\n",
      "     |  \n",
      "     |  Method resolution order:\n",
      "     |      statvfs_result\n",
      "     |      builtins.tuple\n",
      "     |      builtins.object\n",
      "     |  \n",
      "     |  Methods defined here:\n",
      "     |  \n",
      "     |  __reduce__(...)\n",
      "     |      Helper for pickle.\n",
      "     |  \n",
      "     |  __repr__(self, /)\n",
      "     |      Return repr(self).\n",
      "     |  \n",
      "     |  ----------------------------------------------------------------------\n",
      "     |  Static methods defined here:\n",
      "     |  \n",
      "     |  __new__(*args, **kwargs) from builtins.type\n",
      "     |      Create and return a new object.  See help(type) for accurate signature.\n",
      "     |  \n",
      "     |  ----------------------------------------------------------------------\n",
      "     |  Data descriptors defined here:\n",
      "     |  \n",
      "     |  f_bavail\n",
      "     |  \n",
      "     |  f_bfree\n",
      "     |  \n",
      "     |  f_blocks\n",
      "     |  \n",
      "     |  f_bsize\n",
      "     |  \n",
      "     |  f_favail\n",
      "     |  \n",
      "     |  f_ffree\n",
      "     |  \n",
      "     |  f_files\n",
      "     |  \n",
      "     |  f_flag\n",
      "     |  \n",
      "     |  f_frsize\n",
      "     |  \n",
      "     |  f_fsid\n",
      "     |  \n",
      "     |  f_namemax\n",
      "     |  \n",
      "     |  ----------------------------------------------------------------------\n",
      "     |  Data and other attributes defined here:\n",
      "     |  \n",
      "     |  n_fields = 11\n",
      "     |  \n",
      "     |  n_sequence_fields = 10\n",
      "     |  \n",
      "     |  n_unnamed_fields = 0\n",
      "     |  \n",
      "     |  ----------------------------------------------------------------------\n",
      "     |  Methods inherited from builtins.tuple:\n",
      "     |  \n",
      "     |  __add__(self, value, /)\n",
      "     |      Return self+value.\n",
      "     |  \n",
      "     |  __contains__(self, key, /)\n",
      "     |      Return key in self.\n",
      "     |  \n",
      "     |  __eq__(self, value, /)\n",
      "     |      Return self==value.\n",
      "     |  \n",
      "     |  __ge__(self, value, /)\n",
      "     |      Return self>=value.\n",
      "     |  \n",
      "     |  __getattribute__(self, name, /)\n",
      "     |      Return getattr(self, name).\n",
      "     |  \n",
      "     |  __getitem__(self, key, /)\n",
      "     |      Return self[key].\n",
      "     |  \n",
      "     |  __getnewargs__(self, /)\n",
      "     |  \n",
      "     |  __gt__(self, value, /)\n",
      "     |      Return self>value.\n",
      "     |  \n",
      "     |  __hash__(self, /)\n",
      "     |      Return hash(self).\n",
      "     |  \n",
      "     |  __iter__(self, /)\n",
      "     |      Implement iter(self).\n",
      "     |  \n",
      "     |  __le__(self, value, /)\n",
      "     |      Return self<=value.\n",
      "     |  \n",
      "     |  __len__(self, /)\n",
      "     |      Return len(self).\n",
      "     |  \n",
      "     |  __lt__(self, value, /)\n",
      "     |      Return self<value.\n",
      "     |  \n",
      "     |  __mul__(self, value, /)\n",
      "     |      Return self*value.\n",
      "     |  \n",
      "     |  __ne__(self, value, /)\n",
      "     |      Return self!=value.\n",
      "     |  \n",
      "     |  __rmul__(self, value, /)\n",
      "     |      Return value*self.\n",
      "     |  \n",
      "     |  count(self, value, /)\n",
      "     |      Return number of occurrences of value.\n",
      "     |  \n",
      "     |  index(self, value, start=0, stop=2147483647, /)\n",
      "     |      Return first index of value.\n",
      "     |      \n",
      "     |      Raises ValueError if the value is not present.\n",
      "    \n",
      "    class terminal_size(builtins.tuple)\n",
      "     |  terminal_size(iterable=(), /)\n",
      "     |  \n",
      "     |  A tuple of (columns, lines) for holding terminal window size\n",
      "     |  \n",
      "     |  Method resolution order:\n",
      "     |      terminal_size\n",
      "     |      builtins.tuple\n",
      "     |      builtins.object\n",
      "     |  \n",
      "     |  Methods defined here:\n",
      "     |  \n",
      "     |  __reduce__(...)\n",
      "     |      Helper for pickle.\n",
      "     |  \n",
      "     |  __repr__(self, /)\n",
      "     |      Return repr(self).\n",
      "     |  \n",
      "     |  ----------------------------------------------------------------------\n",
      "     |  Static methods defined here:\n",
      "     |  \n",
      "     |  __new__(*args, **kwargs) from builtins.type\n",
      "     |      Create and return a new object.  See help(type) for accurate signature.\n",
      "     |  \n",
      "     |  ----------------------------------------------------------------------\n",
      "     |  Data descriptors defined here:\n",
      "     |  \n",
      "     |  columns\n",
      "     |      width of the terminal window in characters\n",
      "     |  \n",
      "     |  lines\n",
      "     |      height of the terminal window in characters\n",
      "     |  \n",
      "     |  ----------------------------------------------------------------------\n",
      "     |  Data and other attributes defined here:\n",
      "     |  \n",
      "     |  n_fields = 2\n",
      "     |  \n",
      "     |  n_sequence_fields = 2\n",
      "     |  \n",
      "     |  n_unnamed_fields = 0\n",
      "     |  \n",
      "     |  ----------------------------------------------------------------------\n",
      "     |  Methods inherited from builtins.tuple:\n",
      "     |  \n",
      "     |  __add__(self, value, /)\n",
      "     |      Return self+value.\n",
      "     |  \n",
      "     |  __contains__(self, key, /)\n",
      "     |      Return key in self.\n",
      "     |  \n",
      "     |  __eq__(self, value, /)\n",
      "     |      Return self==value.\n",
      "     |  \n",
      "     |  __ge__(self, value, /)\n",
      "     |      Return self>=value.\n",
      "     |  \n",
      "     |  __getattribute__(self, name, /)\n",
      "     |      Return getattr(self, name).\n",
      "     |  \n",
      "     |  __getitem__(self, key, /)\n",
      "     |      Return self[key].\n",
      "     |  \n",
      "     |  __getnewargs__(self, /)\n",
      "     |  \n",
      "     |  __gt__(self, value, /)\n",
      "     |      Return self>value.\n",
      "     |  \n",
      "     |  __hash__(self, /)\n",
      "     |      Return hash(self).\n",
      "     |  \n",
      "     |  __iter__(self, /)\n",
      "     |      Implement iter(self).\n",
      "     |  \n",
      "     |  __le__(self, value, /)\n",
      "     |      Return self<=value.\n",
      "     |  \n",
      "     |  __len__(self, /)\n",
      "     |      Return len(self).\n",
      "     |  \n",
      "     |  __lt__(self, value, /)\n",
      "     |      Return self<value.\n",
      "     |  \n",
      "     |  __mul__(self, value, /)\n",
      "     |      Return self*value.\n",
      "     |  \n",
      "     |  __ne__(self, value, /)\n",
      "     |      Return self!=value.\n",
      "     |  \n",
      "     |  __rmul__(self, value, /)\n",
      "     |      Return value*self.\n",
      "     |  \n",
      "     |  count(self, value, /)\n",
      "     |      Return number of occurrences of value.\n",
      "     |  \n",
      "     |  index(self, value, start=0, stop=2147483647, /)\n",
      "     |      Return first index of value.\n",
      "     |      \n",
      "     |      Raises ValueError if the value is not present.\n",
      "    \n",
      "    class times_result(builtins.tuple)\n",
      "     |  times_result(iterable=(), /)\n",
      "     |  \n",
      "     |  times_result: Result from os.times().\n",
      "     |  \n",
      "     |  This object may be accessed either as a tuple of\n",
      "     |    (user, system, children_user, children_system, elapsed),\n",
      "     |  or via the attributes user, system, children_user, children_system,\n",
      "     |  and elapsed.\n",
      "     |  \n",
      "     |  See os.times for more information.\n",
      "     |  \n",
      "     |  Method resolution order:\n",
      "     |      times_result\n",
      "     |      builtins.tuple\n",
      "     |      builtins.object\n",
      "     |  \n",
      "     |  Methods defined here:\n",
      "     |  \n",
      "     |  __reduce__(...)\n",
      "     |      Helper for pickle.\n",
      "     |  \n",
      "     |  __repr__(self, /)\n",
      "     |      Return repr(self).\n",
      "     |  \n",
      "     |  ----------------------------------------------------------------------\n",
      "     |  Static methods defined here:\n",
      "     |  \n",
      "     |  __new__(*args, **kwargs) from builtins.type\n",
      "     |      Create and return a new object.  See help(type) for accurate signature.\n",
      "     |  \n",
      "     |  ----------------------------------------------------------------------\n",
      "     |  Data descriptors defined here:\n",
      "     |  \n",
      "     |  children_system\n",
      "     |      system time of children\n",
      "     |  \n",
      "     |  children_user\n",
      "     |      user time of children\n",
      "     |  \n",
      "     |  elapsed\n",
      "     |      elapsed time since an arbitrary point in the past\n",
      "     |  \n",
      "     |  system\n",
      "     |      system time\n",
      "     |  \n",
      "     |  user\n",
      "     |      user time\n",
      "     |  \n",
      "     |  ----------------------------------------------------------------------\n",
      "     |  Data and other attributes defined here:\n",
      "     |  \n",
      "     |  n_fields = 5\n",
      "     |  \n",
      "     |  n_sequence_fields = 5\n",
      "     |  \n",
      "     |  n_unnamed_fields = 0\n",
      "     |  \n",
      "     |  ----------------------------------------------------------------------\n",
      "     |  Methods inherited from builtins.tuple:\n",
      "     |  \n",
      "     |  __add__(self, value, /)\n",
      "     |      Return self+value.\n",
      "     |  \n",
      "     |  __contains__(self, key, /)\n",
      "     |      Return key in self.\n",
      "     |  \n",
      "     |  __eq__(self, value, /)\n",
      "     |      Return self==value.\n",
      "     |  \n",
      "     |  __ge__(self, value, /)\n",
      "     |      Return self>=value.\n",
      "     |  \n",
      "     |  __getattribute__(self, name, /)\n",
      "     |      Return getattr(self, name).\n",
      "     |  \n",
      "     |  __getitem__(self, key, /)\n",
      "     |      Return self[key].\n",
      "     |  \n",
      "     |  __getnewargs__(self, /)\n",
      "     |  \n",
      "     |  __gt__(self, value, /)\n",
      "     |      Return self>value.\n",
      "     |  \n",
      "     |  __hash__(self, /)\n",
      "     |      Return hash(self).\n",
      "     |  \n",
      "     |  __iter__(self, /)\n",
      "     |      Implement iter(self).\n",
      "     |  \n",
      "     |  __le__(self, value, /)\n",
      "     |      Return self<=value.\n",
      "     |  \n",
      "     |  __len__(self, /)\n",
      "     |      Return len(self).\n",
      "     |  \n",
      "     |  __lt__(self, value, /)\n",
      "     |      Return self<value.\n",
      "     |  \n",
      "     |  __mul__(self, value, /)\n",
      "     |      Return self*value.\n",
      "     |  \n",
      "     |  __ne__(self, value, /)\n",
      "     |      Return self!=value.\n",
      "     |  \n",
      "     |  __rmul__(self, value, /)\n",
      "     |      Return value*self.\n",
      "     |  \n",
      "     |  count(self, value, /)\n",
      "     |      Return number of occurrences of value.\n",
      "     |  \n",
      "     |  index(self, value, start=0, stop=2147483647, /)\n",
      "     |      Return first index of value.\n",
      "     |      \n",
      "     |      Raises ValueError if the value is not present.\n",
      "    \n",
      "    class uname_result(builtins.tuple)\n",
      "     |  uname_result(iterable=(), /)\n",
      "     |  \n",
      "     |  uname_result: Result from os.uname().\n",
      "     |  \n",
      "     |  This object may be accessed either as a tuple of\n",
      "     |    (sysname, nodename, release, version, machine),\n",
      "     |  or via the attributes sysname, nodename, release, version, and machine.\n",
      "     |  \n",
      "     |  See os.uname for more information.\n",
      "     |  \n",
      "     |  Method resolution order:\n",
      "     |      uname_result\n",
      "     |      builtins.tuple\n",
      "     |      builtins.object\n",
      "     |  \n",
      "     |  Methods defined here:\n",
      "     |  \n",
      "     |  __reduce__(...)\n",
      "     |      Helper for pickle.\n",
      "     |  \n",
      "     |  __repr__(self, /)\n",
      "     |      Return repr(self).\n",
      "     |  \n",
      "     |  ----------------------------------------------------------------------\n",
      "     |  Static methods defined here:\n",
      "     |  \n",
      "     |  __new__(*args, **kwargs) from builtins.type\n",
      "     |      Create and return a new object.  See help(type) for accurate signature.\n",
      "     |  \n",
      "     |  ----------------------------------------------------------------------\n",
      "     |  Data descriptors defined here:\n",
      "     |  \n",
      "     |  machine\n",
      "     |      hardware identifier\n",
      "     |  \n",
      "     |  nodename\n",
      "     |      name of machine on network (implementation-defined)\n",
      "     |  \n",
      "     |  release\n",
      "     |      operating system release\n",
      "     |  \n",
      "     |  sysname\n",
      "     |      operating system name\n",
      "     |  \n",
      "     |  version\n",
      "     |      operating system version\n",
      "     |  \n",
      "     |  ----------------------------------------------------------------------\n",
      "     |  Data and other attributes defined here:\n",
      "     |  \n",
      "     |  n_fields = 5\n",
      "     |  \n",
      "     |  n_sequence_fields = 5\n",
      "     |  \n",
      "     |  n_unnamed_fields = 0\n",
      "     |  \n",
      "     |  ----------------------------------------------------------------------\n",
      "     |  Methods inherited from builtins.tuple:\n",
      "     |  \n",
      "     |  __add__(self, value, /)\n",
      "     |      Return self+value.\n",
      "     |  \n",
      "     |  __contains__(self, key, /)\n",
      "     |      Return key in self.\n",
      "     |  \n",
      "     |  __eq__(self, value, /)\n",
      "     |      Return self==value.\n",
      "     |  \n",
      "     |  __ge__(self, value, /)\n",
      "     |      Return self>=value.\n",
      "     |  \n",
      "     |  __getattribute__(self, name, /)\n",
      "     |      Return getattr(self, name).\n",
      "     |  \n",
      "     |  __getitem__(self, key, /)\n",
      "     |      Return self[key].\n",
      "     |  \n",
      "     |  __getnewargs__(self, /)\n",
      "     |  \n",
      "     |  __gt__(self, value, /)\n",
      "     |      Return self>value.\n",
      "     |  \n",
      "     |  __hash__(self, /)\n",
      "     |      Return hash(self).\n",
      "     |  \n",
      "     |  __iter__(self, /)\n",
      "     |      Implement iter(self).\n",
      "     |  \n",
      "     |  __le__(self, value, /)\n",
      "     |      Return self<=value.\n",
      "     |  \n",
      "     |  __len__(self, /)\n",
      "     |      Return len(self).\n",
      "     |  \n",
      "     |  __lt__(self, value, /)\n",
      "     |      Return self<value.\n",
      "     |  \n",
      "     |  __mul__(self, value, /)\n",
      "     |      Return self*value.\n",
      "     |  \n",
      "     |  __ne__(self, value, /)\n",
      "     |      Return self!=value.\n",
      "     |  \n",
      "     |  __rmul__(self, value, /)\n",
      "     |      Return value*self.\n",
      "     |  \n",
      "     |  count(self, value, /)\n",
      "     |      Return number of occurrences of value.\n",
      "     |  \n",
      "     |  index(self, value, start=0, stop=2147483647, /)\n",
      "     |      Return first index of value.\n",
      "     |      \n",
      "     |      Raises ValueError if the value is not present.\n",
      "\n",
      "FUNCTIONS\n",
      "    _exit(status)\n",
      "        Exit to the system with specified status, without normal exit processing.\n",
      "    \n",
      "    abort()\n",
      "        Abort the interpreter immediately.\n",
      "        \n",
      "        This function 'dumps core' or otherwise fails in the hardest way possible\n",
      "        on the hosting operating system.  This function never returns.\n",
      "    \n",
      "    access(path, mode, *, dir_fd=None, effective_ids=False, follow_symlinks=True)\n",
      "        Use the real uid/gid to test for access to a path.\n",
      "        \n",
      "          path\n",
      "            Path to be tested; can be string, bytes, or a path-like object.\n",
      "          mode\n",
      "            Operating-system mode bitfield.  Can be F_OK to test existence,\n",
      "            or the inclusive-OR of R_OK, W_OK, and X_OK.\n",
      "          dir_fd\n",
      "            If not None, it should be a file descriptor open to a directory,\n",
      "            and path should be relative; path will then be relative to that\n",
      "            directory.\n",
      "          effective_ids\n",
      "            If True, access will use the effective uid/gid instead of\n",
      "            the real uid/gid.\n",
      "          follow_symlinks\n",
      "            If False, and the last element of the path is a symbolic link,\n",
      "            access will examine the symbolic link itself instead of the file\n",
      "            the link points to.\n",
      "        \n",
      "        dir_fd, effective_ids, and follow_symlinks may not be implemented\n",
      "          on your platform.  If they are unavailable, using them will raise a\n",
      "          NotImplementedError.\n",
      "        \n",
      "        Note that most operations will use the effective uid/gid, therefore this\n",
      "          routine can be used in a suid/sgid environment to test if the invoking user\n",
      "          has the specified access to the path.\n",
      "    \n",
      "    chdir(path)\n",
      "        Change the current working directory to the specified path.\n",
      "        \n",
      "        path may always be specified as a string.\n",
      "        On some platforms, path may also be specified as an open file descriptor.\n",
      "          If this functionality is unavailable, using it raises an exception.\n",
      "    \n",
      "    chmod(path, mode, *, dir_fd=None, follow_symlinks=True)\n",
      "        Change the access permissions of a file.\n",
      "        \n",
      "          path\n",
      "            Path to be modified.  May always be specified as a str, bytes, or a path-like object.\n",
      "            On some platforms, path may also be specified as an open file descriptor.\n",
      "            If this functionality is unavailable, using it raises an exception.\n",
      "          mode\n",
      "            Operating-system mode bitfield.\n",
      "          dir_fd\n",
      "            If not None, it should be a file descriptor open to a directory,\n",
      "            and path should be relative; path will then be relative to that\n",
      "            directory.\n",
      "          follow_symlinks\n",
      "            If False, and the last element of the path is a symbolic link,\n",
      "            chmod will modify the symbolic link itself instead of the file\n",
      "            the link points to.\n",
      "        \n",
      "        It is an error to use dir_fd or follow_symlinks when specifying path as\n",
      "          an open file descriptor.\n",
      "        dir_fd and follow_symlinks may not be implemented on your platform.\n",
      "          If they are unavailable, using them will raise a NotImplementedError.\n",
      "    \n",
      "    close(fd)\n",
      "        Close a file descriptor.\n",
      "    \n",
      "    closerange(fd_low, fd_high, /)\n",
      "        Closes all file descriptors in [fd_low, fd_high), ignoring errors.\n",
      "    \n",
      "    cpu_count()\n",
      "        Return the number of CPUs in the system; return None if indeterminable.\n",
      "        \n",
      "        This number is not equivalent to the number of CPUs the current process can\n",
      "        use.  The number of usable CPUs can be obtained with\n",
      "        ``len(os.sched_getaffinity(0))``\n",
      "    \n",
      "    device_encoding(fd)\n",
      "        Return a string describing the encoding of a terminal's file descriptor.\n",
      "        \n",
      "        The file descriptor must be attached to a terminal.\n",
      "        If the device is not a terminal, return None.\n",
      "    \n",
      "    dup(fd, /)\n",
      "        Return a duplicate of a file descriptor.\n",
      "    \n",
      "    dup2(fd, fd2, inheritable=True)\n",
      "        Duplicate file descriptor.\n",
      "    \n",
      "    execl(file, *args)\n",
      "        execl(file, *args)\n",
      "        \n",
      "        Execute the executable file with argument list args, replacing the\n",
      "        current process.\n",
      "    \n",
      "    execle(file, *args)\n",
      "        execle(file, *args, env)\n",
      "        \n",
      "        Execute the executable file with argument list args and\n",
      "        environment env, replacing the current process.\n",
      "    \n",
      "    execlp(file, *args)\n",
      "        execlp(file, *args)\n",
      "        \n",
      "        Execute the executable file (which is searched for along $PATH)\n",
      "        with argument list args, replacing the current process.\n",
      "    \n",
      "    execlpe(file, *args)\n",
      "        execlpe(file, *args, env)\n",
      "        \n",
      "        Execute the executable file (which is searched for along $PATH)\n",
      "        with argument list args and environment env, replacing the current\n",
      "        process.\n",
      "    \n",
      "    execv(path, argv, /)\n",
      "        Execute an executable path with arguments, replacing current process.\n",
      "        \n",
      "        path\n",
      "          Path of executable file.\n",
      "        argv\n",
      "          Tuple or list of strings.\n",
      "    \n",
      "    execve(path, argv, env)\n",
      "        Execute an executable path with arguments, replacing current process.\n",
      "        \n",
      "        path\n",
      "          Path of executable file.\n",
      "        argv\n",
      "          Tuple or list of strings.\n",
      "        env\n",
      "          Dictionary of strings mapping to strings.\n",
      "    \n",
      "    execvp(file, args)\n",
      "        execvp(file, args)\n",
      "        \n",
      "        Execute the executable file (which is searched for along $PATH)\n",
      "        with argument list args, replacing the current process.\n",
      "        args may be a list or tuple of strings.\n",
      "    \n",
      "    execvpe(file, args, env)\n",
      "        execvpe(file, args, env)\n",
      "        \n",
      "        Execute the executable file (which is searched for along $PATH)\n",
      "        with argument list args and environment env, replacing the\n",
      "        current process.\n",
      "        args may be a list or tuple of strings.\n",
      "    \n",
      "    fdopen(fd, *args, **kwargs)\n",
      "        # Supply os.fdopen()\n",
      "    \n",
      "    fsdecode(filename)\n",
      "        Decode filename (an os.PathLike, bytes, or str) from the filesystem\n",
      "        encoding with 'surrogateescape' error handler, return str unchanged. On\n",
      "        Windows, use 'strict' error handler if the file system encoding is\n",
      "        'mbcs' (which is the default encoding).\n",
      "    \n",
      "    fsencode(filename)\n",
      "        Encode filename (an os.PathLike, bytes, or str) to the filesystem\n",
      "        encoding with 'surrogateescape' error handler, return bytes unchanged.\n",
      "        On Windows, use 'strict' error handler if the file system encoding is\n",
      "        'mbcs' (which is the default encoding).\n",
      "    \n",
      "    fspath(path)\n",
      "        Return the file system path representation of the object.\n",
      "        \n",
      "        If the object is str or bytes, then allow it to pass through as-is. If the\n",
      "        object defines __fspath__(), then return the result of that method. All other\n",
      "        types raise a TypeError.\n",
      "    \n",
      "    fstat(fd)\n",
      "        Perform a stat system call on the given file descriptor.\n",
      "        \n",
      "        Like stat(), but for an open file descriptor.\n",
      "        Equivalent to os.stat(fd).\n",
      "    \n",
      "    fsync(fd)\n",
      "        Force write of fd to disk.\n",
      "    \n",
      "    ftruncate(fd, length, /)\n",
      "        Truncate a file, specified by file descriptor, to a specific length.\n",
      "    \n",
      "    get_exec_path(env=None)\n",
      "        Returns the sequence of directories that will be searched for the\n",
      "        named executable (similar to a shell) when launching a process.\n",
      "        \n",
      "        *env* must be an environment variable dict or None.  If *env* is None,\n",
      "        os.environ will be used.\n",
      "    \n",
      "    get_handle_inheritable(handle, /)\n",
      "        Get the close-on-exe flag of the specified file descriptor.\n",
      "    \n",
      "    get_inheritable(fd, /)\n",
      "        Get the close-on-exe flag of the specified file descriptor.\n",
      "    \n",
      "    get_terminal_size(...)\n",
      "        Return the size of the terminal window as (columns, lines).\n",
      "        \n",
      "        The optional argument fd (default standard output) specifies\n",
      "        which file descriptor should be queried.\n",
      "        \n",
      "        If the file descriptor is not connected to a terminal, an OSError\n",
      "        is thrown.\n",
      "        \n",
      "        This function will only be defined if an implementation is\n",
      "        available for this system.\n",
      "        \n",
      "        shutil.get_terminal_size is the high-level function which should \n",
      "        normally be used, os.get_terminal_size is the low-level implementation.\n",
      "    \n",
      "    getcwd()\n",
      "        Return a unicode string representing the current working directory.\n",
      "    \n",
      "    getcwdb()\n",
      "        Return a bytes string representing the current working directory.\n",
      "    \n",
      "    getenv(key, default=None)\n",
      "        Get an environment variable, return None if it doesn't exist.\n",
      "        The optional second argument can specify an alternate default.\n",
      "        key, default and the result are str.\n",
      "    \n",
      "    getlogin()\n",
      "        Return the actual login name.\n",
      "    \n",
      "    getpid()\n",
      "        Return the current process id.\n",
      "    \n",
      "    getppid()\n",
      "        Return the parent's process id.\n",
      "        \n",
      "        If the parent process has already exited, Windows machines will still\n",
      "        return its id; others systems will return the id of the 'init' process (1).\n",
      "    \n",
      "    isatty(fd, /)\n",
      "        Return True if the fd is connected to a terminal.\n",
      "        \n",
      "        Return True if the file descriptor is an open file descriptor\n",
      "        connected to the slave end of a terminal.\n",
      "    \n",
      "    kill(pid, signal, /)\n",
      "        Kill a process with a signal.\n",
      "    \n",
      "    link(src, dst, *, src_dir_fd=None, dst_dir_fd=None, follow_symlinks=True)\n",
      "        Create a hard link to a file.\n",
      "        \n",
      "        If either src_dir_fd or dst_dir_fd is not None, it should be a file\n",
      "          descriptor open to a directory, and the respective path string (src or dst)\n",
      "          should be relative; the path will then be relative to that directory.\n",
      "        If follow_symlinks is False, and the last element of src is a symbolic\n",
      "          link, link will create a link to the symbolic link itself instead of the\n",
      "          file the link points to.\n",
      "        src_dir_fd, dst_dir_fd, and follow_symlinks may not be implemented on your\n",
      "          platform.  If they are unavailable, using them will raise a\n",
      "          NotImplementedError.\n",
      "    \n",
      "    listdir(path=None)\n",
      "        Return a list containing the names of the files in the directory.\n",
      "        \n",
      "        path can be specified as either str, bytes, or a path-like object.  If path is bytes,\n",
      "          the filenames returned will also be bytes; in all other circumstances\n",
      "          the filenames returned will be str.\n",
      "        If path is None, uses the path='.'.\n",
      "        On some platforms, path may also be specified as an open file descriptor;\\\n",
      "          the file descriptor must refer to a directory.\n",
      "          If this functionality is unavailable, using it raises NotImplementedError.\n",
      "        \n",
      "        The list is in arbitrary order.  It does not include the special\n",
      "        entries '.' and '..' even if they are present in the directory.\n",
      "    \n",
      "    lseek(fd, position, how, /)\n",
      "        Set the position of a file descriptor.  Return the new position.\n",
      "        \n",
      "        Return the new cursor position in number of bytes\n",
      "        relative to the beginning of the file.\n",
      "    \n",
      "    lstat(path, *, dir_fd=None)\n",
      "        Perform a stat system call on the given path, without following symbolic links.\n",
      "        \n",
      "        Like stat(), but do not follow symbolic links.\n",
      "        Equivalent to stat(path, follow_symlinks=False).\n",
      "    \n",
      "    makedirs(name, mode=511, exist_ok=False)\n",
      "        makedirs(name [, mode=0o777][, exist_ok=False])\n",
      "        \n",
      "        Super-mkdir; create a leaf directory and all intermediate ones.  Works like\n",
      "        mkdir, except that any intermediate path segment (not just the rightmost)\n",
      "        will be created if it does not exist. If the target directory already\n",
      "        exists, raise an OSError if exist_ok is False. Otherwise no exception is\n",
      "        raised.  This is recursive.\n",
      "    \n",
      "    mkdir(path, mode=511, *, dir_fd=None)\n",
      "        Create a directory.\n",
      "        \n",
      "        If dir_fd is not None, it should be a file descriptor open to a directory,\n",
      "          and path should be relative; path will then be relative to that directory.\n",
      "        dir_fd may not be implemented on your platform.\n",
      "          If it is unavailable, using it will raise a NotImplementedError.\n",
      "        \n",
      "        The mode argument is ignored on Windows.\n",
      "    \n",
      "    open(path, flags, mode=511, *, dir_fd=None)\n",
      "        Open a file for low level IO.  Returns a file descriptor (integer).\n",
      "        \n",
      "        If dir_fd is not None, it should be a file descriptor open to a directory,\n",
      "          and path should be relative; path will then be relative to that directory.\n",
      "        dir_fd may not be implemented on your platform.\n",
      "          If it is unavailable, using it will raise a NotImplementedError.\n",
      "    \n",
      "    pipe()\n",
      "        Create a pipe.\n",
      "        \n",
      "        Returns a tuple of two file descriptors:\n",
      "          (read_fd, write_fd)\n",
      "    \n",
      "    popen(cmd, mode='r', buffering=-1)\n",
      "        # Supply os.popen()\n",
      "    \n",
      "    putenv(name, value, /)\n",
      "        Change or add an environment variable.\n",
      "    \n",
      "    read(fd, length, /)\n",
      "        Read from a file descriptor.  Returns a bytes object.\n",
      "    \n",
      "    readlink(...)\n",
      "        readlink(path, *, dir_fd=None) -> path\n",
      "        \n",
      "        Return a string representing the path to which the symbolic link points.\n",
      "        \n",
      "        If dir_fd is not None, it should be a file descriptor open to a directory,\n",
      "          and path should be relative; path will then be relative to that directory.\n",
      "        dir_fd may not be implemented on your platform.\n",
      "          If it is unavailable, using it will raise a NotImplementedError.\n",
      "    \n",
      "    remove(path, *, dir_fd=None)\n",
      "        Remove a file (same as unlink()).\n",
      "        \n",
      "        If dir_fd is not None, it should be a file descriptor open to a directory,\n",
      "          and path should be relative; path will then be relative to that directory.\n",
      "        dir_fd may not be implemented on your platform.\n",
      "          If it is unavailable, using it will raise a NotImplementedError.\n",
      "    \n",
      "    removedirs(name)\n",
      "        removedirs(name)\n",
      "        \n",
      "        Super-rmdir; remove a leaf directory and all empty intermediate\n",
      "        ones.  Works like rmdir except that, if the leaf directory is\n",
      "        successfully removed, directories corresponding to rightmost path\n",
      "        segments will be pruned away until either the whole path is\n",
      "        consumed or an error occurs.  Errors during this latter phase are\n",
      "        ignored -- they generally mean that a directory was not empty.\n",
      "    \n",
      "    rename(src, dst, *, src_dir_fd=None, dst_dir_fd=None)\n",
      "        Rename a file or directory.\n",
      "        \n",
      "        If either src_dir_fd or dst_dir_fd is not None, it should be a file\n",
      "          descriptor open to a directory, and the respective path string (src or dst)\n",
      "          should be relative; the path will then be relative to that directory.\n",
      "        src_dir_fd and dst_dir_fd, may not be implemented on your platform.\n",
      "          If they are unavailable, using them will raise a NotImplementedError.\n",
      "    \n",
      "    renames(old, new)\n",
      "        renames(old, new)\n",
      "        \n",
      "        Super-rename; create directories as necessary and delete any left\n",
      "        empty.  Works like rename, except creation of any intermediate\n",
      "        directories needed to make the new pathname good is attempted\n",
      "        first.  After the rename, directories corresponding to rightmost\n",
      "        path segments of the old name will be pruned until either the\n",
      "        whole path is consumed or a nonempty directory is found.\n",
      "        \n",
      "        Note: this function can fail with the new directory structure made\n",
      "        if you lack permissions needed to unlink the leaf directory or\n",
      "        file.\n",
      "    \n",
      "    replace(src, dst, *, src_dir_fd=None, dst_dir_fd=None)\n",
      "        Rename a file or directory, overwriting the destination.\n",
      "        \n",
      "        If either src_dir_fd or dst_dir_fd is not None, it should be a file\n",
      "          descriptor open to a directory, and the respective path string (src or dst)\n",
      "          should be relative; the path will then be relative to that directory.\n",
      "        src_dir_fd and dst_dir_fd, may not be implemented on your platform.\n",
      "          If they are unavailable, using them will raise a NotImplementedError.\n",
      "    \n",
      "    rmdir(path, *, dir_fd=None)\n",
      "        Remove a directory.\n",
      "        \n",
      "        If dir_fd is not None, it should be a file descriptor open to a directory,\n",
      "          and path should be relative; path will then be relative to that directory.\n",
      "        dir_fd may not be implemented on your platform.\n",
      "          If it is unavailable, using it will raise a NotImplementedError.\n",
      "    \n",
      "    scandir(path=None)\n",
      "        Return an iterator of DirEntry objects for given path.\n",
      "        \n",
      "        path can be specified as either str, bytes, or a path-like object.  If path\n",
      "        is bytes, the names of yielded DirEntry objects will also be bytes; in\n",
      "        all other circumstances they will be str.\n",
      "        \n",
      "        If path is None, uses the path='.'.\n",
      "    \n",
      "    set_handle_inheritable(handle, inheritable, /)\n",
      "        Set the inheritable flag of the specified handle.\n",
      "    \n",
      "    set_inheritable(fd, inheritable, /)\n",
      "        Set the inheritable flag of the specified file descriptor.\n",
      "    \n",
      "    spawnl(mode, file, *args)\n",
      "        spawnl(mode, file, *args) -> integer\n",
      "        \n",
      "        Execute file with arguments from args in a subprocess.\n",
      "        If mode == P_NOWAIT return the pid of the process.\n",
      "        If mode == P_WAIT return the process's exit code if it exits normally;\n",
      "        otherwise return -SIG, where SIG is the signal that killed it.\n",
      "    \n",
      "    spawnle(mode, file, *args)\n",
      "        spawnle(mode, file, *args, env) -> integer\n",
      "        \n",
      "        Execute file with arguments from args in a subprocess with the\n",
      "        supplied environment.\n",
      "        If mode == P_NOWAIT return the pid of the process.\n",
      "        If mode == P_WAIT return the process's exit code if it exits normally;\n",
      "        otherwise return -SIG, where SIG is the signal that killed it.\n",
      "    \n",
      "    spawnv(mode, path, argv, /)\n",
      "        Execute the program specified by path in a new process.\n",
      "        \n",
      "        mode\n",
      "          Mode of process creation.\n",
      "        path\n",
      "          Path of executable file.\n",
      "        argv\n",
      "          Tuple or list of strings.\n",
      "    \n",
      "    spawnve(mode, path, argv, env, /)\n",
      "        Execute the program specified by path in a new process.\n",
      "        \n",
      "        mode\n",
      "          Mode of process creation.\n",
      "        path\n",
      "          Path of executable file.\n",
      "        argv\n",
      "          Tuple or list of strings.\n",
      "        env\n",
      "          Dictionary of strings mapping to strings.\n",
      "    \n",
      "    startfile(filepath, operation=None)\n",
      "        startfile(filepath [, operation])\n",
      "        \n",
      "        Start a file with its associated application.\n",
      "        \n",
      "        When \"operation\" is not specified or \"open\", this acts like\n",
      "        double-clicking the file in Explorer, or giving the file name as an\n",
      "        argument to the DOS \"start\" command: the file is opened with whatever\n",
      "        application (if any) its extension is associated.\n",
      "        When another \"operation\" is given, it specifies what should be done with\n",
      "        the file.  A typical operation is \"print\".\n",
      "        \n",
      "        startfile returns as soon as the associated application is launched.\n",
      "        There is no option to wait for the application to close, and no way\n",
      "        to retrieve the application's exit status.\n",
      "        \n",
      "        The filepath is relative to the current directory.  If you want to use\n",
      "        an absolute path, make sure the first character is not a slash (\"/\");\n",
      "        the underlying Win32 ShellExecute function doesn't work if it is.\n",
      "    \n",
      "    stat(path, *, dir_fd=None, follow_symlinks=True)\n",
      "        Perform a stat system call on the given path.\n",
      "        \n",
      "          path\n",
      "            Path to be examined; can be string, bytes, a path-like object or\n",
      "            open-file-descriptor int.\n",
      "          dir_fd\n",
      "            If not None, it should be a file descriptor open to a directory,\n",
      "            and path should be a relative string; path will then be relative to\n",
      "            that directory.\n",
      "          follow_symlinks\n",
      "            If False, and the last element of the path is a symbolic link,\n",
      "            stat will examine the symbolic link itself instead of the file\n",
      "            the link points to.\n",
      "        \n",
      "        dir_fd and follow_symlinks may not be implemented\n",
      "          on your platform.  If they are unavailable, using them will raise a\n",
      "          NotImplementedError.\n",
      "        \n",
      "        It's an error to use dir_fd or follow_symlinks when specifying path as\n",
      "          an open file descriptor.\n",
      "    \n",
      "    strerror(code, /)\n",
      "        Translate an error code to a message string.\n",
      "    \n",
      "    symlink(src, dst, target_is_directory=False, *, dir_fd=None)\n",
      "        Create a symbolic link pointing to src named dst.\n",
      "        \n",
      "        target_is_directory is required on Windows if the target is to be\n",
      "          interpreted as a directory.  (On Windows, symlink requires\n",
      "          Windows 6.0 or greater, and raises a NotImplementedError otherwise.)\n",
      "          target_is_directory is ignored on non-Windows platforms.\n",
      "        \n",
      "        If dir_fd is not None, it should be a file descriptor open to a directory,\n",
      "          and path should be relative; path will then be relative to that directory.\n",
      "        dir_fd may not be implemented on your platform.\n",
      "          If it is unavailable, using it will raise a NotImplementedError.\n",
      "    \n",
      "    system(command)\n",
      "        Execute the command in a subshell.\n",
      "    \n",
      "    times()\n",
      "        Return a collection containing process timing information.\n",
      "        \n",
      "        The object returned behaves like a named tuple with these fields:\n",
      "          (utime, stime, cutime, cstime, elapsed_time)\n",
      "        All fields are floating point numbers.\n",
      "    \n",
      "    truncate(path, length)\n",
      "        Truncate a file, specified by path, to a specific length.\n",
      "        \n",
      "        On some platforms, path may also be specified as an open file descriptor.\n",
      "          If this functionality is unavailable, using it raises an exception.\n",
      "    \n",
      "    umask(mask, /)\n",
      "        Set the current numeric umask and return the previous umask.\n",
      "    \n",
      "    unlink(path, *, dir_fd=None)\n",
      "        Remove a file (same as remove()).\n",
      "        \n",
      "        If dir_fd is not None, it should be a file descriptor open to a directory,\n",
      "          and path should be relative; path will then be relative to that directory.\n",
      "        dir_fd may not be implemented on your platform.\n",
      "          If it is unavailable, using it will raise a NotImplementedError.\n",
      "    \n",
      "    urandom(size, /)\n",
      "        Return a bytes object containing random bytes suitable for cryptographic use.\n",
      "    \n",
      "    utime(path, times=None, *, ns=None, dir_fd=None, follow_symlinks=True)\n",
      "        Set the access and modified time of path.\n",
      "        \n",
      "        path may always be specified as a string.\n",
      "        On some platforms, path may also be specified as an open file descriptor.\n",
      "          If this functionality is unavailable, using it raises an exception.\n",
      "        \n",
      "        If times is not None, it must be a tuple (atime, mtime);\n",
      "            atime and mtime should be expressed as float seconds since the epoch.\n",
      "        If ns is specified, it must be a tuple (atime_ns, mtime_ns);\n",
      "            atime_ns and mtime_ns should be expressed as integer nanoseconds\n",
      "            since the epoch.\n",
      "        If times is None and ns is unspecified, utime uses the current time.\n",
      "        Specifying tuples for both times and ns is an error.\n",
      "        \n",
      "        If dir_fd is not None, it should be a file descriptor open to a directory,\n",
      "          and path should be relative; path will then be relative to that directory.\n",
      "        If follow_symlinks is False, and the last element of the path is a symbolic\n",
      "          link, utime will modify the symbolic link itself instead of the file the\n",
      "          link points to.\n",
      "        It is an error to use dir_fd or follow_symlinks when specifying path\n",
      "          as an open file descriptor.\n",
      "        dir_fd and follow_symlinks may not be available on your platform.\n",
      "          If they are unavailable, using them will raise a NotImplementedError.\n",
      "    \n",
      "    waitpid(pid, options, /)\n",
      "        Wait for completion of a given process.\n",
      "        \n",
      "        Returns a tuple of information regarding the process:\n",
      "            (pid, status << 8)\n",
      "        \n",
      "        The options argument is ignored on Windows.\n",
      "    \n",
      "    walk(top, topdown=True, onerror=None, followlinks=False)\n",
      "        Directory tree generator.\n",
      "        \n",
      "        For each directory in the directory tree rooted at top (including top\n",
      "        itself, but excluding '.' and '..'), yields a 3-tuple\n",
      "        \n",
      "            dirpath, dirnames, filenames\n",
      "        \n",
      "        dirpath is a string, the path to the directory.  dirnames is a list of\n",
      "        the names of the subdirectories in dirpath (excluding '.' and '..').\n",
      "        filenames is a list of the names of the non-directory files in dirpath.\n",
      "        Note that the names in the lists are just names, with no path components.\n",
      "        To get a full path (which begins with top) to a file or directory in\n",
      "        dirpath, do os.path.join(dirpath, name).\n",
      "        \n",
      "        If optional arg 'topdown' is true or not specified, the triple for a\n",
      "        directory is generated before the triples for any of its subdirectories\n",
      "        (directories are generated top down).  If topdown is false, the triple\n",
      "        for a directory is generated after the triples for all of its\n",
      "        subdirectories (directories are generated bottom up).\n",
      "        \n",
      "        When topdown is true, the caller can modify the dirnames list in-place\n",
      "        (e.g., via del or slice assignment), and walk will only recurse into the\n",
      "        subdirectories whose names remain in dirnames; this can be used to prune the\n",
      "        search, or to impose a specific order of visiting.  Modifying dirnames when\n",
      "        topdown is false has no effect on the behavior of os.walk(), since the\n",
      "        directories in dirnames have already been generated by the time dirnames\n",
      "        itself is generated. No matter the value of topdown, the list of\n",
      "        subdirectories is retrieved before the tuples for the directory and its\n",
      "        subdirectories are generated.\n",
      "        \n",
      "        By default errors from the os.scandir() call are ignored.  If\n",
      "        optional arg 'onerror' is specified, it should be a function; it\n",
      "        will be called with one argument, an OSError instance.  It can\n",
      "        report the error to continue with the walk, or raise the exception\n",
      "        to abort the walk.  Note that the filename is available as the\n",
      "        filename attribute of the exception object.\n",
      "        \n",
      "        By default, os.walk does not follow symbolic links to subdirectories on\n",
      "        systems that support them.  In order to get this functionality, set the\n",
      "        optional argument 'followlinks' to true.\n",
      "        \n",
      "        Caution:  if you pass a relative pathname for top, don't change the\n",
      "        current working directory between resumptions of walk.  walk never\n",
      "        changes the current directory, and assumes that the client doesn't\n",
      "        either.\n",
      "        \n",
      "        Example:\n",
      "        \n",
      "        import os\n",
      "        from os.path import join, getsize\n",
      "        for root, dirs, files in os.walk('python/Lib/email'):\n",
      "            print(root, \"consumes\", end=\"\")\n",
      "            print(sum([getsize(join(root, name)) for name in files]), end=\"\")\n",
      "            print(\"bytes in\", len(files), \"non-directory files\")\n",
      "            if 'CVS' in dirs:\n",
      "                dirs.remove('CVS')  # don't visit CVS directories\n",
      "    \n",
      "    write(fd, data, /)\n",
      "        Write a bytes object to a file descriptor.\n",
      "\n",
      "DATA\n",
      "    F_OK = 0\n",
      "    O_APPEND = 8\n",
      "    O_BINARY = 32768\n",
      "    O_CREAT = 256\n",
      "    O_EXCL = 1024\n",
      "    O_NOINHERIT = 128\n",
      "    O_RANDOM = 16\n",
      "    O_RDONLY = 0\n",
      "    O_RDWR = 2\n",
      "    O_SEQUENTIAL = 32\n",
      "    O_SHORT_LIVED = 4096\n",
      "    O_TEMPORARY = 64\n",
      "    O_TEXT = 16384\n",
      "    O_TRUNC = 512\n",
      "    O_WRONLY = 1\n",
      "    P_DETACH = 4\n",
      "    P_NOWAIT = 1\n",
      "    P_NOWAITO = 3\n",
      "    P_OVERLAY = 2\n",
      "    P_WAIT = 0\n",
      "    R_OK = 4\n",
      "    SEEK_CUR = 1\n",
      "    SEEK_END = 2\n",
      "    SEEK_SET = 0\n",
      "    TMP_MAX = 2147483647\n",
      "    W_OK = 2\n",
      "    X_OK = 1\n",
      "    __all__ = ['altsep', 'curdir', 'pardir', 'sep', 'pathsep', 'linesep', ...\n",
      "    altsep = '/'\n",
      "    curdir = '.'\n",
      "    defpath = r'.;C:\\bin'\n",
      "    devnull = 'nul'\n",
      "    environ = environ({'ALLUSERSPROFILE': 'C:\\\\ProgramData', '...END': 'mo...\n",
      "    extsep = '.'\n",
      "    linesep = '\\r\\n'\n",
      "    name = 'nt'\n",
      "    pardir = '..'\n",
      "    pathsep = ';'\n",
      "    sep = r'\\'\n",
      "    supports_bytes_environ = False\n",
      "\n",
      "FILE\n",
      "    c:\\users\\barker.french\\appdata\\local\\continuum\\anaconda3\\lib\\os.py\n",
      "\n",
      "\n"
     ]
    }
   ],
   "source": [
    "help(os)"
   ]
  },
  {
   "cell_type": "code",
   "execution_count": 44,
   "id": "72fca5ca",
   "metadata": {},
   "outputs": [],
   "source": [
    "import shutil"
   ]
  },
  {
   "cell_type": "code",
   "execution_count": 45,
   "id": "44c111ae",
   "metadata": {},
   "outputs": [
    {
     "data": {
      "text/plain": [
       "'new_file'"
      ]
     },
     "execution_count": 45,
     "metadata": {},
     "output_type": "execute_result"
    }
   ],
   "source": [
    "shutil.copyfile('workfile','new_file')"
   ]
  },
  {
   "cell_type": "code",
   "execution_count": null,
   "id": "904810cb",
   "metadata": {},
   "outputs": [],
   "source": [
    "shutil.move()"
   ]
  },
  {
   "cell_type": "markdown",
   "id": "19671596",
   "metadata": {},
   "source": [
    "### 10.2 File Wildcards"
   ]
  },
  {
   "cell_type": "code",
   "execution_count": 47,
   "id": "cecb4176",
   "metadata": {},
   "outputs": [],
   "source": [
    "import glob"
   ]
  },
  {
   "cell_type": "code",
   "execution_count": 49,
   "id": "e0b41809",
   "metadata": {},
   "outputs": [
    {
     "data": {
      "text/plain": [
       "['fibo.py']"
      ]
     },
     "execution_count": 49,
     "metadata": {},
     "output_type": "execute_result"
    }
   ],
   "source": [
    "glob.glob('*.py')"
   ]
  },
  {
   "cell_type": "markdown",
   "id": "c914dd7d",
   "metadata": {},
   "source": [
    "### 10.3 Command Line Arguments"
   ]
  },
  {
   "cell_type": "code",
   "execution_count": 52,
   "id": "1ca8d786",
   "metadata": {},
   "outputs": [
    {
     "name": "stdout",
     "output_type": "stream",
     "text": [
      "['C:\\\\Users\\\\barker.FRENCH\\\\AppData\\\\Local\\\\Continuum\\\\anaconda3\\\\lib\\\\site-packages\\\\ipykernel_launcher.py', '-f', 'C:\\\\Users\\\\barker.FRENCH\\\\AppData\\\\Roaming\\\\jupyter\\\\runtime\\\\kernel-e9024c7f-90cc-47b0-b0d0-967caa396c48.json']\n"
     ]
    }
   ],
   "source": [
    "import sys\n",
    "print(sys.argv)"
   ]
  },
  {
   "cell_type": "code",
   "execution_count": 53,
   "id": "5d2deaa9",
   "metadata": {},
   "outputs": [],
   "source": [
    "import argparse\n",
    "\n",
    "parser = argparse.ArgumentParser(prog = 'top',\n",
    "    description = 'Show top lines from each file')\n",
    "parser.add_argument('filenames', nargs='+')\n",
    "parser.add_argument('-l', '--lines', type=int, default=10)\n",
    "args = parser.parse_args()\n",
    "print(args)"
   ]
  },
  {
   "cell_type": "markdown",
   "id": "e153ae6d",
   "metadata": {},
   "source": [
    "### 10.4. Error Output Redirection and Program Termination"
   ]
  },
  {
   "cell_type": "code",
   "execution_count": 54,
   "id": "39ef8483",
   "metadata": {},
   "outputs": [
    {
     "name": "stderr",
     "output_type": "stream",
     "text": [
      "Warning, log file not found starting a new one\n"
     ]
    }
   ],
   "source": [
    "sys.stderr.write('Warning, log file not found starting a new one\\n')"
   ]
  },
  {
   "cell_type": "markdown",
   "id": "86d2e819",
   "metadata": {},
   "source": [
    "### 10.5. String Pattern Matching"
   ]
  },
  {
   "cell_type": "code",
   "execution_count": 55,
   "id": "2ec15308",
   "metadata": {},
   "outputs": [
    {
     "data": {
      "text/plain": [
       "['foot', 'fell', 'fastest']"
      ]
     },
     "execution_count": 55,
     "metadata": {},
     "output_type": "execute_result"
    }
   ],
   "source": [
    "import re\n",
    "re.findall(r'\\bf[a-z]*', 'which foot or hand fell fastest')"
   ]
  },
  {
   "cell_type": "code",
   "execution_count": 56,
   "id": "c925ccfb",
   "metadata": {},
   "outputs": [
    {
     "data": {
      "text/plain": [
       "'cat in the hat'"
      ]
     },
     "execution_count": 56,
     "metadata": {},
     "output_type": "execute_result"
    }
   ],
   "source": [
    "re.sub(r'(\\b[a-z]+) \\1', r'\\1', 'cat in the the hat')"
   ]
  },
  {
   "cell_type": "code",
   "execution_count": 57,
   "id": "5f7779e8",
   "metadata": {},
   "outputs": [
    {
     "data": {
      "text/plain": [
       "'tea for two'"
      ]
     },
     "execution_count": 57,
     "metadata": {},
     "output_type": "execute_result"
    }
   ],
   "source": [
    "'tea for too'.replace('too','two')"
   ]
  },
  {
   "cell_type": "markdown",
   "id": "2feb9f56",
   "metadata": {},
   "source": [
    "### Mathematics"
   ]
  },
  {
   "cell_type": "code",
   "execution_count": 58,
   "id": "304fe1c1",
   "metadata": {},
   "outputs": [
    {
     "data": {
      "text/plain": [
       "0.7071067811865476"
      ]
     },
     "execution_count": 58,
     "metadata": {},
     "output_type": "execute_result"
    }
   ],
   "source": [
    "import math\n",
    "math.cos(math.pi / 4)"
   ]
  },
  {
   "cell_type": "code",
   "execution_count": 59,
   "id": "9b2c3ca8",
   "metadata": {},
   "outputs": [
    {
     "data": {
      "text/plain": [
       "10.0"
      ]
     },
     "execution_count": 59,
     "metadata": {},
     "output_type": "execute_result"
    }
   ],
   "source": [
    "math.log(1024, 2)"
   ]
  },
  {
   "cell_type": "code",
   "execution_count": 63,
   "id": "56698efb",
   "metadata": {},
   "outputs": [
    {
     "data": {
      "text/plain": [
       "'banana'"
      ]
     },
     "execution_count": 63,
     "metadata": {},
     "output_type": "execute_result"
    }
   ],
   "source": [
    "import random\n",
    "random.choice(['apple', 'pear', 'banana'])\n",
    "random.choice(['apple', 'pear', 'banana'])\n",
    "random.choice(['apple', 'pear', 'banana'])"
   ]
  },
  {
   "cell_type": "code",
   "execution_count": 68,
   "id": "fa50fd36",
   "metadata": {},
   "outputs": [
    {
     "data": {
      "text/plain": [
       "'banana'"
      ]
     },
     "execution_count": 68,
     "metadata": {},
     "output_type": "execute_result"
    }
   ],
   "source": [
    "random.choice(['apple', 'pear', 'banana'])"
   ]
  },
  {
   "cell_type": "code",
   "execution_count": 69,
   "id": "509dd9c6",
   "metadata": {},
   "outputs": [
    {
     "data": {
      "text/plain": [
       "[35, 46, 57, 61, 7, 2, 19, 9, 85, 53]"
      ]
     },
     "execution_count": 69,
     "metadata": {},
     "output_type": "execute_result"
    }
   ],
   "source": [
    "random.sample(range(100), 10)"
   ]
  },
  {
   "cell_type": "code",
   "execution_count": 70,
   "id": "9ff467c6",
   "metadata": {},
   "outputs": [
    {
     "data": {
      "text/plain": [
       "5"
      ]
     },
     "execution_count": 70,
     "metadata": {},
     "output_type": "execute_result"
    }
   ],
   "source": [
    "random.randrange(6)    # random integer chosen from range(6)"
   ]
  },
  {
   "cell_type": "code",
   "execution_count": 71,
   "id": "e9813abf",
   "metadata": {},
   "outputs": [
    {
     "data": {
      "text/plain": [
       "0.2150252951004583"
      ]
     },
     "execution_count": 71,
     "metadata": {},
     "output_type": "execute_result"
    }
   ],
   "source": [
    "random.random()    # random float"
   ]
  },
  {
   "cell_type": "markdown",
   "id": "60075d3d",
   "metadata": {},
   "source": [
    "### 10.7 Internet Access"
   ]
  },
  {
   "cell_type": "code",
   "execution_count": 73,
   "id": "ec30cde3",
   "metadata": {},
   "outputs": [
    {
     "name": "stdout",
     "output_type": "stream",
     "text": [
      "\tif ( DST==\"EDT\"){\n",
      "\n",
      "\t\tdocument.getElementById(\"eastern\").innerHTML=tempString.substring(0, tempString.lastIndexOf(\" \"))+\" EDT\";\n",
      "\n",
      "\t\tdocument.getElementById(\"eastern\").innerHTML=tempString.substring(0, tempString.lastIndexOf(\" \"))+\" EST\";\n",
      "\n"
     ]
    }
   ],
   "source": [
    "from urllib.request import urlopen\n",
    "with urlopen('https://www.usno.navy.mil/USNO/time/display-clocks/simpletime') as response:\n",
    "    for line in response:\n",
    "        line = line.decode('utf-8')  # Decoding the binary data to text.\n",
    "        if 'EST' in line or 'EDT' in line:  # look for Eastern Time\n",
    "            print(line)"
   ]
  },
  {
   "cell_type": "markdown",
   "id": "d8e99e61",
   "metadata": {},
   "source": [
    "### 10.8 Dates and Times"
   ]
  },
  {
   "cell_type": "code",
   "execution_count": 79,
   "id": "bcff2f37",
   "metadata": {},
   "outputs": [],
   "source": [
    "from datetime import date"
   ]
  },
  {
   "cell_type": "code",
   "execution_count": 81,
   "id": "ca2da5a6",
   "metadata": {},
   "outputs": [],
   "source": [
    "now = date.today()"
   ]
  },
  {
   "cell_type": "code",
   "execution_count": 82,
   "id": "7f477ccf",
   "metadata": {},
   "outputs": [
    {
     "data": {
      "text/plain": [
       "datetime.date(2021, 7, 25)"
      ]
     },
     "execution_count": 82,
     "metadata": {},
     "output_type": "execute_result"
    }
   ],
   "source": [
    "now"
   ]
  },
  {
   "cell_type": "code",
   "execution_count": 83,
   "id": "950d48a3",
   "metadata": {},
   "outputs": [
    {
     "data": {
      "text/plain": [
       "'07-25-21. 25 Jul 2021 is a Sunday on the 25 day of July.'"
      ]
     },
     "execution_count": 83,
     "metadata": {},
     "output_type": "execute_result"
    }
   ],
   "source": [
    "now.strftime(\"%m-%d-%y. %d %b %Y is a %A on the %d day of %B.\")"
   ]
  },
  {
   "cell_type": "markdown",
   "id": "db441eed",
   "metadata": {},
   "source": [
    "### 10.9 Data Compression"
   ]
  },
  {
   "cell_type": "code",
   "execution_count": 93,
   "id": "db6dcf50",
   "metadata": {},
   "outputs": [],
   "source": [
    "import zlib\n",
    "s = b'witch which has which witches wrist watch'"
   ]
  },
  {
   "cell_type": "code",
   "execution_count": 94,
   "id": "17965421",
   "metadata": {},
   "outputs": [
    {
     "data": {
      "text/plain": [
       "41"
      ]
     },
     "execution_count": 94,
     "metadata": {},
     "output_type": "execute_result"
    }
   ],
   "source": [
    "len(s)"
   ]
  },
  {
   "cell_type": "code",
   "execution_count": 95,
   "id": "74a42c04",
   "metadata": {},
   "outputs": [],
   "source": [
    "t = zlib.compress(s)"
   ]
  },
  {
   "cell_type": "code",
   "execution_count": 96,
   "id": "ba5238bb",
   "metadata": {},
   "outputs": [
    {
     "data": {
      "text/plain": [
       "37"
      ]
     },
     "execution_count": 96,
     "metadata": {},
     "output_type": "execute_result"
    }
   ],
   "source": [
    "len(t)"
   ]
  },
  {
   "cell_type": "code",
   "execution_count": 97,
   "id": "3660606c",
   "metadata": {},
   "outputs": [
    {
     "data": {
      "text/plain": [
       "b'witch which has which witches wrist watch'"
      ]
     },
     "execution_count": 97,
     "metadata": {},
     "output_type": "execute_result"
    }
   ],
   "source": [
    "zlib.decompress(t)"
   ]
  },
  {
   "cell_type": "markdown",
   "id": "f15be40a",
   "metadata": {},
   "source": [
    "### 10.10 Performance Measurement"
   ]
  },
  {
   "cell_type": "code",
   "execution_count": 100,
   "id": "df261156",
   "metadata": {},
   "outputs": [
    {
     "name": "stdout",
     "output_type": "stream",
     "text": [
      "traditional swap: 0.049221451000448724\n",
      "tuple unpacking: 0.04451461099961307\n"
     ]
    }
   ],
   "source": [
    "from timeit import Timer\n",
    "print('traditional swap:', Timer('t=a; a=b; b=t', 'a=1; b=2').timeit())\n",
    "print('tuple unpacking:', Timer('a,b = b,a', 'a=1; b=2').timeit())"
   ]
  },
  {
   "cell_type": "markdown",
   "id": "0d3e4b9b",
   "metadata": {},
   "source": [
    "### 10.11 Quality Control"
   ]
  },
  {
   "cell_type": "code",
   "execution_count": 106,
   "id": "1e5edcb9",
   "metadata": {},
   "outputs": [
    {
     "data": {
      "text/plain": [
       "TestResults(failed=0, attempted=1)"
      ]
     },
     "execution_count": 106,
     "metadata": {},
     "output_type": "execute_result"
    }
   ],
   "source": [
    "def average(values):\n",
    "    \"\"\"Computes the arithmetic mean of a list of numbers.\n",
    "\n",
    "    >>> print(average([20, 30, 70]))\n",
    "    40.0\n",
    "    \"\"\"\n",
    "    return sum(values) / len(values) \n",
    "\n",
    "import doctest\n",
    "doctest.testmod()   # automatically validate the embedded tests"
   ]
  },
  {
   "cell_type": "code",
   "execution_count": 107,
   "id": "dce563b7",
   "metadata": {},
   "outputs": [
    {
     "name": "stderr",
     "output_type": "stream",
     "text": [
      "E\n",
      "======================================================================\n",
      "ERROR: C:\\Users\\barker (unittest.loader._FailedTest)\n",
      "----------------------------------------------------------------------\n",
      "AttributeError: module '__main__' has no attribute 'C:\\Users\\barker'\n",
      "\n",
      "----------------------------------------------------------------------\n",
      "Ran 1 test in 0.002s\n",
      "\n",
      "FAILED (errors=1)\n"
     ]
    },
    {
     "ename": "SystemExit",
     "evalue": "True",
     "output_type": "error",
     "traceback": [
      "An exception has occurred, use %tb to see the full traceback.\n",
      "\u001b[1;31mSystemExit\u001b[0m\u001b[1;31m:\u001b[0m True\n"
     ]
    },
    {
     "name": "stderr",
     "output_type": "stream",
     "text": [
      "C:\\Users\\barker.FRENCH\\AppData\\Local\\Continuum\\anaconda3\\lib\\site-packages\\IPython\\core\\interactiveshell.py:3445: UserWarning: To exit: use 'exit', 'quit', or Ctrl-D.\n",
      "  warn(\"To exit: use 'exit', 'quit', or Ctrl-D.\", stacklevel=1)\n"
     ]
    }
   ],
   "source": [
    "import unittest\n",
    "\n",
    "class TestStatisticalFunctions(unittest.TestCase):\n",
    "\n",
    "    def test_average(self):\n",
    "        self.assertEqual(average([20, 30, 70]), 40.0)\n",
    "        self.assertEqual(round(average([1, 5, 7]), 1), 4.3)\n",
    "        with self.assertRaises(ZeroDivisionError):\n",
    "            average([])\n",
    "        with self.assertRaises(TypeError):\n",
    "            average(20, 30, 70)\n",
    "\n",
    "unittest.main()  # Calling from the command line invokes all tests"
   ]
  },
  {
   "cell_type": "markdown",
   "id": "62b499f4",
   "metadata": {},
   "source": [
    "## 11 Standard Library"
   ]
  },
  {
   "cell_type": "markdown",
   "id": "fe04350f",
   "metadata": {},
   "source": [
    "### 11.1 Output Formatting"
   ]
  },
  {
   "cell_type": "code",
   "execution_count": 1,
   "id": "a02dd29a",
   "metadata": {},
   "outputs": [],
   "source": [
    "import reprlib"
   ]
  },
  {
   "cell_type": "code",
   "execution_count": 2,
   "id": "c1f909f1",
   "metadata": {},
   "outputs": [
    {
     "data": {
      "text/plain": [
       "\"{'a', 'c', 'd', 'e', 'f', 'g', ...}\""
      ]
     },
     "execution_count": 2,
     "metadata": {},
     "output_type": "execute_result"
    }
   ],
   "source": [
    "reprlib.repr(set('supercalifragilisticexpialidocious'))"
   ]
  },
  {
   "cell_type": "code",
   "execution_count": 3,
   "id": "b93b79f4",
   "metadata": {},
   "outputs": [
    {
     "data": {
      "text/plain": [
       "{'a', 'c', 'd', 'e', 'f', 'g', 'i', 'l', 'o', 'p', 'r', 's', 't', 'u', 'x'}"
      ]
     },
     "execution_count": 3,
     "metadata": {},
     "output_type": "execute_result"
    }
   ],
   "source": [
    "set('supercalifragilisticexpialidocious')"
   ]
  },
  {
   "cell_type": "code",
   "execution_count": 4,
   "id": "1f525167",
   "metadata": {},
   "outputs": [],
   "source": [
    "import pprint"
   ]
  },
  {
   "cell_type": "code",
   "execution_count": 5,
   "id": "1b442502",
   "metadata": {},
   "outputs": [],
   "source": [
    "t = [[[['black', 'cyan'], 'white', ['green', 'red']], [['magenta',\n",
    "   'yellow'], 'blue']]]"
   ]
  },
  {
   "cell_type": "code",
   "execution_count": 7,
   "id": "ca5ccce6",
   "metadata": {},
   "outputs": [
    {
     "name": "stdout",
     "output_type": "stream",
     "text": [
      "[[[['black', 'cyan'], 'white', ['green', 'red']], [['magenta', 'yellow'], 'blue']]]\n"
     ]
    }
   ],
   "source": [
    "print(t)"
   ]
  },
  {
   "cell_type": "code",
   "execution_count": 9,
   "id": "d35b994b",
   "metadata": {},
   "outputs": [
    {
     "name": "stdout",
     "output_type": "stream",
     "text": [
      "[[[['black', 'cyan'], 'white', ['green', 'red']],\n",
      "  [['magenta', 'yellow'], 'blue']]]\n"
     ]
    }
   ],
   "source": [
    "pprint.pprint(t)"
   ]
  },
  {
   "cell_type": "code",
   "execution_count": 10,
   "id": "35b8952a",
   "metadata": {},
   "outputs": [],
   "source": [
    "import textwrap\n",
    "doc = \"\"\"The wrap() method is just like fill() except that it returns\n",
    " a list of strings instead of one big string with newlines to separate\n",
    " the wrapped lines.\"\"\""
   ]
  },
  {
   "cell_type": "code",
   "execution_count": 13,
   "id": "368d50b9",
   "metadata": {},
   "outputs": [
    {
     "name": "stdout",
     "output_type": "stream",
     "text": [
      "The wrap() method is\n",
      "just like fill()\n",
      "except that it\n",
      "returns  a list of\n",
      "strings instead of\n",
      "one big string with\n",
      "newlines to separate\n",
      "the wrapped lines.\n"
     ]
    }
   ],
   "source": [
    "print(textwrap.fill(doc,width=20))"
   ]
  },
  {
   "cell_type": "code",
   "execution_count": 14,
   "id": "4a6b50c2",
   "metadata": {},
   "outputs": [],
   "source": [
    "import locale"
   ]
  },
  {
   "cell_type": "code",
   "execution_count": 15,
   "id": "a9144978",
   "metadata": {},
   "outputs": [
    {
     "data": {
      "text/plain": [
       "'English_United States.1252'"
      ]
     },
     "execution_count": 15,
     "metadata": {},
     "output_type": "execute_result"
    }
   ],
   "source": [
    "locale.setlocale(locale.LC_ALL, 'English_United States.1252')"
   ]
  },
  {
   "cell_type": "code",
   "execution_count": 16,
   "id": "fd998a0b",
   "metadata": {},
   "outputs": [],
   "source": [
    "conv = locale.localeconv()"
   ]
  },
  {
   "cell_type": "code",
   "execution_count": 18,
   "id": "afbcb838",
   "metadata": {},
   "outputs": [],
   "source": [
    "x = 123456.8"
   ]
  },
  {
   "cell_type": "code",
   "execution_count": 20,
   "id": "13dcbaea",
   "metadata": {},
   "outputs": [
    {
     "data": {
      "text/plain": [
       "'123,456'"
      ]
     },
     "execution_count": 20,
     "metadata": {},
     "output_type": "execute_result"
    }
   ],
   "source": [
    "locale.format_string(\"%d\",x,grouping=True)"
   ]
  },
  {
   "cell_type": "code",
   "execution_count": 21,
   "id": "3d7de9b0",
   "metadata": {},
   "outputs": [
    {
     "data": {
      "text/plain": [
       "'$123,456.80'"
      ]
     },
     "execution_count": 21,
     "metadata": {},
     "output_type": "execute_result"
    }
   ],
   "source": [
    "locale.format_string(\"%s%.*f\", (conv['currency_symbol'],\n",
    "                   conv['frac_digits'], x), grouping=True)"
   ]
  },
  {
   "cell_type": "markdown",
   "id": "120ae7f7",
   "metadata": {},
   "source": [
    "### 11.2 Templating"
   ]
  },
  {
   "cell_type": "code",
   "execution_count": 29,
   "id": "57c0a45b",
   "metadata": {},
   "outputs": [
    {
     "data": {
      "text/plain": [
       "'Nottinghamfolk send $10 to the ditch fund.'"
      ]
     },
     "execution_count": 29,
     "metadata": {},
     "output_type": "execute_result"
    }
   ],
   "source": [
    "from string import Template\n",
    "t = Template('${village}folk send $$10 to $cause.')\n",
    "t.substitute(village='Nottingham', cause='the ditch fund')\n",
    "'Nottinghamfolk send $10 to the ditch fund.'"
   ]
  },
  {
   "cell_type": "code",
   "execution_count": 31,
   "id": "713ab509",
   "metadata": {},
   "outputs": [
    {
     "data": {
      "text/plain": [
       "'Return the unladen swallow to George.'"
      ]
     },
     "execution_count": 31,
     "metadata": {},
     "output_type": "execute_result"
    }
   ],
   "source": [
    "t = Template('Return the $item to $owner.')\n",
    "d = dict(item='unladen swallow', owner='George')\n",
    "t.substitute(d)"
   ]
  },
  {
   "cell_type": "code",
   "execution_count": 33,
   "id": "feb18e60",
   "metadata": {},
   "outputs": [
    {
     "name": "stdin",
     "output_type": "stream",
     "text": [
      "Enter rename style (%d-date %n-seqnum %f-format):   Barker_%n%f\n"
     ]
    }
   ],
   "source": [
    "import time, os.path\n",
    "photofiles = ['img_1074.jpg', 'img_1076.jpg', 'img_1077.jpg']\n",
    "class BatchRename(Template):\n",
    "    delimiter = '%'\n",
    "fmt = input('Enter rename style (%d-date %n-seqnum %f-format):  ')\n",
    "\n"
   ]
  },
  {
   "cell_type": "code",
   "execution_count": 34,
   "id": "81305c96",
   "metadata": {},
   "outputs": [
    {
     "name": "stdout",
     "output_type": "stream",
     "text": [
      "img_1074.jpg --> Barker_0.jpg\n",
      "img_1076.jpg --> Barker_1.jpg\n",
      "img_1077.jpg --> Barker_2.jpg\n"
     ]
    }
   ],
   "source": [
    "t = BatchRename(fmt)\n",
    "date = time.strftime('%d%b%y')\n",
    "for i, filename in enumerate(photofiles):\n",
    "    base, ext = os.path.splitext(filename)\n",
    "    newname = t.substitute(d=date, n=i, f=ext)\n",
    "    print('{0} --> {1}'.format(filename, newname))"
   ]
  },
  {
   "cell_type": "markdown",
   "id": "712fbeab",
   "metadata": {},
   "source": [
    "### 11.5 Logging"
   ]
  },
  {
   "cell_type": "code",
   "execution_count": 37,
   "id": "4529cc12",
   "metadata": {},
   "outputs": [],
   "source": [
    "import logging\n",
    "logging.debug('Debugging information')"
   ]
  },
  {
   "cell_type": "code",
   "execution_count": 38,
   "id": "d505489f",
   "metadata": {},
   "outputs": [
    {
     "name": "stderr",
     "output_type": "stream",
     "text": [
      "WARNING:root:Warning:config file server.conf not found\n",
      "ERROR:root:Error occurred\n",
      "CRITICAL:root:Critical error -- shutting down\n"
     ]
    }
   ],
   "source": [
    "logging.info('Informational message')\n",
    "logging.warning('Warning:config file %s not found', 'server.conf')\n",
    "logging.error('Error occurred')\n",
    "logging.critical('Critical error -- shutting down')"
   ]
  },
  {
   "cell_type": "markdown",
   "id": "725582b4",
   "metadata": {},
   "source": [
    "### 11.6 Weak References"
   ]
  },
  {
   "cell_type": "code",
   "execution_count": 40,
   "id": "f5ca8e0a",
   "metadata": {},
   "outputs": [
    {
     "ename": "KeyError",
     "evalue": "'primary'",
     "output_type": "error",
     "traceback": [
      "\u001b[1;31m---------------------------------------------------------------------------\u001b[0m",
      "\u001b[1;31mKeyError\u001b[0m                                  Traceback (most recent call last)",
      "\u001b[1;32m<ipython-input-40-953f7709468e>\u001b[0m in \u001b[0;36m<module>\u001b[1;34m\u001b[0m\n\u001b[0;32m     12\u001b[0m \u001b[1;32mdel\u001b[0m \u001b[0ma\u001b[0m                       \u001b[1;31m# remove the one reference\u001b[0m\u001b[1;33m\u001b[0m\u001b[1;33m\u001b[0m\u001b[0m\n\u001b[0;32m     13\u001b[0m \u001b[0mgc\u001b[0m\u001b[1;33m.\u001b[0m\u001b[0mcollect\u001b[0m\u001b[1;33m(\u001b[0m\u001b[1;33m)\u001b[0m                \u001b[1;31m# run garbage collection right away\u001b[0m\u001b[1;33m\u001b[0m\u001b[1;33m\u001b[0m\u001b[0m\n\u001b[1;32m---> 14\u001b[1;33m \u001b[0md\u001b[0m\u001b[1;33m[\u001b[0m\u001b[1;34m'primary'\u001b[0m\u001b[1;33m]\u001b[0m                \u001b[1;31m# entry was automatically removed\u001b[0m\u001b[1;33m\u001b[0m\u001b[1;33m\u001b[0m\u001b[0m\n\u001b[0m",
      "\u001b[1;32m~\\AppData\\Local\\Continuum\\anaconda3\\lib\\weakref.py\u001b[0m in \u001b[0;36m__getitem__\u001b[1;34m(self, key)\u001b[0m\n\u001b[0;32m    135\u001b[0m         \u001b[1;32mif\u001b[0m \u001b[0mself\u001b[0m\u001b[1;33m.\u001b[0m\u001b[0m_pending_removals\u001b[0m\u001b[1;33m:\u001b[0m\u001b[1;33m\u001b[0m\u001b[1;33m\u001b[0m\u001b[0m\n\u001b[0;32m    136\u001b[0m             \u001b[0mself\u001b[0m\u001b[1;33m.\u001b[0m\u001b[0m_commit_removals\u001b[0m\u001b[1;33m(\u001b[0m\u001b[1;33m)\u001b[0m\u001b[1;33m\u001b[0m\u001b[1;33m\u001b[0m\u001b[0m\n\u001b[1;32m--> 137\u001b[1;33m         \u001b[0mo\u001b[0m \u001b[1;33m=\u001b[0m \u001b[0mself\u001b[0m\u001b[1;33m.\u001b[0m\u001b[0mdata\u001b[0m\u001b[1;33m[\u001b[0m\u001b[0mkey\u001b[0m\u001b[1;33m]\u001b[0m\u001b[1;33m(\u001b[0m\u001b[1;33m)\u001b[0m\u001b[1;33m\u001b[0m\u001b[1;33m\u001b[0m\u001b[0m\n\u001b[0m\u001b[0;32m    138\u001b[0m         \u001b[1;32mif\u001b[0m \u001b[0mo\u001b[0m \u001b[1;32mis\u001b[0m \u001b[1;32mNone\u001b[0m\u001b[1;33m:\u001b[0m\u001b[1;33m\u001b[0m\u001b[1;33m\u001b[0m\u001b[0m\n\u001b[0;32m    139\u001b[0m             \u001b[1;32mraise\u001b[0m \u001b[0mKeyError\u001b[0m\u001b[1;33m(\u001b[0m\u001b[0mkey\u001b[0m\u001b[1;33m)\u001b[0m\u001b[1;33m\u001b[0m\u001b[1;33m\u001b[0m\u001b[0m\n",
      "\u001b[1;31mKeyError\u001b[0m: 'primary'"
     ]
    }
   ],
   "source": [
    "import weakref, gc\n",
    "class A:\n",
    "    def __init__(self, value):\n",
    "        self.value = value\n",
    "    def __repr__(self):\n",
    "        return str(self.value)\n",
    "\n",
    "a = A(10)                   # create a reference\n",
    "d = weakref.WeakValueDictionary()\n",
    "d['primary'] = a            # does not create a reference\n",
    "d['primary']                # fetch the object if it is still alive\n",
    "del a                       # remove the one reference\n",
    "gc.collect()                # run garbage collection right away\n",
    "d['primary']                # entry was automatically removed"
   ]
  },
  {
   "cell_type": "code",
   "execution_count": 41,
   "id": "d7c977f6",
   "metadata": {},
   "outputs": [
    {
     "data": {
      "text/plain": [
       "26932"
      ]
     },
     "execution_count": 41,
     "metadata": {},
     "output_type": "execute_result"
    }
   ],
   "source": [
    "from array import array\n",
    "a = array('H', [4000, 10, 700, 22222])\n",
    "sum(a)"
   ]
  },
  {
   "cell_type": "code",
   "execution_count": 42,
   "id": "22ac8d22",
   "metadata": {},
   "outputs": [
    {
     "data": {
      "text/plain": [
       "array('H', [10, 700])"
      ]
     },
     "execution_count": 42,
     "metadata": {},
     "output_type": "execute_result"
    }
   ],
   "source": [
    "a[1:3]"
   ]
  },
  {
   "cell_type": "code",
   "execution_count": 44,
   "id": "b415eff3",
   "metadata": {},
   "outputs": [
    {
     "name": "stdout",
     "output_type": "stream",
     "text": [
      "Handling task1\n"
     ]
    }
   ],
   "source": [
    "from collections import deque\n",
    "d = deque([\"task1\", \"task2\", \"task3\"])\n",
    "d.append(\"task4\")\n",
    "print(\"Handling\", d.popleft())"
   ]
  },
  {
   "cell_type": "code",
   "execution_count": 45,
   "id": "1c7f88e3",
   "metadata": {},
   "outputs": [
    {
     "ename": "NameError",
     "evalue": "name 'starting_node' is not defined",
     "output_type": "error",
     "traceback": [
      "\u001b[1;31m---------------------------------------------------------------------------\u001b[0m",
      "\u001b[1;31mNameError\u001b[0m                                 Traceback (most recent call last)",
      "\u001b[1;32m<ipython-input-45-63581c608975>\u001b[0m in \u001b[0;36m<module>\u001b[1;34m\u001b[0m\n\u001b[1;32m----> 1\u001b[1;33m \u001b[0munsearched\u001b[0m \u001b[1;33m=\u001b[0m \u001b[0mdeque\u001b[0m\u001b[1;33m(\u001b[0m\u001b[1;33m[\u001b[0m\u001b[0mstarting_node\u001b[0m\u001b[1;33m]\u001b[0m\u001b[1;33m)\u001b[0m\u001b[1;33m\u001b[0m\u001b[1;33m\u001b[0m\u001b[0m\n\u001b[0m\u001b[0;32m      2\u001b[0m \u001b[1;32mdef\u001b[0m \u001b[0mbreadth_first_search\u001b[0m\u001b[1;33m(\u001b[0m\u001b[0munsearched\u001b[0m\u001b[1;33m)\u001b[0m\u001b[1;33m:\u001b[0m\u001b[1;33m\u001b[0m\u001b[1;33m\u001b[0m\u001b[0m\n\u001b[0;32m      3\u001b[0m     \u001b[0mnode\u001b[0m \u001b[1;33m=\u001b[0m \u001b[0munsearched\u001b[0m\u001b[1;33m.\u001b[0m\u001b[0mpopleft\u001b[0m\u001b[1;33m(\u001b[0m\u001b[1;33m)\u001b[0m\u001b[1;33m\u001b[0m\u001b[1;33m\u001b[0m\u001b[0m\n\u001b[0;32m      4\u001b[0m     \u001b[1;32mfor\u001b[0m \u001b[0mm\u001b[0m \u001b[1;32min\u001b[0m \u001b[0mgen_moves\u001b[0m\u001b[1;33m(\u001b[0m\u001b[0mnode\u001b[0m\u001b[1;33m)\u001b[0m\u001b[1;33m:\u001b[0m\u001b[1;33m\u001b[0m\u001b[1;33m\u001b[0m\u001b[0m\n\u001b[0;32m      5\u001b[0m         \u001b[1;32mif\u001b[0m \u001b[0mis_goal\u001b[0m\u001b[1;33m(\u001b[0m\u001b[0mm\u001b[0m\u001b[1;33m)\u001b[0m\u001b[1;33m:\u001b[0m\u001b[1;33m\u001b[0m\u001b[1;33m\u001b[0m\u001b[0m\n",
      "\u001b[1;31mNameError\u001b[0m: name 'starting_node' is not defined"
     ]
    }
   ],
   "source": [
    "unsearched = deque([starting_node])\n",
    "def breadth_first_search(unsearched):\n",
    "    node = unsearched.popleft()\n",
    "    for m in gen_moves(node):\n",
    "        if is_goal(m):\n",
    "            return m\n",
    "        unsearched.append(m)"
   ]
  },
  {
   "cell_type": "code",
   "execution_count": 48,
   "id": "4782c1ab",
   "metadata": {},
   "outputs": [
    {
     "data": {
      "text/plain": [
       "[(100, 'perl'), (200, 'tcl'), (300, 'ruby'), (400, 'lua'), (500, 'python')]"
      ]
     },
     "execution_count": 48,
     "metadata": {},
     "output_type": "execute_result"
    }
   ],
   "source": [
    "import bisect\n",
    "scores = [(100, 'perl'), (200, 'tcl'), (400, 'lua'), (500, 'python')]\n",
    "bisect.insort(scores, (300, 'ruby'))\n",
    "scores"
   ]
  },
  {
   "cell_type": "code",
   "execution_count": 49,
   "id": "6da3fe72",
   "metadata": {},
   "outputs": [
    {
     "data": {
      "text/plain": [
       "[-5, 0, 1]"
      ]
     },
     "execution_count": 49,
     "metadata": {},
     "output_type": "execute_result"
    }
   ],
   "source": [
    "from heapq import heapify, heappop, heappush\n",
    "data = [1, 3, 5, 7, 9, 2, 4, 6, 8, 0]\n",
    "heapify(data)                      # rearrange the list into heap order\n",
    "heappush(data, -5)                 # add a new entry\n",
    "[heappop(data) for i in range(3)]  # fetch the three smallest entries"
   ]
  },
  {
   "cell_type": "markdown",
   "id": "1288512b",
   "metadata": {},
   "source": [
    "### 11.8 Decimal Floating Point Arithmetic"
   ]
  },
  {
   "cell_type": "code",
   "execution_count": 50,
   "id": "cf5849aa",
   "metadata": {},
   "outputs": [
    {
     "data": {
      "text/plain": [
       "Decimal('0.74')"
      ]
     },
     "execution_count": 50,
     "metadata": {},
     "output_type": "execute_result"
    }
   ],
   "source": [
    "from decimal import *\n",
    "round(Decimal('0.70') * Decimal('1.05'), 2)"
   ]
  },
  {
   "cell_type": "code",
   "execution_count": 51,
   "id": "84485bc8",
   "metadata": {},
   "outputs": [
    {
     "data": {
      "text/plain": [
       "0.73"
      ]
     },
     "execution_count": 51,
     "metadata": {},
     "output_type": "execute_result"
    }
   ],
   "source": [
    "round(.70 * 1.05, 2)"
   ]
  },
  {
   "cell_type": "code",
   "execution_count": 52,
   "id": "8a9d2b45",
   "metadata": {},
   "outputs": [
    {
     "data": {
      "text/plain": [
       "Decimal('0.142857142857142857142857142857142857')"
      ]
     },
     "execution_count": 52,
     "metadata": {},
     "output_type": "execute_result"
    }
   ],
   "source": [
    "getcontext().prec = 36\n",
    "Decimal(1) / Decimal(7)"
   ]
  },
  {
   "cell_type": "markdown",
   "id": "1ffd1ff8",
   "metadata": {},
   "source": [
    "### 12. Virtual Environments and Packages"
   ]
  },
  {
   "cell_type": "markdown",
   "id": "d14d11c7",
   "metadata": {},
   "source": [
    "Python applications will often use packages and modules that don’t come as part of the standard library. Applications will sometimes need a specific version of a library, because the application may require that a particular bug has been fixed or the application may be written using an obsolete version of the library’s interface.\n",
    "\n",
    "This means it may not be possible for one Python installation to meet the requirements of every application. If application A needs version 1.0 of a particular module but application B needs version 2.0, then the requirements are in conflict and installing either version 1.0 or 2.0 will leave one application unable to run.\n",
    "\n",
    "To resolve the earlier example of conflicting requirements, application A can have its own virtual environment with version 1.0 installed while application B has another virtual environment with version 2.0. If application B requires a library be upgraded to version 3.0, this will not affect application A’s environment."
   ]
  },
  {
   "cell_type": "code",
   "execution_count": null,
   "id": "093ba795",
   "metadata": {},
   "outputs": [],
   "source": []
  }
 ],
 "metadata": {
  "kernelspec": {
   "display_name": "Python 3",
   "language": "python",
   "name": "python3"
  },
  "language_info": {
   "codemirror_mode": {
    "name": "ipython",
    "version": 3
   },
   "file_extension": ".py",
   "mimetype": "text/x-python",
   "name": "python",
   "nbconvert_exporter": "python",
   "pygments_lexer": "ipython3",
   "version": "3.7.10"
  }
 },
 "nbformat": 4,
 "nbformat_minor": 5
}
